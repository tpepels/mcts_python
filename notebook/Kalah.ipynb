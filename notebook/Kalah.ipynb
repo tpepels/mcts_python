{
 "cells": [
  {
   "cell_type": "code",
   "execution_count": 7,
   "metadata": {},
   "outputs": [
    {
     "name": "stdout",
     "output_type": "stream",
     "text": [
      "Move 0 by 1 leads to a terminal position!\n",
      "Player 1's store: 26\n",
      " 0 (5)  0 (4)  0 (3)  0 (2)  0 (1)  1 (0)\n",
      " 0 (7)  1 (8)  0 (9)  0 (10)  1 (11)  0 (12)\n",
      "Player 2's store: 19\n",
      "Resulting in gamestate:\n",
      "Player 1's store: 28\n",
      " 0 (5)  0 (4)  0 (3)  0 (2)  0 (1)  0 (0)\n",
      " 0 (7)  0 (8)  0 (9)  0 (10)  0 (11)  0 (12)\n",
      "Player 2's store: 20\n",
      "-==--==--==--==--==--==-\n",
      "*****\n",
      "Player: 2 | 0 actions: []\n",
      "Reward: 1, Terminal: True\n",
      "\n",
      "Player 1's store: 28\n",
      " 0 (5)  0 (4)  0 (3)  0 (2)  0 (1)  0 (0)\n",
      " 0 (7)  0 (8)  0 (9)  0 (10)  0 (11)  0 (12)\n",
      "Player 2's store: 20\n"
     ]
    }
   ],
   "source": [
    "from games.kalah import *\n",
    "import random\n",
    "\n",
    "state = KalahGameState()\n",
    "\n",
    "for n in range(100):  # Do 100 random actions on the board\n",
    "    if state.is_terminal():\n",
    "        break\n",
    "    actions = state.get_legal_actions()\n",
    "    action = random.sample(actions, 1)\n",
    "    # print(f\"Player {state.player} action {action}\")    \n",
    "    state = state.apply_action(*action)\n",
    "    # print(visualize_kalah(state))\n",
    "\n",
    "moves = state.get_legal_actions()\n",
    "\n",
    "print(\"*\"*5)\n",
    "print(f\"Player: {state.player} | {len(moves)} actions: {state.get_legal_actions()}\")\n",
    "print(f\"Reward: {state.get_reward()}, Terminal: {state.is_terminal()}\\n\")\n",
    "print(visualize_kalah(state))"
   ]
  },
  {
   "cell_type": "code",
   "execution_count": 31,
   "metadata": {},
   "outputs": [
    {
     "name": "stdout",
     "output_type": "stream",
     "text": [
      "rounds=1\n",
      "remaining_steps=11\n",
      "(remaining_steps + start)=23\n",
      "(remaining_steps + start) % size =10\n"
     ]
    },
    {
     "data": {
      "text/plain": [
       "2"
      ]
     },
     "execution_count": 31,
     "metadata": {},
     "output_type": "execute_result"
    }
   ],
   "source": [
    "def count_passes(seeds, size, start, k):\n",
    "    \n",
    "    rounds = seeds // size\n",
    "    \n",
    "    print(f\"{rounds=}\")\n",
    "    remaining_steps = seeds % size\n",
    "    \n",
    "    print(f\"{remaining_steps=}\")\n",
    "    print(f\"{(remaining_steps + start)=}\")\n",
    "    print(f\"{(remaining_steps + start) % size =}\")\n",
    "    \n",
    "    if (start >= k and (remaining_steps + start) >= k) or (start < k and remaining_steps + start >= size + k):\n",
    "        rounds += 1\n",
    "    return rounds\n",
    "\n",
    "count_passes(24, 13, 12, 6)"
   ]
  }
 ],
 "metadata": {
  "kernelspec": {
   "display_name": "Python 3",
   "language": "python",
   "name": "python3"
  },
  "language_info": {
   "codemirror_mode": {
    "name": "ipython",
    "version": 3
   },
   "file_extension": ".py",
   "mimetype": "text/x-python",
   "name": "python",
   "nbconvert_exporter": "python",
   "pygments_lexer": "ipython3",
   "version": "3.9.6"
  },
  "orig_nbformat": 4
 },
 "nbformat": 4,
 "nbformat_minor": 2
}
