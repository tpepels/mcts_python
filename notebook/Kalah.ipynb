{
 "cells": [
  {
   "cell_type": "code",
   "execution_count": 10,
   "metadata": {},
   "outputs": [
    {
     "name": "stdout",
     "output_type": "stream",
     "text": [
      "-*--*--*--*--*--*--*--*-\n",
      "Player 1's store: 15\n",
      " 5 (5)  2 (4)  1 (3)  1 (2)  0 (1)  0 (0)\n",
      " 0 (7)  5 (8)  2 (9)  3 (10)  4 (11)  0 (12)\n",
      "Player 2's store: 10\n",
      "-*--*--*--*--*--*--*--*-\n",
      "Player: 1 | 4 actions: [2, 3, 4, 5]\n",
      "Reward: 0, Terminal: False\n",
      "-*--*--*--*--*--*--*--*-\n",
      "Simple Eval P1: 5 P2: -5\n",
      "Player double move 4\n",
      "Opp double move 4\n",
      "Enhanced Eval P1: 0.5370495669980352 P2: -0.5370495669980352\n"
     ]
    }
   ],
   "source": [
    "from games.kalah import *\n",
    "import random\n",
    "\n",
    "state = KalahGameState()\n",
    "for n in range(30):  # Do random actions on the board\n",
    "    if state.is_terminal():\n",
    "        break\n",
    "    actions = state.get_legal_actions()\n",
    "    action = random.sample(actions, 1)\n",
    "    state = state.apply_action(*action)\n",
    "\n",
    "actions = state.get_legal_actions()\n",
    "print(\"-*-\"*8)\n",
    "print(visualize_kalah(state))\n",
    "print(\"-*-\"*8)\n",
    "print(f\"Player: {state.player} | {len(actions)} actions: {state.get_legal_actions()}\")\n",
    "print(f\"Reward: {state.get_reward()}, Terminal: {state.is_terminal()}\")\n",
    "# --------------- Evaluation -------------------\n",
    "print(\"-*-\"*8)\n",
    "simple_eval_1 = simple_evaluation_function(state, 1)\n",
    "simple_eval_2 = simple_evaluation_function(state, 2)\n",
    "print(f\"Simple Eval P1: {simple_eval_1} P2: {simple_eval_2}\")\n",
    "enhanced_eval_1 = enhanced_evaluation_function(state, 1)\n",
    "enhanced_eval_2 = enhanced_evaluation_function(state, 2)\n",
    "print(f\"Enhanced Eval P1: {enhanced_eval_1} P2: {enhanced_eval_2}\")\n"
   ]
  },
  {
   "cell_type": "code",
   "execution_count": 6,
   "metadata": {},
   "outputs": [
    {
     "data": {
      "text/plain": [
       "[0, 1, 2, 3, 4, 5, 6]"
      ]
     },
     "execution_count": 6,
     "metadata": {},
     "output_type": "execute_result"
    }
   ],
   "source": [
    "list(range(0, 7))"
   ]
  },
  {
   "cell_type": "code",
   "execution_count": 4,
   "metadata": {},
   "outputs": [
    {
     "name": "stdout",
     "output_type": "stream",
     "text": [
      "Player 1's store:  6\n",
      " 1 (5)  0 (4)  2 (3) 10 (2)  1 (1) 10 (0)\n",
      " 3 (7)  1 (8)  0 (9)  2 (10)  5 (11)  0 (12)\n",
      "Player 2's store:  7\n",
      "state.is_capture(move)=True move: 3\n",
      " *  *  *  *  * \n",
      "move=3 seeds=2 last_index=5 total_steps=5 passes=0 opp=7 passed_opp=False\n",
      "False\n"
     ]
    }
   ],
   "source": [
    "print(visualize_kalah(state))\n",
    "# state.board[10] = 5\n",
    "move=3\n",
    "seeds=state.board[move]\n",
    "k = 6 if state.player == 2 else 13\n",
    "size = 13\n",
    "\n",
    "print(f\"{state.is_capture(move)=} move: {move}\\n{' * '*5}\")\n",
    "\n",
    "size = len(state.board)\n",
    "passes = count_passes(\n",
    "    seeds=seeds,\n",
    "    move=move,\n",
    "    k=6 if state.player == 2 else 13,\n",
    "    size=size,\n",
    ")\n",
    "# Calculate total steps considering the opponent's store\n",
    "total_steps = move + seeds + passes\n",
    "last_index = total_steps % (13 + passes)  # And, finally the index where the last stone is dropped\n",
    "if state.player == 2:\n",
    "    last_index -= 1\n",
    "\n",
    "opp = 12 - last_index\n",
    "passed_opp = total_steps > opp if move < opp else total_steps > size + opp\n",
    "\n",
    "print(f\"{move=} {seeds=} {last_index=} {total_steps=} {passes=} {opp=} {passed_opp=}\")\n",
    "\n",
    "\n",
    "cap = (state.board[last_index] == 0 or last_index == move) and (\n",
    "            (state.player == 1 and 0 <= last_index <= 5) or (state.player == 2 and 7 <= last_index <= 12)\n",
    "        ) and state.board[opp] > 0 or passed_opp\n",
    "print(cap)\n",
    "# TODO Evaluatie functies testen en afmaken"
   ]
  }
 ],
 "metadata": {
  "kernelspec": {
   "display_name": "Python 3",
   "language": "python",
   "name": "python3"
  },
  "language_info": {
   "codemirror_mode": {
    "name": "ipython",
    "version": 3
   },
   "file_extension": ".py",
   "mimetype": "text/x-python",
   "name": "python",
   "nbconvert_exporter": "python",
   "pygments_lexer": "ipython3",
   "version": "3.9.6"
  },
  "orig_nbformat": 4
 },
 "nbformat": 4,
 "nbformat_minor": 2
}
