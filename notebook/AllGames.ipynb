{
 "cells": [
  {
   "cell_type": "markdown",
   "metadata": {},
   "source": [
    "***Breakthrough***"
   ]
  },
  {
   "cell_type": "code",
   "execution_count": null,
   "metadata": {},
   "outputs": [],
   "source": [
    "from games.breakthrough import *\n",
    "import random\n",
    "\n",
    "state = BreakthroughGameState()\n",
    "for n in range(35):  # Do some random actions on the board\n",
    "    if state.is_terminal():\n",
    "        break\n",
    "    actions = state.get_legal_actions()\n",
    "    state = state.apply_action(random.choice(actions))\n",
    "\n",
    "print(state.visualize(full_debug=True))"
   ]
  },
  {
   "cell_type": "markdown",
   "metadata": {},
   "source": [
    "***Amazons***"
   ]
  },
  {
   "cell_type": "code",
   "execution_count": null,
   "metadata": {},
   "outputs": [],
   "source": [
    "from games.amazons import *\n",
    "import random\n",
    "\n",
    "state:AmazonsGameState = AmazonsGameState(board_size=8)\n",
    "N_turns = 50\n",
    "turn = 0\n",
    "while not state.is_terminal() and turn < N_turns:\n",
    "    turn += 1\n",
    "    state = state.apply_action(random.choice(actions))\n",
    "        \n",
    "print(state.visualize(full_debug=True))"
   ]
  },
  {
   "cell_type": "markdown",
   "metadata": {},
   "source": [
    "***Kalah***"
   ]
  },
  {
   "cell_type": "code",
   "execution_count": null,
   "metadata": {},
   "outputs": [],
   "source": [
    "from games.kalah import *\n",
    "import random\n",
    "\n",
    "state = KalahGameState()\n",
    "for n in range(10):  # Do random actions on the board\n",
    "    if state.is_terminal():\n",
    "        break\n",
    "    \n",
    "    actions = state.get_legal_actions()\n",
    "    state = state.apply_action(random.choice(actions))\n",
    "\n",
    "print(state.visualize(full_debug=True))"
   ]
  },
  {
   "cell_type": "markdown",
   "metadata": {},
   "source": [
    "***TicTacToe/n In A Row***"
   ]
  },
  {
   "cell_type": "code",
   "execution_count": 6,
   "metadata": {},
   "outputs": [
    {
     "name": "stdout",
     "output_type": "stream",
     "text": [
      "    0   1   2   3   4   5   6   7   8\n",
      "    ------------------------------------\n",
      "0     |   |   |   |   |   |   | X |  \n",
      "    ------------------------------------\n",
      "1     |   |   |   |   |   |   |   |  \n",
      "    ------------------------------------\n",
      "2     |   |   |   |   |   |   |   |  \n",
      "    ------------------------------------\n",
      "3     |   |   |   |   |   |   |   |  \n",
      "    ------------------------------------\n",
      "4     |   |   |   |   | O |   |   | O\n",
      "    ------------------------------------\n",
      "5     | O |   |   | X |   | X |   |  \n",
      "    ------------------------------------\n",
      "6     |   |   |   |   |   | O |   |  \n",
      "    ------------------------------------\n",
      "7     | X |   | X |   |   |   |   |  \n",
      "    ------------------------------------\n",
      "8     |   |   |   |   |   |   |   | O\n",
      "hash: 9712717109673188523\n",
      "Player: 1 | 10 moves made\n",
      "Reward: (None/None), Terminal: True\n",
      "71 last_move: (4, 5) actions: [(0, 0), (0, 1), (0, 2), (0, 3), (0, 4), (0, 5), (0, 6), (0, 8), (1, 0), (1, 1), (1, 2), (1, 3), (1, 4), (1, 5), (1, 6), (1, 7), (1, 8), (2, 0), (2, 1), (2, 2), (2, 3), (2, 4), (2, 5), (2, 6), (2, 7), (2, 8), (3, 0), (3, 1), (3, 2), (3, 3), (3, 4), (3, 5), (3, 6), (3, 7), (3, 8), (4, 0), (4, 1), (4, 2), (4, 3), (4, 4), (4, 6), (4, 7), (5, 0), (5, 2), (5, 3), (5, 5), (5, 7), (5, 8), (6, 0), (6, 1), (6, 2), (6, 3), (6, 4), (6, 5), (6, 7), (6, 8), (7, 0), (7, 2), (7, 4), (7, 5), (7, 6), (7, 7), (7, 8), (8, 0), (8, 1), (8, 2), (8, 3), (8, 4), (8, 5), (8, 6), (8, 7)]\n",
      "Ev P1: 0.0\n",
      "Ev P2: 0.0\n",
      "Simple P1: 0\n",
      "Simple P2: 0\n",
      "....................................................................................................................................................................................\n",
      "[((5, 5), 5.0), ((6, 2), 5.0), ((6, 3), 5.0), ((6, 4), 5.0), ((6, 5), 5.0), ((4, 4), 4.0), ((7, 2), 4.0), ((8, 2), 4.0), ((4, 3), 3.0), ((4, 6), 3.0), ((4, 7), 3.0), ((5, 3), 3.0), ((5, 7), 3.0), ((7, 4), 3.0), ((8, 4), 3.0), ((0, 6), 2.0), ((0, 8), 2.0), ((1, 6), 2.0), ((1, 7), 2.0), ((1, 8), 2.0), ((6, 0), 2.0), ((6, 1), 2.0), ((6, 7), 2.0), ((7, 0), 2.0), ((8, 0), 2.0), ((8, 1), 2.0), ((8, 3), 2.0), ((0, 4), 1.0), ((1, 3), 1.0), ((1, 4), 1.0), ((1, 5), 1.0), ((2, 2), 1.0), ((2, 3), 1.0), ((2, 4), 1.0), ((2, 5), 1.0), ((2, 6), 1.0), ((3, 1), 1.0), ((3, 2), 1.0), ((3, 3), 1.0), ((3, 4), 1.0), ((3, 5), 1.0), ((3, 6), 1.0), ((3, 7), 1.0), ((4, 0), 1.0), ((4, 1), 1.0), ((4, 2), 1.0), ((5, 2), 1.0), ((7, 5), 1.0), ((0, 0), 0.0), ((0, 1), 0.0), ((0, 2), 0.0), ((0, 3), 0.0), ((0, 5), 0.0), ((1, 0), 0.0), ((1, 1), 0.0), ((1, 2), 0.0), ((2, 0), 0.0), ((2, 1), 0.0), ((2, 7), 0.0), ((2, 8), 0.0), ((3, 0), 0.0), ((3, 8), 0.0), ((5, 0), 0.0), ((5, 8), 0.0), ((6, 8), 0.0), ((7, 6), 0.0), ((7, 7), 0.0), ((7, 8), 0.0), ((8, 5), 0.0), ((8, 6), 0.0), ((8, 7), 0.0)]\n"
     ]
    }
   ],
   "source": [
    "from games.tictactoe import *\n",
    "import random\n",
    "\n",
    "state = TicTacToeGameState(board_size=9, row_length=5)\n",
    "for n in range(16):  # Do some random actions on the board\n",
    "    if state.is_terminal():\n",
    "        break\n",
    "    \n",
    "    actions = state.get_legal_actions()\n",
    "    state = state.apply_action(random.choice(actions))\n",
    "    \n",
    "print(state.visualize(full_debug=True))"
   ]
  },
  {
   "cell_type": "markdown",
   "metadata": {},
   "source": [
    "***Blokus***"
   ]
  },
  {
   "cell_type": "code",
   "execution_count": null,
   "metadata": {},
   "outputs": [],
   "source": [
    "from games.blokus import *\n",
    "import random\n",
    "\n",
    "state = BlokusGameState()\n",
    "for n in range(10):  # Do some random actions on the board\n",
    "    if state.is_terminal():\n",
    "        break\n",
    "    \n",
    "    actions = state.get_legal_actions()\n",
    "    state = state.apply_action(random.choice(actions))\n",
    "    \n",
    "print(state.visualize(full_debug=True))"
   ]
  },
  {
   "cell_type": "code",
   "execution_count": null,
   "metadata": {},
   "outputs": [],
   "source": [
    "for offset in range(-1, -5, -1):\n",
    "    print(offset)"
   ]
  }
 ],
 "metadata": {
  "kernelspec": {
   "display_name": "Python 3",
   "language": "python",
   "name": "python3"
  },
  "language_info": {
   "codemirror_mode": {
    "name": "ipython",
    "version": 3
   },
   "file_extension": ".py",
   "mimetype": "text/x-python",
   "name": "python",
   "nbconvert_exporter": "python",
   "pygments_lexer": "ipython3",
   "version": "3.11.3"
  },
  "orig_nbformat": 4
 },
 "nbformat": 4,
 "nbformat_minor": 2
}
