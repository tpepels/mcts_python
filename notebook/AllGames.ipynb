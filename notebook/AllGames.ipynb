{
 "cells": [
  {
   "cell_type": "markdown",
   "metadata": {},
   "source": [
    "***Breakthrough***"
   ]
  },
  {
   "cell_type": "code",
   "execution_count": null,
   "metadata": {},
   "outputs": [],
   "source": [
    "!python setup.py build_ext --inplace"
   ]
  },
  {
   "cell_type": "code",
   "execution_count": 15,
   "metadata": {},
   "outputs": [
    {
     "name": "stdout",
     "output_type": "stream",
     "text": [
      "1 B B B B B B B B\n",
      "2 . . . . B . . .\n",
      "3 . . W . . . . .\n",
      "4 . . W B . B B .\n",
      "5 . . . . W . . .\n",
      "6 W . . . W W . .\n",
      "7 W . . W . . W W\n",
      "8 W W . . W W . .\n",
      "  A B C D E F G H\n",
      "Player: 2\n",
      "Hash: 2202776387069982090\n",
      "Reward: 0/0, Terminal: False\n",
      "31 actions: A1 -> A2,A1 -> B2,B1 -> A2,B1 -> B2,B1 -> C2,C1 -> B2,C1 -> C2,C1 -> D2,D1 -> C2,D1 -> D2,E1 -> D2,E1 -> F2,F1 -> F2,F1 -> G2,G1 -> F2,G1 -> G2,G1 -> H2,H1 -> G2,H1 -> H2,E2 -> D3,E2 -> E3,E2 -> F3,D4 -> C5,D4 -> D5,D4 -> E5,F4 -> E5,F4 -> F5,F4 -> G5,G4 -> F5,G4 -> G5,G4 -> H5\n",
      "Simple evaluation: -4.5/5.0\n",
      "Lorenz evaluation: -84.7/77.0\n",
      "Normalized:Simple evaluation: -0.22127846789844396/0.24491866240370913\n",
      "Lorenz evaluation: -0.042324699591294236/0.03848098906317156\n",
      "# white pieces: 14 | # black pieces: 12\n",
      "is endgame: False\n",
      "....................................................................................................................................................................................\n",
      "White has 10 capture value, black has 20.\n",
      "....................................................................................................................................................................................\n",
      "D4 - black is not safe\n",
      "F4 - black is not safe\n",
      "E5 - white is not safe\n",
      "....................................................................................................................................................................................\n",
      "Player 1 decisive: 0, Player 2 decisive: 0\n",
      "....................................................................................................................................................................................\n",
      "....................................................................................................................................................................................\n",
      "[('D4 -> E5', 3362), ('F4 -> E5', 3362), ('D4 -> C5', 82), ('F4 -> F5', 82), ('F4 -> G5', 82), ('G4 -> F5', 82), ('G4 -> G5', 82), ('E2 -> D3', 78), ('E2 -> E3', 78), ('E2 -> F3', 78), ('G4 -> H5', 74), ('A1 -> B2', 68), ('D1 -> C2', 68), ('D1 -> D2', 68), ('E1 -> D2', 68), ('E1 -> F2', 68), ('H1 -> G2', 68), ('A1 -> A2', 66), ('H1 -> H2', 66), ('B1 -> B2', 48), ('B1 -> C2', 48), ('C1 -> B2', 48), ('C1 -> C2', 48), ('C1 -> D2', 48), ('F1 -> F2', 48), ('F1 -> G2', 48), ('G1 -> F2', 48), ('G1 -> G2', 48), ('B1 -> A2', 46), ('G1 -> H2', 46), ('D4 -> D5', 41)]\n",
      "....................................................................................................................................................................................\n",
      "A1 - black piece mobility: 2\n",
      "B1 - black piece mobility: 3\n",
      "C1 - black piece mobility: 3\n",
      "D1 - black piece mobility: 2\n",
      "E1 - black piece mobility: 2\n",
      "F1 - black piece mobility: 2\n",
      "G1 - black piece mobility: 3\n",
      "H1 - black piece mobility: 2\n",
      "E2 - black piece mobility: 3\n",
      "D4 - black piece mobility: 3\n",
      "F4 - black piece mobility: 3\n",
      "G4 - black piece mobility: 3\n",
      "A7 - white piece mobility: 1\n",
      "G7 - white piece mobility: 2\n",
      "A8 - white piece mobility: 1\n",
      "B8 - white piece mobility: 2\n",
      "E8 - white piece mobility: 2\n",
      "F8 - white piece mobility: 2\n",
      "A6 - white piece mobility: 2\n",
      "E6 - white piece mobility: 2\n",
      "F6 - white piece mobility: 2\n",
      "C4 - white piece mobility: 2\n",
      "C3 - white piece mobility: 3\n",
      "D7 - white piece mobility: 2\n",
      "H7 - white piece mobility: 2\n",
      "E5 - white piece mobility: 3\n",
      "\n"
     ]
    }
   ],
   "source": [
    "from games.breakthrough import *\n",
    "\n",
    "state = BreakthroughGameState()\n",
    "for n in range(35):  # Do some random actions on the board\n",
    "    if state.is_terminal():\n",
    "        break\n",
    "    actions = state.get_legal_actions()\n",
    "    action = random.choices(actions, weights=state.move_weights(actions), k=1)[0]\n",
    "    state = state.apply_action(action)\n",
    "\n",
    "print(state.visualize(full_debug=True))"
   ]
  },
  {
   "cell_type": "markdown",
   "metadata": {},
   "source": [
    "***Amazons***"
   ]
  },
  {
   "cell_type": "code",
   "execution_count": null,
   "metadata": {},
   "outputs": [],
   "source": [
    "from games.amazons import *\n",
    "from games.gamestate import roulette_selection\n",
    "\n",
    "state = AmazonsGameState(board_size=10)\n",
    "for n in range(25):\n",
    "    if state.is_terminal():\n",
    "        break\n",
    "    actions = state.get_legal_actions()\n",
    "    action = roulette_selection(state.evaluate_moves(actions), is_sorted=False)  # Select a random action (weighted by the evaluation)\n",
    "    state = state.apply_action(action)\n",
    "        \n",
    "print(state.visualize(full_debug=True))"
   ]
  },
  {
   "cell_type": "markdown",
   "metadata": {},
   "source": [
    "***Kalah***"
   ]
  },
  {
   "cell_type": "code",
   "execution_count": null,
   "metadata": {},
   "outputs": [],
   "source": [
    "from games.kalah import *\n",
    "from games.gamestate import roulette_selection\n",
    "\n",
    "\n",
    "state = KalahGameState()\n",
    "for n in range(10):\n",
    "    if state.is_terminal():\n",
    "        break\n",
    "    actions = state.get_legal_actions()\n",
    "    action = roulette_selection(state.evaluate_moves(actions), is_sorted=False)  # Select a random action (weighted by the evaluation)\n",
    "    state = state.apply_action(action)\n",
    "\n",
    "print(state.visualize(full_debug=True))"
   ]
  },
  {
   "cell_type": "markdown",
   "metadata": {},
   "source": [
    "***TicTacToe/n In A Row***"
   ]
  },
  {
   "cell_type": "code",
   "execution_count": null,
   "metadata": {},
   "outputs": [],
   "source": [
    "from games.tictactoe import *\n",
    "from games.gamestate import roulette_selection\n",
    "\n",
    "state = TicTacToeGameState(board_size=9, row_length=5)\n",
    "for n in range(20):\n",
    "    if state.is_terminal():\n",
    "        break\n",
    "    \n",
    "    actions = state.get_legal_actions()\n",
    "    action = roulette_selection(state.evaluate_moves(actions), is_sorted=False)  # Select a random action (weighted by the evaluation)\n",
    "    state = state.apply_action(action)\n",
    "    \n",
    "print(state.visualize(full_debug=True))"
   ]
  },
  {
   "cell_type": "markdown",
   "metadata": {},
   "source": [
    "***Blokus***"
   ]
  },
  {
   "cell_type": "code",
   "execution_count": null,
   "metadata": {},
   "outputs": [],
   "source": [
    "from games.blokus import *\n",
    "from games.gamestate import roulette_selection\n",
    "\n",
    "state = BlokusGameState()\n",
    "for n in range(40):\n",
    "    if state.is_terminal():\n",
    "        break\n",
    "    \n",
    "    actions = state.get_legal_actions()\n",
    "    action = roulette_selection(state.evaluate_moves(actions), is_sorted=False)  # Select a random action (weighted by the evaluation)\n",
    "    state = state.apply_action(action)\n",
    "    \n",
    "print(state.visualize(full_debug=True))"
   ]
  }
 ],
 "metadata": {
  "kernelspec": {
   "display_name": "Python 3",
   "language": "python",
   "name": "python3"
  },
  "language_info": {
   "codemirror_mode": {
    "name": "ipython",
    "version": 3
   },
   "file_extension": ".py",
   "mimetype": "text/x-python",
   "name": "python",
   "nbconvert_exporter": "python",
   "pygments_lexer": "ipython3",
   "version": "3.11.3"
  },
  "orig_nbformat": 4
 },
 "nbformat": 4,
 "nbformat_minor": 2
}
