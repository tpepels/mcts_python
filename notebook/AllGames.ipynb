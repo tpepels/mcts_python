{
 "cells": [
  {
   "cell_type": "markdown",
   "metadata": {},
   "source": [
    "***Breakthrough***"
   ]
  },
  {
   "cell_type": "code",
   "execution_count": null,
   "metadata": {},
   "outputs": [],
   "source": [
    "!python setup.py build_ext --inplace"
   ]
  },
  {
   "cell_type": "code",
   "execution_count": 16,
   "metadata": {},
   "outputs": [
    {
     "name": "stdout",
     "output_type": "stream",
     "text": [
      "1 B . B B B B B .\n",
      "2 . . B . B . B .\n",
      "3 B B . . . . B .\n",
      "4 W . . B . . . .\n",
      "5 . . . . . . . W\n",
      "6 . . . . . W . W\n",
      "7 W W . W . . W .\n",
      "8 . . W . . W W W\n",
      "  A B C D E F G H\n",
      "Player: 2\n",
      "Hash: 1018422716705265605\n",
      "Reward: 0/0, Terminal: False\n",
      "27 actions: A1 -> A2,A1 -> B2,C1 -> B2,C1 -> D2,D1 -> D2,E1 -> D2,E1 -> F2,F1 -> F2,G1 -> F2,G1 -> H2,E2 -> D3,E2 -> E3,E2 -> F3,C2 -> C3,C2 -> D3,B3 -> A4,B3 -> B4,B3 -> C4,G2 -> F3,G2 -> H3,A3 -> B4,G3 -> F4,G3 -> G4,G3 -> H4,D4 -> C5,D4 -> D5,D4 -> E5\n",
      "Simple evaluation: 4.5/-5.0\n",
      "Lorenz evaluation: -578.6/526.0\n",
      "Normalized:Simple evaluation: 0.22127846789844396/-0.24491866240370913\n",
      "Lorenz evaluation: -0.281490405544873/0.25709938653852127\n",
      "# white pieces: 12 | # black pieces: 13\n",
      "is endgame: False\n",
      "....................................................................................................................................................................................\n",
      "White has 6 capture value, black has 11.\n",
      "....................................................................................................................................................................................\n",
      "A4 - white is not safe\n",
      "....................................................................................................................................................................................\n",
      "Player 1 decisive: 0, Player 2 decisive: 0\n",
      "....................................................................................................................................................................................\n",
      "....................................................................................................................................................................................\n",
      "[('B3 -> A4', 2738), ('A3 -> B4', 84), ('D4 -> C5', 82), ('D4 -> D5', 82), ('D4 -> E5', 82), ('B3 -> B4', 80), ('B3 -> C4', 80), ('G3 -> F4', 80), ('E2 -> D3', 78), ('E2 -> E3', 78), ('E2 -> F3', 78), ('C2 -> C3', 78), ('C2 -> D3', 78), ('G2 -> F3', 78), ('G2 -> H3', 74), ('G3 -> H4', 74), ('A1 -> B2', 68), ('D1 -> D2', 68), ('E1 -> D2', 68), ('E1 -> F2', 68), ('A1 -> A2', 66), ('C1 -> B2', 48), ('C1 -> D2', 48), ('F1 -> F2', 48), ('G1 -> F2', 48), ('G1 -> H2', 46), ('G3 -> G4', 40)]\n",
      "....................................................................................................................................................................................\n",
      "A1 - black piece mobility: 2\n",
      "C1 - black piece mobility: 2\n",
      "D1 - black piece mobility: 1\n",
      "E1 - black piece mobility: 2\n",
      "F1 - black piece mobility: 1\n",
      "G1 - black piece mobility: 2\n",
      "E2 - black piece mobility: 3\n",
      "C2 - black piece mobility: 2\n",
      "B3 - black piece mobility: 3\n",
      "G2 - black piece mobility: 2\n",
      "A3 - black piece mobility: 1\n",
      "G3 - black piece mobility: 3\n",
      "D4 - black piece mobility: 3\n",
      "B7 - white piece mobility: 3\n",
      "D7 - white piece mobility: 3\n",
      "G7 - white piece mobility: 1\n",
      "C8 - white piece mobility: 1\n",
      "F8 - white piece mobility: 2\n",
      "G8 - white piece mobility: 2\n",
      "H8 - white piece mobility: 1\n",
      "H5 - white piece mobility: 2\n",
      "F6 - white piece mobility: 3\n",
      "A7 - white piece mobility: 2\n",
      "H6 - white piece mobility: 1\n",
      "A4 - white piece mobility: 1\n",
      "\n"
     ]
    }
   ],
   "source": [
    "from games.breakthrough import *\n",
    "\n",
    "state = BreakthroughGameState()\n",
    "for n in range(35):  # Do some random actions on the board\n",
    "    if state.is_terminal():\n",
    "        break\n",
    "    actions = state.get_legal_actions()\n",
    "    action = random.choices(actions, weights=state.move_weights(actions), k=1)[0]\n",
    "    state = state.apply_action(action)\n",
    "\n",
    "print(state.visualize(full_debug=True))"
   ]
  },
  {
   "cell_type": "markdown",
   "metadata": {},
   "source": [
    "***Amazons***"
   ]
  },
  {
   "cell_type": "code",
   "execution_count": null,
   "metadata": {},
   "outputs": [],
   "source": [
    "from games.amazons import *\n",
    "from games.gamestate import roulette_selection\n",
    "\n",
    "state = AmazonsGameState(board_size=10)\n",
    "for n in range(25):\n",
    "    if state.is_terminal():\n",
    "        break\n",
    "    actions = state.get_legal_actions()\n",
    "    action = roulette_selection(state.evaluate_moves(actions), is_sorted=False)  # Select a random action (weighted by the evaluation)\n",
    "    state = state.apply_action(action)\n",
    "        \n",
    "print(state.visualize(full_debug=True))"
   ]
  },
  {
   "cell_type": "markdown",
   "metadata": {},
   "source": [
    "***Kalah***"
   ]
  },
  {
   "cell_type": "code",
   "execution_count": null,
   "metadata": {},
   "outputs": [],
   "source": [
    "from games.kalah import *\n",
    "from games.gamestate import roulette_selection\n",
    "\n",
    "\n",
    "state = KalahGameState()\n",
    "for n in range(10):\n",
    "    if state.is_terminal():\n",
    "        break\n",
    "    actions = state.get_legal_actions()\n",
    "    action = roulette_selection(state.evaluate_moves(actions), is_sorted=False)  # Select a random action (weighted by the evaluation)\n",
    "    state = state.apply_action(action)\n",
    "\n",
    "print(state.visualize(full_debug=True))"
   ]
  },
  {
   "cell_type": "markdown",
   "metadata": {},
   "source": [
    "***TicTacToe/n In A Row***"
   ]
  },
  {
   "cell_type": "code",
   "execution_count": null,
   "metadata": {},
   "outputs": [],
   "source": [
    "from games.tictactoe import *\n",
    "from games.gamestate import roulette_selection\n",
    "\n",
    "state = TicTacToeGameState(board_size=9, row_length=5)\n",
    "for n in range(20):\n",
    "    if state.is_terminal():\n",
    "        break\n",
    "    \n",
    "    actions = state.get_legal_actions()\n",
    "    action = roulette_selection(state.evaluate_moves(actions), is_sorted=False)  # Select a random action (weighted by the evaluation)\n",
    "    state = state.apply_action(action)\n",
    "    \n",
    "print(state.visualize(full_debug=True))"
   ]
  },
  {
   "cell_type": "markdown",
   "metadata": {},
   "source": [
    "***Blokus***"
   ]
  },
  {
   "cell_type": "code",
   "execution_count": null,
   "metadata": {},
   "outputs": [],
   "source": [
    "from games.blokus import *\n",
    "from games.gamestate import roulette_selection\n",
    "\n",
    "state = BlokusGameState()\n",
    "for n in range(40):\n",
    "    if state.is_terminal():\n",
    "        break\n",
    "    \n",
    "    actions = state.get_legal_actions()\n",
    "    action = roulette_selection(state.evaluate_moves(actions), is_sorted=False)  # Select a random action (weighted by the evaluation)\n",
    "    state = state.apply_action(action)\n",
    "    \n",
    "print(state.visualize(full_debug=True))"
   ]
  }
 ],
 "metadata": {
  "kernelspec": {
   "display_name": "Python 3",
   "language": "python",
   "name": "python3"
  },
  "language_info": {
   "codemirror_mode": {
    "name": "ipython",
    "version": 3
   },
   "file_extension": ".py",
   "mimetype": "text/x-python",
   "name": "python",
   "nbconvert_exporter": "python",
   "pygments_lexer": "ipython3",
   "version": "3.11.3"
  },
  "orig_nbformat": 4
 },
 "nbformat": 4,
 "nbformat_minor": 2
}
