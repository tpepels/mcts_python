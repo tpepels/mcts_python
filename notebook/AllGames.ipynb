{
 "cells": [
  {
   "cell_type": "markdown",
   "metadata": {},
   "source": [
    "***Breakthrough***"
   ]
  },
  {
   "cell_type": "code",
   "execution_count": null,
   "metadata": {},
   "outputs": [],
   "source": [
    "!python setup.py build_ext --inplace"
   ]
  },
  {
   "cell_type": "code",
   "execution_count": null,
   "metadata": {},
   "outputs": [],
   "source": [
    "from games.breakthrough import *\n",
    "\n",
    "state = BreakthroughGameState()\n",
    "for n in range(35):  # Do some random actions on the board\n",
    "    if state.is_terminal():\n",
    "        break\n",
    "    actions = state.get_legal_actions()\n",
    "    action = random.choices(actions, k=1)[0]\n",
    "    state = state.apply_action(action)\n",
    "\n",
    "print(state.visualize(full_debug=True))"
   ]
  },
  {
   "cell_type": "markdown",
   "metadata": {},
   "source": [
    "***Amazons***"
   ]
  },
  {
   "cell_type": "code",
   "execution_count": null,
   "metadata": {},
   "outputs": [],
   "source": [
    "from games.amazons import *\n",
    "from games.gamestate import roulette_selection\n",
    "\n",
    "state = AmazonsGameState(board_size=10)\n",
    "for n in range(25):\n",
    "    if state.is_terminal():\n",
    "        break\n",
    "    actions = state.get_legal_actions()\n",
    "    action = roulette_selection(state.evaluate_moves(actions), is_sorted=False)  # Select a random action (weighted by the evaluation)\n",
    "    state = state.apply_action(action)\n",
    "        \n",
    "print(state.visualize(full_debug=True))"
   ]
  },
  {
   "cell_type": "markdown",
   "metadata": {},
   "source": [
    "***Kalah***"
   ]
  },
  {
   "cell_type": "code",
   "execution_count": null,
   "metadata": {},
   "outputs": [],
   "source": [
    "from games.kalah import *\n",
    "from games.gamestate import roulette_selection\n",
    "\n",
    "\n",
    "state = KalahGameState()\n",
    "for n in range(10):\n",
    "    if state.is_terminal():\n",
    "        break\n",
    "    actions = state.get_legal_actions()\n",
    "    action = roulette_selection(state.evaluate_moves(actions), is_sorted=False)  # Select a random action (weighted by the evaluation)\n",
    "    state = state.apply_action(action)\n",
    "\n",
    "print(state.visualize(full_debug=True))"
   ]
  },
  {
   "cell_type": "markdown",
   "metadata": {},
   "source": [
    "***TicTacToe/n In A Row***"
   ]
  },
  {
   "cell_type": "code",
   "execution_count": null,
   "metadata": {},
   "outputs": [],
   "source": [
    "from games.tictactoe import *\n",
    "from games.gamestate import roulette_selection\n",
    "\n",
    "state = TicTacToeGameState(board_size=9, row_length=5)\n",
    "for n in range(20):\n",
    "    if state.is_terminal():\n",
    "        break\n",
    "    \n",
    "    actions = state.get_legal_actions()\n",
    "    action = roulette_selection(state.evaluate_moves(actions), is_sorted=False)  # Select a random action (weighted by the evaluation)\n",
    "    state = state.apply_action(action)\n",
    "    \n",
    "print(state.visualize(full_debug=True))"
   ]
  },
  {
   "cell_type": "markdown",
   "metadata": {},
   "source": [
    "***Blokus***"
   ]
  },
  {
   "cell_type": "code",
   "execution_count": null,
   "metadata": {},
   "outputs": [],
   "source": [
    "from games.blokus import *\n",
    "from games.gamestate import roulette_selection\n",
    "\n",
    "state = BlokusGameState()\n",
    "for n in range(40):\n",
    "    if state.is_terminal():\n",
    "        break\n",
    "    \n",
    "    actions = state.get_legal_actions()\n",
    "    action = roulette_selection(state.evaluate_moves(actions), is_sorted=False)  # Select a random action (weighted by the evaluation)\n",
    "    state = state.apply_action(action)\n",
    "    \n",
    "print(state.visualize(full_debug=True))"
   ]
  }
 ],
 "metadata": {
  "kernelspec": {
   "display_name": "Python 3",
   "language": "python",
   "name": "python3"
  },
  "language_info": {
   "codemirror_mode": {
    "name": "ipython",
    "version": 3
   },
   "file_extension": ".py",
   "mimetype": "text/x-python",
   "name": "python",
   "nbconvert_exporter": "python",
   "pygments_lexer": "ipython3",
   "version": "3.11.3"
  },
  "orig_nbformat": 4
 },
 "nbformat": 4,
 "nbformat_minor": 2
}
