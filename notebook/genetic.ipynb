{
 "cells": [
  {
   "cell_type": "code",
   "execution_count": 1,
   "metadata": {},
   "outputs": [
    {
     "name": "stdout",
     "output_type": "stream",
     "text": [
      "Generation 0\n"
     ]
    },
    {
     "ename": "TypeError",
     "evalue": "AlphaBetaPlayer.__init__() missing 1 required positional argument: 'max_time'",
     "output_type": "error",
     "traceback": [
      "\u001b[0;31m---------------------------------------------------------------------------\u001b[0m",
      "\u001b[0;31mRemoteTraceback\u001b[0m                           Traceback (most recent call last)",
      "\u001b[0;31mRemoteTraceback\u001b[0m: \n\"\"\"\nTraceback (most recent call last):\n  File \"/Library/Frameworks/Python.framework/Versions/3.11/lib/python3.11/multiprocessing/pool.py\", line 125, in worker\n    result = (True, func(*args, **kwds))\n                    ^^^^^^^^^^^^^^^^^^^\n  File \"/Library/Frameworks/Python.framework/Versions/3.11/lib/python3.11/multiprocessing/pool.py\", line 48, in mapstar\n    return list(map(*args))\n           ^^^^^^^^^^^^^^^^\n  File \"/Users/tom/github/mcts_python/genetic_optimization.py\", line 232, in evaluate_fitness\n    game, player1, player2 = init_game_and_players(game_name, game_params, p1_params, p2_params)\n                             ^^^^^^^^^^^^^^^^^^^^^^^^^^^^^^^^^^^^^^^^^^^^^^^^^^^^^^^^^^^^^^^^^^^\n  File \"/Users/tom/github/mcts_python/run_games.py\", line 94, in init_game_and_players\n    p1: AIPlayer = ai_class(player=1, evaluate=eval_function_p1, **p1_params.ai_params)\n                   ^^^^^^^^^^^^^^^^^^^^^^^^^^^^^^^^^^^^^^^^^^^^^^^^^^^^^^^^^^^^^^^^^^^^\nTypeError: AlphaBetaPlayer.__init__() missing 1 required positional argument: 'max_time'\n\"\"\"",
      "\nThe above exception was the direct cause of the following exception:\n",
      "\u001b[0;31mTypeError\u001b[0m                                 Traceback (most recent call last)",
      "Cell \u001b[0;32mIn[1], line 5\u001b[0m\n\u001b[1;32m      3\u001b[0m ai_param_ranges \u001b[39m=\u001b[39m {\u001b[39m\"\u001b[39m\u001b[39mmax_depth\u001b[39m\u001b[39m\"\u001b[39m: {\u001b[39m\"\u001b[39m\u001b[39mrange\u001b[39m\u001b[39m\"\u001b[39m: (\u001b[39m3\u001b[39m, \u001b[39m10\u001b[39m), \u001b[39m\"\u001b[39m\u001b[39mprecision\u001b[39m\u001b[39m\"\u001b[39m: \u001b[39m1\u001b[39m}}\n\u001b[1;32m      4\u001b[0m eval_param_ranges \u001b[39m=\u001b[39m {\u001b[39m\"\u001b[39m\u001b[39mscore_discount\u001b[39m\u001b[39m\"\u001b[39m: {\u001b[39m\"\u001b[39m\u001b[39mrange\u001b[39m\u001b[39m\"\u001b[39m: (\u001b[39m0\u001b[39m, \u001b[39m3\u001b[39m), \u001b[39m\"\u001b[39m\u001b[39mprecision\u001b[39m\u001b[39m\"\u001b[39m: \u001b[39m2\u001b[39m}, \u001b[39m\"\u001b[39m\u001b[39mscore_factor\u001b[39m\u001b[39m\"\u001b[39m: {\u001b[39m\"\u001b[39m\u001b[39mrange\u001b[39m\u001b[39m\"\u001b[39m: (\u001b[39m0.5\u001b[39m, \u001b[39m3\u001b[39m), \u001b[39m\"\u001b[39m\u001b[39mprecision\u001b[39m\u001b[39m\"\u001b[39m: \u001b[39m1\u001b[39m}}\n\u001b[0;32m----> 5\u001b[0m genetic_algorithm(\n\u001b[1;32m      6\u001b[0m     \n\u001b[1;32m      7\u001b[0m     population_size\u001b[39m=\u001b[39;49m\u001b[39m50\u001b[39;49m,\n\u001b[1;32m      8\u001b[0m     num_generations\u001b[39m=\u001b[39;49m\u001b[39m20\u001b[39;49m,\n\u001b[1;32m      9\u001b[0m     mutation_rate\u001b[39m=\u001b[39;49m\u001b[39m0.05\u001b[39;49m,\n\u001b[1;32m     10\u001b[0m     game_name\u001b[39m=\u001b[39;49m\u001b[39m\"\u001b[39;49m\u001b[39mtictactoe\u001b[39;49m\u001b[39m\"\u001b[39;49m,\n\u001b[1;32m     11\u001b[0m     game_params\u001b[39m=\u001b[39;49m{\u001b[39m\"\u001b[39;49m\u001b[39mboard_size\u001b[39;49m\u001b[39m\"\u001b[39;49m: \u001b[39m5\u001b[39;49m},\n\u001b[1;32m     12\u001b[0m     player_name\u001b[39m=\u001b[39;49m\u001b[39m\"\u001b[39;49m\u001b[39malphabeta\u001b[39;49m\u001b[39m\"\u001b[39;49m,\n\u001b[1;32m     13\u001b[0m     eval_name\u001b[39m=\u001b[39;49m\u001b[39m\"\u001b[39;49m\u001b[39mevaluate_tictactoe\u001b[39;49m\u001b[39m\"\u001b[39;49m,\n\u001b[1;32m     14\u001b[0m     ai_param_ranges\u001b[39m=\u001b[39;49mai_param_ranges,\n\u001b[1;32m     15\u001b[0m     eval_param_ranges\u001b[39m=\u001b[39;49meval_param_ranges,\n\u001b[1;32m     16\u001b[0m     n_procs\u001b[39m=\u001b[39;49m \u001b[39m22\u001b[39;49m,\n\u001b[1;32m     17\u001b[0m     convergence_generations\u001b[39m=\u001b[39;49m\u001b[39m5\u001b[39;49m,\n\u001b[1;32m     18\u001b[0m     tournament_size\u001b[39m=\u001b[39;49m\u001b[39m5\u001b[39;49m,\n\u001b[1;32m     19\u001b[0m     elite_count\u001b[39m=\u001b[39;49m\u001b[39m2\u001b[39;49m\n\u001b[1;32m     20\u001b[0m )\n",
      "File \u001b[0;32m~/github/mcts_python/genetic_optimization.py:151\u001b[0m, in \u001b[0;36mgenetic_algorithm\u001b[0;34m(population_size, num_generations, mutation_rate, game_name, game_params, player_name, eval_name, ai_param_ranges, eval_param_ranges, n_procs, convergence_generations, tournament_size, elite_count)\u001b[0m\n\u001b[1;32m    149\u001b[0m \u001b[39m# Evaluate the fitness of each pair of individuals in the population\u001b[39;00m\n\u001b[1;32m    150\u001b[0m \u001b[39mwith\u001b[39;00m multiprocessing\u001b[39m.\u001b[39mPool(n_procs) \u001b[39mas\u001b[39;00m pool:\n\u001b[0;32m--> 151\u001b[0m     results \u001b[39m=\u001b[39m pool\u001b[39m.\u001b[39;49mmap(partial_evaluate_fitness, pairs)\n\u001b[1;32m    153\u001b[0m \u001b[39m# Calculate the number of wins for each individual as fitness values\u001b[39;00m\n\u001b[1;32m    154\u001b[0m fitnesses \u001b[39m=\u001b[39m [\u001b[39m0\u001b[39m] \u001b[39m*\u001b[39m \u001b[39mlen\u001b[39m(population)\n",
      "File \u001b[0;32m/Library/Frameworks/Python.framework/Versions/3.11/lib/python3.11/multiprocessing/pool.py:367\u001b[0m, in \u001b[0;36mPool.map\u001b[0;34m(self, func, iterable, chunksize)\u001b[0m\n\u001b[1;32m    362\u001b[0m \u001b[39mdef\u001b[39;00m \u001b[39mmap\u001b[39m(\u001b[39mself\u001b[39m, func, iterable, chunksize\u001b[39m=\u001b[39m\u001b[39mNone\u001b[39;00m):\n\u001b[1;32m    363\u001b[0m \u001b[39m    \u001b[39m\u001b[39m'''\u001b[39;00m\n\u001b[1;32m    364\u001b[0m \u001b[39m    Apply `func` to each element in `iterable`, collecting the results\u001b[39;00m\n\u001b[1;32m    365\u001b[0m \u001b[39m    in a list that is returned.\u001b[39;00m\n\u001b[1;32m    366\u001b[0m \u001b[39m    '''\u001b[39;00m\n\u001b[0;32m--> 367\u001b[0m     \u001b[39mreturn\u001b[39;00m \u001b[39mself\u001b[39;49m\u001b[39m.\u001b[39;49m_map_async(func, iterable, mapstar, chunksize)\u001b[39m.\u001b[39;49mget()\n",
      "File \u001b[0;32m/Library/Frameworks/Python.framework/Versions/3.11/lib/python3.11/multiprocessing/pool.py:774\u001b[0m, in \u001b[0;36mApplyResult.get\u001b[0;34m(self, timeout)\u001b[0m\n\u001b[1;32m    772\u001b[0m     \u001b[39mreturn\u001b[39;00m \u001b[39mself\u001b[39m\u001b[39m.\u001b[39m_value\n\u001b[1;32m    773\u001b[0m \u001b[39melse\u001b[39;00m:\n\u001b[0;32m--> 774\u001b[0m     \u001b[39mraise\u001b[39;00m \u001b[39mself\u001b[39m\u001b[39m.\u001b[39m_value\n",
      "\u001b[0;31mTypeError\u001b[0m: AlphaBetaPlayer.__init__() missing 1 required positional argument: 'max_time'"
     ]
    }
   ],
   "source": [
    "from genetic_optimization import genetic_algorithm\n",
    "\n",
    "ai_param_ranges = {\"max_depth\": {\"range\": (3, 10), \"precision\": 1}}\n",
    "eval_param_ranges = {\"score_discount\": {\"range\": (0, 3), \"precision\": 2}, \"score_factor\": {\"range\": (0.5, 3), \"precision\": 1}}\n",
    "genetic_algorithm(\n",
    "    \n",
    "    population_size=50,\n",
    "    num_generations=20,\n",
    "    mutation_rate=0.05,\n",
    "    game_name=\"tictactoe\",\n",
    "    game_params={\"board_size\": 5},\n",
    "    player_name=\"alphabeta\",\n",
    "    eval_name=\"evaluate_tictactoe\",\n",
    "    ai_param_ranges=ai_param_ranges,\n",
    "    eval_param_ranges=eval_param_ranges,\n",
    "    n_procs= 22,\n",
    "    convergence_generations=5,\n",
    "    tournament_size=5,\n",
    "    elite_count=2\n",
    ")\n"
   ]
  }
 ],
 "metadata": {
  "kernelspec": {
   "display_name": ".venv",
   "language": "python",
   "name": "python3"
  },
  "language_info": {
   "codemirror_mode": {
    "name": "ipython",
    "version": 3
   },
   "file_extension": ".py",
   "mimetype": "text/x-python",
   "name": "python",
   "nbconvert_exporter": "python",
   "pygments_lexer": "ipython3",
   "version": "3.11.3"
  },
  "orig_nbformat": 4
 },
 "nbformat": 4,
 "nbformat_minor": 2
}
