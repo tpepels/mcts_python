{
 "cells": [
  {
   "cell_type": "code",
   "execution_count": null,
   "metadata": {},
   "outputs": [],
   "source": [
    "from genetic_optimization import genetic_algorithm\n",
    "\n",
    "ai_param_ranges = {}\n",
    "eval_param_ranges = {\"score_discount\": {\"range\": (0, 1), \"precision\": 2}, \"score_factor\": {\"range\": (1, 10), \"precision\": 2}}\n",
    "\n",
    "genetic_algorithm(\n",
    "    population_size=200,\n",
    "    num_generations=20,\n",
    "    mutation_rate=0.1,\n",
    "    game_name=\"tictactoe\",\n",
    "    game_params={\"board_size\": 6},\n",
    "    player_name=\"alphabeta\",\n",
    "    eval_name=\"evaluate_tictactoe\",\n",
    "    ai_param_ranges=ai_param_ranges,\n",
    "    eval_param_ranges=eval_param_ranges,\n",
    "    ai_static_params={'max_time': 10, 'max_depth': 3},\n",
    "    n_procs=8,\n",
    "    convergence_generations=5,\n",
    "    tournament_size=5,\n",
    "    elite_count=2,\n",
    "    draw_score=0.25,\n",
    "    debug=True\n",
    ")"
   ]
  }
 ],
 "metadata": {
  "kernelspec": {
   "display_name": ".venv",
   "language": "python",
   "name": "python3"
  },
  "language_info": {
   "codemirror_mode": {
    "name": "ipython",
    "version": 3
   },
   "file_extension": ".py",
   "mimetype": "text/x-python",
   "name": "python",
   "nbconvert_exporter": "python",
   "pygments_lexer": "ipython3",
   "version": "3.11.3"
  },
  "orig_nbformat": 4
 },
 "nbformat": 4,
 "nbformat_minor": 2
}
