{
 "cells": [
  {
   "cell_type": "code",
   "execution_count": 1,
   "metadata": {},
   "outputs": [
    {
     "name": "stdout",
     "output_type": "stream",
     "text": [
      "Generation 0\n"
     ]
    },
    {
     "ename": "AttributeError",
     "evalue": "Can't pickle local object 'genetic_algorithm.<locals>.<lambda>'",
     "output_type": "error",
     "traceback": [
      "\u001b[0;31m---------------------------------------------------------------------------\u001b[0m",
      "\u001b[0;31mAttributeError\u001b[0m                            Traceback (most recent call last)",
      "Cell \u001b[0;32mIn[1], line 5\u001b[0m\n\u001b[1;32m      3\u001b[0m ai_param_ranges \u001b[39m=\u001b[39m {\u001b[39m\"\u001b[39m\u001b[39mmax_depth\u001b[39m\u001b[39m\"\u001b[39m: {\u001b[39m\"\u001b[39m\u001b[39mrange\u001b[39m\u001b[39m\"\u001b[39m: (\u001b[39m3\u001b[39m, \u001b[39m10\u001b[39m), \u001b[39m\"\u001b[39m\u001b[39mprecision\u001b[39m\u001b[39m\"\u001b[39m: \u001b[39m1\u001b[39m}}\n\u001b[1;32m      4\u001b[0m eval_param_ranges \u001b[39m=\u001b[39m {\u001b[39m\"\u001b[39m\u001b[39mopp_disc\u001b[39m\u001b[39m\"\u001b[39m: {\u001b[39m\"\u001b[39m\u001b[39mrange\u001b[39m\u001b[39m\"\u001b[39m: (\u001b[39m0\u001b[39m, \u001b[39m3\u001b[39m), \u001b[39m\"\u001b[39m\u001b[39mprecision\u001b[39m\u001b[39m\"\u001b[39m: \u001b[39m2\u001b[39m}}\n\u001b[0;32m----> 5\u001b[0m genetic_algorithm(\n\u001b[1;32m      6\u001b[0m     \n\u001b[1;32m      7\u001b[0m     population_size\u001b[39m=\u001b[39;49m\u001b[39m50\u001b[39;49m,\n\u001b[1;32m      8\u001b[0m     num_generations\u001b[39m=\u001b[39;49m\u001b[39m20\u001b[39;49m,\n\u001b[1;32m      9\u001b[0m     mutation_rate\u001b[39m=\u001b[39;49m\u001b[39m0.05\u001b[39;49m,\n\u001b[1;32m     10\u001b[0m     game_name\u001b[39m=\u001b[39;49m\u001b[39m\"\u001b[39;49m\u001b[39mtictactoe\u001b[39;49m\u001b[39m\"\u001b[39;49m,\n\u001b[1;32m     11\u001b[0m     game_params\u001b[39m=\u001b[39;49m{\u001b[39m\"\u001b[39;49m\u001b[39mboard_size\u001b[39;49m\u001b[39m\"\u001b[39;49m: \u001b[39m5\u001b[39;49m},\n\u001b[1;32m     12\u001b[0m     player_name\u001b[39m=\u001b[39;49m\u001b[39m\"\u001b[39;49m\u001b[39malphabeta\u001b[39;49m\u001b[39m\"\u001b[39;49m,\n\u001b[1;32m     13\u001b[0m     eval_name\u001b[39m=\u001b[39;49m\u001b[39m\"\u001b[39;49m\u001b[39mevaluate_tictactoe\u001b[39;49m\u001b[39m\"\u001b[39;49m,\n\u001b[1;32m     14\u001b[0m     ai_param_ranges\u001b[39m=\u001b[39;49mai_param_ranges,\n\u001b[1;32m     15\u001b[0m     eval_param_ranges\u001b[39m=\u001b[39;49meval_param_ranges,\n\u001b[1;32m     16\u001b[0m     n_procs\u001b[39m=\u001b[39;49m \u001b[39m22\u001b[39;49m,\n\u001b[1;32m     17\u001b[0m     convergence_generations\u001b[39m=\u001b[39;49m\u001b[39m5\u001b[39;49m,\n\u001b[1;32m     18\u001b[0m     tournament_size\u001b[39m=\u001b[39;49m\u001b[39m5\u001b[39;49m,\n\u001b[1;32m     19\u001b[0m     elite_count\u001b[39m=\u001b[39;49m\u001b[39m2\u001b[39;49m\n\u001b[1;32m     20\u001b[0m )\n",
      "File \u001b[0;32m~/Github/mcts_python/genetic_optimization.py:146\u001b[0m, in \u001b[0;36mgenetic_algorithm\u001b[0;34m(population_size, num_generations, mutation_rate, game_name, game_params, player_name, eval_name, ai_param_ranges, eval_param_ranges, n_procs, convergence_generations, tournament_size, elite_count)\u001b[0m\n\u001b[1;32m    144\u001b[0m \u001b[39m# Evaluate the fitness of each individual in the population\u001b[39;00m\n\u001b[1;32m    145\u001b[0m \u001b[39mwith\u001b[39;00m multiprocessing\u001b[39m.\u001b[39mPool(n_procs) \u001b[39mas\u001b[39;00m pool:\n\u001b[0;32m--> 146\u001b[0m     winners \u001b[39m=\u001b[39m pool\u001b[39m.\u001b[39;49mstarmap(\n\u001b[1;32m    147\u001b[0m         \u001b[39mlambda\u001b[39;49;00m individual: evaluate_fitness(\n\u001b[1;32m    148\u001b[0m             game_name, game_params, player_name, eval_name, individual[\u001b[39m\"\u001b[39;49m\u001b[39mai\u001b[39;49m\u001b[39m\"\u001b[39;49m], individual[\u001b[39m\"\u001b[39;49m\u001b[39meval\u001b[39;49m\u001b[39m\"\u001b[39;49m]\n\u001b[1;32m    149\u001b[0m         ),\n\u001b[1;32m    150\u001b[0m         population,\n\u001b[1;32m    151\u001b[0m     )\n\u001b[1;32m    153\u001b[0m \u001b[39m# Calculate the number of wins for each player as fitness values\u001b[39;00m\n\u001b[1;32m    154\u001b[0m fitnesses \u001b[39m=\u001b[39m [winners\u001b[39m.\u001b[39mcount(i \u001b[39m+\u001b[39m \u001b[39m1\u001b[39m) \u001b[39mfor\u001b[39;00m i \u001b[39min\u001b[39;00m \u001b[39mrange\u001b[39m(\u001b[39mlen\u001b[39m(population))]\n",
      "File \u001b[0;32m/usr/lib/python3.11/multiprocessing/pool.py:375\u001b[0m, in \u001b[0;36mPool.starmap\u001b[0;34m(self, func, iterable, chunksize)\u001b[0m\n\u001b[1;32m    369\u001b[0m \u001b[39mdef\u001b[39;00m \u001b[39mstarmap\u001b[39m(\u001b[39mself\u001b[39m, func, iterable, chunksize\u001b[39m=\u001b[39m\u001b[39mNone\u001b[39;00m):\n\u001b[1;32m    370\u001b[0m \u001b[39m    \u001b[39m\u001b[39m'''\u001b[39;00m\n\u001b[1;32m    371\u001b[0m \u001b[39m    Like `map()` method but the elements of the `iterable` are expected to\u001b[39;00m\n\u001b[1;32m    372\u001b[0m \u001b[39m    be iterables as well and will be unpacked as arguments. Hence\u001b[39;00m\n\u001b[1;32m    373\u001b[0m \u001b[39m    `func` and (a, b) becomes func(a, b).\u001b[39;00m\n\u001b[1;32m    374\u001b[0m \u001b[39m    '''\u001b[39;00m\n\u001b[0;32m--> 375\u001b[0m     \u001b[39mreturn\u001b[39;00m \u001b[39mself\u001b[39;49m\u001b[39m.\u001b[39;49m_map_async(func, iterable, starmapstar, chunksize)\u001b[39m.\u001b[39;49mget()\n",
      "File \u001b[0;32m/usr/lib/python3.11/multiprocessing/pool.py:774\u001b[0m, in \u001b[0;36mApplyResult.get\u001b[0;34m(self, timeout)\u001b[0m\n\u001b[1;32m    772\u001b[0m     \u001b[39mreturn\u001b[39;00m \u001b[39mself\u001b[39m\u001b[39m.\u001b[39m_value\n\u001b[1;32m    773\u001b[0m \u001b[39melse\u001b[39;00m:\n\u001b[0;32m--> 774\u001b[0m     \u001b[39mraise\u001b[39;00m \u001b[39mself\u001b[39m\u001b[39m.\u001b[39m_value\n",
      "File \u001b[0;32m/usr/lib/python3.11/multiprocessing/pool.py:540\u001b[0m, in \u001b[0;36mPool._handle_tasks\u001b[0;34m(taskqueue, put, outqueue, pool, cache)\u001b[0m\n\u001b[1;32m    538\u001b[0m     \u001b[39mbreak\u001b[39;00m\n\u001b[1;32m    539\u001b[0m \u001b[39mtry\u001b[39;00m:\n\u001b[0;32m--> 540\u001b[0m     put(task)\n\u001b[1;32m    541\u001b[0m \u001b[39mexcept\u001b[39;00m \u001b[39mException\u001b[39;00m \u001b[39mas\u001b[39;00m e:\n\u001b[1;32m    542\u001b[0m     job, idx \u001b[39m=\u001b[39m task[:\u001b[39m2\u001b[39m]\n",
      "File \u001b[0;32m/usr/lib/python3.11/multiprocessing/connection.py:205\u001b[0m, in \u001b[0;36m_ConnectionBase.send\u001b[0;34m(self, obj)\u001b[0m\n\u001b[1;32m    203\u001b[0m \u001b[39mself\u001b[39m\u001b[39m.\u001b[39m_check_closed()\n\u001b[1;32m    204\u001b[0m \u001b[39mself\u001b[39m\u001b[39m.\u001b[39m_check_writable()\n\u001b[0;32m--> 205\u001b[0m \u001b[39mself\u001b[39m\u001b[39m.\u001b[39m_send_bytes(_ForkingPickler\u001b[39m.\u001b[39;49mdumps(obj))\n",
      "File \u001b[0;32m/usr/lib/python3.11/multiprocessing/reduction.py:51\u001b[0m, in \u001b[0;36mForkingPickler.dumps\u001b[0;34m(cls, obj, protocol)\u001b[0m\n\u001b[1;32m     48\u001b[0m \u001b[39m@classmethod\u001b[39m\n\u001b[1;32m     49\u001b[0m \u001b[39mdef\u001b[39;00m \u001b[39mdumps\u001b[39m(\u001b[39mcls\u001b[39m, obj, protocol\u001b[39m=\u001b[39m\u001b[39mNone\u001b[39;00m):\n\u001b[1;32m     50\u001b[0m     buf \u001b[39m=\u001b[39m io\u001b[39m.\u001b[39mBytesIO()\n\u001b[0;32m---> 51\u001b[0m     \u001b[39mcls\u001b[39;49m(buf, protocol)\u001b[39m.\u001b[39;49mdump(obj)\n\u001b[1;32m     52\u001b[0m     \u001b[39mreturn\u001b[39;00m buf\u001b[39m.\u001b[39mgetbuffer()\n",
      "\u001b[0;31mAttributeError\u001b[0m: Can't pickle local object 'genetic_algorithm.<locals>.<lambda>'"
     ]
    }
   ],
   "source": [
    "from genetic_optimization import genetic_algorithm\n",
    "\n",
    "ai_param_ranges = {\"max_depth\": {\"range\": (3, 10), \"precision\": 1}}\n",
    "eval_param_ranges = {\"score_discount\": {\"range\": (0, 3), \"precision\": 2}, \"score_factor\": {\"range\": (0.5, 3), \"precision\": 1}}\n",
    "genetic_algorithm(\n",
    "    \n",
    "    population_size=50,\n",
    "    num_generations=20,\n",
    "    mutation_rate=0.05,\n",
    "    game_name=\"tictactoe\",\n",
    "    game_params={\"board_size\": 5},\n",
    "    player_name=\"alphabeta\",\n",
    "    eval_name=\"evaluate_tictactoe\",\n",
    "    ai_param_ranges=ai_param_ranges,\n",
    "    eval_param_ranges=eval_param_ranges,\n",
    "    n_procs= 22,\n",
    "    convergence_generations=5,\n",
    "    tournament_size=5,\n",
    "    elite_count=2\n",
    ")\n"
   ]
  }
 ],
 "metadata": {
  "kernelspec": {
   "display_name": ".venv",
   "language": "python",
   "name": "python3"
  },
  "language_info": {
   "codemirror_mode": {
    "name": "ipython",
    "version": 3
   },
   "file_extension": ".py",
   "mimetype": "text/x-python",
   "name": "python",
   "nbconvert_exporter": "python",
   "pygments_lexer": "ipython3",
   "version": "3.11.2"
  },
  "orig_nbformat": 4
 },
 "nbformat": 4,
 "nbformat_minor": 2
}
