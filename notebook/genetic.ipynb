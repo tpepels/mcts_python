{
 "cells": [
  {
   "cell_type": "code",
   "execution_count": null,
   "metadata": {},
   "outputs": [],
   "source": [
    "%load_ext autoreload\n",
    "%autoreload 2\n",
    "\n",
    "from genetic_optimization import genetic_algorithm\n",
    "\n",
    "ai_param_ranges = {}\n",
    "eval_param_ranges = {\n",
    "    \"m_bonus\": { \"range\": [0, 20], \"precision\": 2 },\n",
    "    \"m_decay\": { \"range\": [0, 4], \"precision\": 1 },\n",
    "    \"m_w_factor\": { \"range\": [0.5, 0.99], \"precision\": 2 },\n",
    "    \"m_top_k\": { \"range\": [1, 4], \"precision\": 0 },\n",
    "    \"m_pow\": { \"range\": [1, 10], \"precision\": 0 },\n",
    "    \"m_disc\": { \"range\": [0, 2], \"precision\": 2 }\n",
    "}\n",
    "\n",
    "genetic_algorithm(\n",
    "    population_size=1000, # ! set to small amount for testing\n",
    "    num_generations=10,\n",
    "    mutation_rate=0.05,\n",
    "    game_name=\"ninarow\",\n",
    "    game_params={\"board_size\": 9, \"row_length\": 5},\n",
    "    player_name=\"alphabeta\",\n",
    "    eval_name=\"evaluate_n_in_a_row\",\n",
    "    ai_param_ranges=ai_param_ranges,\n",
    "    eval_param_ranges=eval_param_ranges,\n",
    "    ai_static_params={'max_time': 4, 'max_depth': 10},\n",
    "    n_procs=24,\n",
    "    convergence_generations=5,\n",
    "    tournament_size=5,\n",
    "    elite_count=2,\n",
    "    draw_score=0.1,\n",
    "    debug=True,\n",
    "    no_google=True\n",
    ")"
   ]
  }
 ],
 "metadata": {
  "kernelspec": {
   "display_name": ".venv",
   "language": "python",
   "name": "python3"
  },
  "language_info": {
   "codemirror_mode": {
    "name": "ipython",
    "version": 3
   },
   "file_extension": ".py",
   "mimetype": "text/x-python",
   "name": "python",
   "nbconvert_exporter": "python",
   "pygments_lexer": "ipython3",
   "version": "3.11.2"
  },
  "orig_nbformat": 4
 },
 "nbformat": 4,
 "nbformat_minor": 2
}
