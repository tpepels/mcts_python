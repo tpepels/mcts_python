{
 "cells": [
  {
   "cell_type": "code",
   "execution_count": 1,
   "metadata": {},
   "outputs": [
    {
     "name": "stdout",
     "output_type": "stream",
     "text": [
      "*** Using 24 processes ***\n",
      "..............................10:40:47..............................\n",
      "Starting generation 0\n",
      "Removing games from pairs, 499500 pairs, 1000 unique individuals\n",
      "new variance: 9.358\n",
      "new variance: 10.716\n",
      "new variance: 10.334\n",
      "new variance: 9.8\n",
      "new variance: 9.886\n",
      "new variance: 10.088\n",
      "new variance: 9.706\n",
      "new variance: 9.77\n",
      "new variance: 10.182\n",
      "new variance: 9.95\n",
      "new variance: 9.96\n",
      "new variance: 9.242\n",
      "new variance: 10.81\n",
      "new variance: 8.96\n",
      "new variance: 10.052\n",
      "new variance: 10.846\n",
      "new variance: 9.652\n",
      "new variance: 10.222\n",
      "new variance: 10.006\n",
      "new variance: 9.628\n",
      "new variance: 9.08\n",
      "new variance: 10.414\n",
      "new variance: 10.43\n",
      "new variance: 9.996\n",
      "new variance: 9.444\n",
      "new variance: 10.504\n",
      "new variance: 9.686\n",
      "new variance: 9.468\n",
      "new variance: 9.384\n",
      "new variance: 10.36\n",
      "best variance found: 8.96\n",
      "Self-play between 5000 pairs, 1000 unique individuals (wanted 5000 games)\n",
      "number of pairings per indiv.:[6, 10, 8, 10, 17, 11, 6, 13, 17, 6, 15, 9, 9, 8, 10, 10, 11, 19, 12, 12, 19, 10, 13, 7, 9, 9, 7, 7, 10, 10, 5, 4, 6, 7, 13, 10, 9, 4, 7, 8, 6, 13, 4, 11, 7, 13, 4, 4, 8, 11, 10, 13, 6, 12, 10, 8, 9, 13, 15, 11, 14, 11, 9, 9, 13, 14, 5, 6, 9, 14, 11, 9, 13, 11, 9, 7, 13, 12, 6, 13, 7, 9, 15, 7, 8, 8, 11, 14, 10, 7, 13, 7, 10, 13, 9, 9, 11, 7, 14, 13, 13, 12, 12, 11, 8, 8, 10, 7, 12, 5, 6, 8, 12, 15, 6, 6, 11, 14, 7, 16, 8, 13, 10, 10, 8, 13, 12, 13, 14, 6, 13, 14, 8, 7, 10, 10, 7, 9, 11, 6, 12, 5, 11, 9, 7, 10, 7, 13, 15, 12, 7, 6, 8, 8, 12, 6, 14, 9, 12, 7, 10, 10, 7, 11, 7, 13, 10, 14, 14, 12, 10, 8, 12, 9, 13, 11, 6, 8, 10, 9, 9, 13, 7, 12, 9, 12, 15, 10, 14, 6, 10, 11, 10, 11, 9, 14, 10, 8, 14, 11, 6, 8, 7, 7, 13, 13, 9, 10, 13, 13, 15, 11, 10, 6, 7, 8, 8, 10, 7, 10, 13, 7, 6, 8, 9, 12, 13, 11, 8, 15, 6, 12, 8, 9, 5, 11, 16, 15, 10, 11, 11, 10, 5, 11, 7, 8, 9, 21, 9, 8, 12, 6, 10, 3, 14, 12, 10, 10, 10, 4, 9, 6, 18, 9, 11, 12, 13, 9, 6, 7, 11, 11, 7, 9, 7, 10, 4, 12, 10, 5, 12, 10, 8, 13, 7, 10, 2, 7, 14, 4, 11, 12, 7, 12, 4, 13, 8, 7, 10, 9, 13, 10, 7, 6, 7, 10, 9, 13, 15, 13, 9, 10, 15, 11, 9, 16, 9, 9, 3, 9, 6, 9, 8, 12, 13, 10, 7, 6, 13, 10, 10, 2, 16, 13, 14, 9, 16, 11, 8, 6, 12, 5, 15, 12, 10, 12, 8, 11, 13, 11, 14, 15, 9, 6, 12, 8, 10, 13, 12, 5, 9, 13, 7, 8, 11, 8, 6, 7, 6, 6, 10, 13, 15, 5, 9, 11, 14, 7, 16, 16, 11, 9, 14, 6, 6, 10, 10, 9, 8, 8, 8, 5, 5, 16, 11, 8, 12, 6, 6, 7, 8, 10, 6, 10, 10, 8, 8, 8, 15, 8, 10, 16, 7, 8, 8, 17, 7, 7, 12, 12, 13, 6, 9, 7, 11, 11, 4, 8, 13, 7, 11, 9, 9, 8, 10, 6, 7, 13, 10, 17, 13, 10, 9, 10, 14, 12, 10, 12, 9, 12, 8, 8, 8, 9, 8, 7, 11, 12, 10, 8, 17, 10, 16, 11, 9, 10, 9, 11, 11, 10, 11, 10, 11, 11, 7, 14, 11, 11, 14, 4, 15, 15, 8, 16, 11, 10, 8, 11, 9, 9, 7, 9, 11, 9, 10, 9, 15, 11, 9, 8, 13, 11, 7, 5, 12, 11, 12, 11, 6, 6, 9, 12, 17, 13, 15, 13, 10, 15, 5, 11, 7, 13, 11, 13, 9, 11, 9, 12, 10, 6, 10, 12, 12, 6, 7, 13, 11, 8, 15, 11, 10, 11, 14, 11, 14, 7, 11, 8, 9, 8, 3, 8, 15, 9, 8, 15, 12, 9, 9, 8, 10, 12, 15, 10, 9, 12, 11, 11, 9, 13, 16, 10, 11, 13, 11, 9, 9, 11, 9, 11, 14, 9, 14, 9, 10, 14, 9, 9, 11, 11, 10, 16, 6, 10, 6, 11, 13, 10, 13, 16, 13, 10, 11, 7, 16, 12, 9, 12, 9, 12, 12, 9, 12, 5, 10, 13, 12, 10, 7, 12, 13, 8, 7, 8, 12, 8, 8, 7, 5, 10, 7, 9, 16, 12, 12, 7, 10, 16, 12, 9, 8, 10, 10, 10, 11, 7, 7, 11, 11, 6, 5, 11, 6, 13, 8, 7, 13, 12, 11, 17, 8, 5, 11, 11, 10, 8, 9, 5, 13, 6, 5, 6, 12, 10, 17, 5, 7, 11, 9, 10, 10, 19, 10, 11, 11, 14, 8, 10, 14, 16, 7, 9, 7, 15, 11, 6, 10, 10, 12, 7, 5, 9, 8, 8, 12, 8, 8, 5, 13, 12, 12, 8, 8, 10, 9, 12, 9, 11, 5, 12, 11, 5, 15, 13, 19, 3, 16, 8, 15, 13, 12, 12, 9, 7, 10, 12, 11, 9, 13, 12, 9, 12, 6, 4, 10, 14, 11, 15, 8, 13, 14, 10, 10, 8, 9, 11, 14, 8, 12, 10, 7, 7, 7, 2, 11, 8, 7, 15, 8, 7, 13, 8, 9, 8, 11, 9, 16, 11, 9, 10, 10, 9, 14, 4, 12, 6, 9, 7, 5, 10, 6, 9, 10, 8, 8, 10, 10, 18, 9, 10, 15, 17, 8, 4, 9, 5, 13, 14, 9, 9, 8, 8, 13, 5, 6, 7, 11, 12, 6, 7, 12, 10, 5, 13, 10, 7, 11, 9, 10, 15, 10, 8, 11, 11, 12, 14, 11, 13, 10, 13, 14, 8, 6, 9, 8, 14, 12, 10, 9, 13, 11, 12, 6, 11, 15, 10, 11, 14, 10, 11, 7, 14, 14, 12, 9, 8, 8, 12, 11, 11, 8, 4, 12, 11, 13, 6, 11, 4, 5, 8, 8, 7, 11, 8, 10, 7, 7, 11, 8, 10, 9, 10, 14, 13, 11, 14, 10, 8, 8, 6, 11, 9, 7, 11, 9, 9, 16, 10, 10, 10, 8, 9, 11, 10, 8, 6, 9, 6, 9, 5, 10, 7, 9, 11, 13, 10, 7, 12, 12, 14, 12, 7, 12, 9, 11, 9, 7, 9, 13, 11, 7, 14, 6, 7, 12, 14, 11, 9, 11, 10, 11, 11, 7, 12, 6, 17, 9, 16, 9, 11, 13, 8, 14, 15, 10, 12, 14, 11, 11, 11, 7, 6, 9, 10, 6, 10, 10, 12, 14, 9, 9, 8, 10, 11, 12, 6, 13, 6, 9, 14, 15, 7, 16, 11, 11, 10, 7, 10, 9, 7]\n"
     ]
    },
    {
     "ename": "KeyboardInterrupt",
     "evalue": "",
     "output_type": "error",
     "traceback": [
      "\u001b[0;31m---------------------------------------------------------------------------\u001b[0m",
      "\u001b[0;31mKeyboardInterrupt\u001b[0m                         Traceback (most recent call last)",
      "Cell \u001b[0;32mIn[1], line 16\u001b[0m\n\u001b[1;32m      6\u001b[0m ai_param_ranges \u001b[39m=\u001b[39m {}\n\u001b[1;32m      7\u001b[0m eval_param_ranges \u001b[39m=\u001b[39m {\n\u001b[1;32m      8\u001b[0m     \u001b[39m\"\u001b[39m\u001b[39mm_bonus\u001b[39m\u001b[39m\"\u001b[39m: { \u001b[39m\"\u001b[39m\u001b[39mrange\u001b[39m\u001b[39m\"\u001b[39m: [\u001b[39m0\u001b[39m, \u001b[39m20\u001b[39m], \u001b[39m\"\u001b[39m\u001b[39mprecision\u001b[39m\u001b[39m\"\u001b[39m: \u001b[39m2\u001b[39m },\n\u001b[1;32m      9\u001b[0m     \u001b[39m\"\u001b[39m\u001b[39mm_decay\u001b[39m\u001b[39m\"\u001b[39m: { \u001b[39m\"\u001b[39m\u001b[39mrange\u001b[39m\u001b[39m\"\u001b[39m: [\u001b[39m0\u001b[39m, \u001b[39m4\u001b[39m], \u001b[39m\"\u001b[39m\u001b[39mprecision\u001b[39m\u001b[39m\"\u001b[39m: \u001b[39m1\u001b[39m },\n\u001b[0;32m   (...)\u001b[0m\n\u001b[1;32m     13\u001b[0m     \u001b[39m\"\u001b[39m\u001b[39mm_disc\u001b[39m\u001b[39m\"\u001b[39m: { \u001b[39m\"\u001b[39m\u001b[39mrange\u001b[39m\u001b[39m\"\u001b[39m: [\u001b[39m0\u001b[39m, \u001b[39m2\u001b[39m], \u001b[39m\"\u001b[39m\u001b[39mprecision\u001b[39m\u001b[39m\"\u001b[39m: \u001b[39m2\u001b[39m }\n\u001b[1;32m     14\u001b[0m }\n\u001b[0;32m---> 16\u001b[0m genetic_algorithm(\n\u001b[1;32m     17\u001b[0m     population_size\u001b[39m=\u001b[39;49m\u001b[39m1000\u001b[39;49m, \u001b[39m# ! set to small amount for testing\u001b[39;49;00m\n\u001b[1;32m     18\u001b[0m     num_generations\u001b[39m=\u001b[39;49m\u001b[39m10\u001b[39;49m,\n\u001b[1;32m     19\u001b[0m     mutation_rate\u001b[39m=\u001b[39;49m\u001b[39m0.05\u001b[39;49m,\n\u001b[1;32m     20\u001b[0m     game_name\u001b[39m=\u001b[39;49m\u001b[39m\"\u001b[39;49m\u001b[39mninarow\u001b[39;49m\u001b[39m\"\u001b[39;49m,\n\u001b[1;32m     21\u001b[0m     game_params\u001b[39m=\u001b[39;49m{\u001b[39m\"\u001b[39;49m\u001b[39mboard_size\u001b[39;49m\u001b[39m\"\u001b[39;49m: \u001b[39m9\u001b[39;49m, \u001b[39m\"\u001b[39;49m\u001b[39mrow_length\u001b[39;49m\u001b[39m\"\u001b[39;49m: \u001b[39m5\u001b[39;49m},\n\u001b[1;32m     22\u001b[0m     player_name\u001b[39m=\u001b[39;49m\u001b[39m\"\u001b[39;49m\u001b[39malphabeta\u001b[39;49m\u001b[39m\"\u001b[39;49m,\n\u001b[1;32m     23\u001b[0m     eval_name\u001b[39m=\u001b[39;49m\u001b[39m\"\u001b[39;49m\u001b[39mevaluate_n_in_a_row\u001b[39;49m\u001b[39m\"\u001b[39;49m,\n\u001b[1;32m     24\u001b[0m     ai_param_ranges\u001b[39m=\u001b[39;49mai_param_ranges,\n\u001b[1;32m     25\u001b[0m     eval_param_ranges\u001b[39m=\u001b[39;49meval_param_ranges,\n\u001b[1;32m     26\u001b[0m     ai_static_params\u001b[39m=\u001b[39;49m{\u001b[39m'\u001b[39;49m\u001b[39mmax_time\u001b[39;49m\u001b[39m'\u001b[39;49m: \u001b[39m4\u001b[39;49m, \u001b[39m'\u001b[39;49m\u001b[39mmax_depth\u001b[39;49m\u001b[39m'\u001b[39;49m: \u001b[39m10\u001b[39;49m},\n\u001b[1;32m     27\u001b[0m     n_procs\u001b[39m=\u001b[39;49m\u001b[39m24\u001b[39;49m,\n\u001b[1;32m     28\u001b[0m     convergence_generations\u001b[39m=\u001b[39;49m\u001b[39m5\u001b[39;49m,\n\u001b[1;32m     29\u001b[0m     tournament_size\u001b[39m=\u001b[39;49m\u001b[39m5\u001b[39;49m,\n\u001b[1;32m     30\u001b[0m     elite_count\u001b[39m=\u001b[39;49m\u001b[39m2\u001b[39;49m,\n\u001b[1;32m     31\u001b[0m     draw_score\u001b[39m=\u001b[39;49m\u001b[39m0.1\u001b[39;49m,\n\u001b[1;32m     32\u001b[0m     debug\u001b[39m=\u001b[39;49m\u001b[39mTrue\u001b[39;49;00m,\n\u001b[1;32m     33\u001b[0m     no_google\u001b[39m=\u001b[39;49m\u001b[39mTrue\u001b[39;49;00m\n\u001b[1;32m     34\u001b[0m )\n",
      "File \u001b[0;32m~/github/mcts_python/util.py:157\u001b[0m, in \u001b[0;36mlog_exception_handler.<locals>.wrapper\u001b[0;34m(*args, **kwargs)\u001b[0m\n\u001b[1;32m    155\u001b[0m \u001b[39mdef\u001b[39;00m \u001b[39mwrapper\u001b[39m(\u001b[39m*\u001b[39margs, \u001b[39m*\u001b[39m\u001b[39m*\u001b[39mkwargs):\n\u001b[1;32m    156\u001b[0m     \u001b[39mtry\u001b[39;00m:\n\u001b[0;32m--> 157\u001b[0m         \u001b[39mreturn\u001b[39;00m func(\u001b[39m*\u001b[39;49margs, \u001b[39m*\u001b[39;49m\u001b[39m*\u001b[39;49mkwargs)\n\u001b[1;32m    158\u001b[0m     \u001b[39mexcept\u001b[39;00m \u001b[39mException\u001b[39;00m \u001b[39mas\u001b[39;00m e:\n\u001b[1;32m    159\u001b[0m         \u001b[39m# add a timestamp to the error message\u001b[39;00m\n\u001b[1;32m    160\u001b[0m         timestamp \u001b[39m=\u001b[39m \u001b[39mf\u001b[39m\u001b[39m\"\u001b[39m\u001b[39mError timestamp: \u001b[39m\u001b[39m{\u001b[39;00mtime\u001b[39m.\u001b[39mstrftime(\u001b[39m'\u001b[39m\u001b[39m%\u001b[39m\u001b[39mY-\u001b[39m\u001b[39m%\u001b[39m\u001b[39mm-\u001b[39m\u001b[39m%d\u001b[39;00m\u001b[39m \u001b[39m\u001b[39m%\u001b[39m\u001b[39mH:\u001b[39m\u001b[39m%\u001b[39m\u001b[39mM:\u001b[39m\u001b[39m%\u001b[39m\u001b[39mS\u001b[39m\u001b[39m'\u001b[39m,time\u001b[39m.\u001b[39mgmtime())\u001b[39m}\u001b[39;00m\u001b[39m\\n\u001b[39;00m\u001b[39m\"\u001b[39m\n",
      "File \u001b[0;32m~/github/mcts_python/genetic_optimization.py:294\u001b[0m, in \u001b[0;36mgenetic_algorithm\u001b[0;34m(population_size, num_generations, mutation_rate, game_name, player_name, eval_name, ai_param_ranges, eval_param_ranges, game_params, ai_static_params, eval_static_params, games_per_pair, n_procs, convergence_generations, tournament_size, elite_count, draw_score, debug, no_google)\u001b[0m\n\u001b[1;32m    291\u001b[0m     results \u001b[39m=\u001b[39m pool\u001b[39m.\u001b[39mmap(partial_evaluate_fitness, pairs)\n\u001b[1;32m    293\u001b[0m \u001b[39m# Create a new sheet for this experiment, do this after the first results so we don't create a lot of unused sheets\u001b[39;00m\n\u001b[0;32m--> 294\u001b[0m \u001b[39mif\u001b[39;00m generation \u001b[39m==\u001b[39m \u001b[39m0\u001b[39m:\n\u001b[1;32m    295\u001b[0m     \u001b[39mif\u001b[39;00m game_params \u001b[39mand\u001b[39;00m \u001b[39m\"\u001b[39m\u001b[39mboard_size\u001b[39m\u001b[39m\"\u001b[39m \u001b[39min\u001b[39;00m game_params:\n\u001b[1;32m    296\u001b[0m         game_name_str \u001b[39m=\u001b[39m game_name \u001b[39m+\u001b[39m \u001b[39mstr\u001b[39m(game_params[\u001b[39m\"\u001b[39m\u001b[39mboard_size\u001b[39m\u001b[39m\"\u001b[39m])\n",
      "File \u001b[0;32m/Library/Frameworks/Python.framework/Versions/3.11/lib/python3.11/multiprocessing/pool.py:367\u001b[0m, in \u001b[0;36mPool.map\u001b[0;34m(self, func, iterable, chunksize)\u001b[0m\n\u001b[1;32m    362\u001b[0m \u001b[39mdef\u001b[39;00m \u001b[39mmap\u001b[39m(\u001b[39mself\u001b[39m, func, iterable, chunksize\u001b[39m=\u001b[39m\u001b[39mNone\u001b[39;00m):\n\u001b[1;32m    363\u001b[0m \u001b[39m    \u001b[39m\u001b[39m'''\u001b[39;00m\n\u001b[1;32m    364\u001b[0m \u001b[39m    Apply `func` to each element in `iterable`, collecting the results\u001b[39;00m\n\u001b[1;32m    365\u001b[0m \u001b[39m    in a list that is returned.\u001b[39;00m\n\u001b[1;32m    366\u001b[0m \u001b[39m    '''\u001b[39;00m\n\u001b[0;32m--> 367\u001b[0m     \u001b[39mreturn\u001b[39;00m \u001b[39mself\u001b[39;49m\u001b[39m.\u001b[39;49m_map_async(func, iterable, mapstar, chunksize)\u001b[39m.\u001b[39;49mget()\n",
      "File \u001b[0;32m/Library/Frameworks/Python.framework/Versions/3.11/lib/python3.11/multiprocessing/pool.py:768\u001b[0m, in \u001b[0;36mApplyResult.get\u001b[0;34m(self, timeout)\u001b[0m\n\u001b[1;32m    767\u001b[0m \u001b[39mdef\u001b[39;00m \u001b[39mget\u001b[39m(\u001b[39mself\u001b[39m, timeout\u001b[39m=\u001b[39m\u001b[39mNone\u001b[39;00m):\n\u001b[0;32m--> 768\u001b[0m     \u001b[39mself\u001b[39;49m\u001b[39m.\u001b[39;49mwait(timeout)\n\u001b[1;32m    769\u001b[0m     \u001b[39mif\u001b[39;00m \u001b[39mnot\u001b[39;00m \u001b[39mself\u001b[39m\u001b[39m.\u001b[39mready():\n\u001b[1;32m    770\u001b[0m         \u001b[39mraise\u001b[39;00m \u001b[39mTimeoutError\u001b[39;00m\n",
      "File \u001b[0;32m/Library/Frameworks/Python.framework/Versions/3.11/lib/python3.11/multiprocessing/pool.py:765\u001b[0m, in \u001b[0;36mApplyResult.wait\u001b[0;34m(self, timeout)\u001b[0m\n\u001b[1;32m    764\u001b[0m \u001b[39mdef\u001b[39;00m \u001b[39mwait\u001b[39m(\u001b[39mself\u001b[39m, timeout\u001b[39m=\u001b[39m\u001b[39mNone\u001b[39;00m):\n\u001b[0;32m--> 765\u001b[0m     \u001b[39mself\u001b[39;49m\u001b[39m.\u001b[39;49m_event\u001b[39m.\u001b[39;49mwait(timeout)\n",
      "File \u001b[0;32m/Library/Frameworks/Python.framework/Versions/3.11/lib/python3.11/threading.py:622\u001b[0m, in \u001b[0;36mEvent.wait\u001b[0;34m(self, timeout)\u001b[0m\n\u001b[1;32m    620\u001b[0m signaled \u001b[39m=\u001b[39m \u001b[39mself\u001b[39m\u001b[39m.\u001b[39m_flag\n\u001b[1;32m    621\u001b[0m \u001b[39mif\u001b[39;00m \u001b[39mnot\u001b[39;00m signaled:\n\u001b[0;32m--> 622\u001b[0m     signaled \u001b[39m=\u001b[39m \u001b[39mself\u001b[39;49m\u001b[39m.\u001b[39;49m_cond\u001b[39m.\u001b[39;49mwait(timeout)\n\u001b[1;32m    623\u001b[0m \u001b[39mreturn\u001b[39;00m signaled\n",
      "File \u001b[0;32m/Library/Frameworks/Python.framework/Versions/3.11/lib/python3.11/threading.py:320\u001b[0m, in \u001b[0;36mCondition.wait\u001b[0;34m(self, timeout)\u001b[0m\n\u001b[1;32m    318\u001b[0m \u001b[39mtry\u001b[39;00m:    \u001b[39m# restore state no matter what (e.g., KeyboardInterrupt)\u001b[39;00m\n\u001b[1;32m    319\u001b[0m     \u001b[39mif\u001b[39;00m timeout \u001b[39mis\u001b[39;00m \u001b[39mNone\u001b[39;00m:\n\u001b[0;32m--> 320\u001b[0m         waiter\u001b[39m.\u001b[39;49macquire()\n\u001b[1;32m    321\u001b[0m         gotit \u001b[39m=\u001b[39m \u001b[39mTrue\u001b[39;00m\n\u001b[1;32m    322\u001b[0m     \u001b[39melse\u001b[39;00m:\n",
      "\u001b[0;31mKeyboardInterrupt\u001b[0m: "
     ]
    }
   ],
   "source": [
    "%load_ext autoreload\n",
    "%autoreload 2\n",
    "\n",
    "from genetic_optimization import genetic_algorithm\n",
    "\n",
    "ai_param_ranges = {}\n",
    "eval_param_ranges = {\n",
    "    \"m_bonus\": { \"range\": [0, 20], \"precision\": 2 },\n",
    "    \"m_decay\": { \"range\": [0, 4], \"precision\": 1 },\n",
    "    \"m_w_factor\": { \"range\": [0.5, 0.99], \"precision\": 2 },\n",
    "    \"m_top_k\": { \"range\": [1, 4], \"precision\": 0 },\n",
    "    \"m_pow\": { \"range\": [1, 10], \"precision\": 0 },\n",
    "    \"m_disc\": { \"range\": [0, 2], \"precision\": 2 }\n",
    "}\n",
    "\n",
    "genetic_algorithm(\n",
    "    population_size=1000, # ! set to small amount for testing\n",
    "    num_generations=10,\n",
    "    mutation_rate=0.05,\n",
    "    game_name=\"ninarow\",\n",
    "    game_params={\"board_size\": 9, \"row_length\": 5},\n",
    "    player_name=\"alphabeta\",\n",
    "    eval_name=\"evaluate_n_in_a_row\",\n",
    "    ai_param_ranges=ai_param_ranges,\n",
    "    eval_param_ranges=eval_param_ranges,\n",
    "    ai_static_params={'max_time': 4, 'max_depth': 10},\n",
    "    n_procs=24,\n",
    "    convergence_generations=5,\n",
    "    tournament_size=5,\n",
    "    elite_count=2,\n",
    "    draw_score=0.1,\n",
    "    debug=True,\n",
    "    no_google=True\n",
    ")"
   ]
  }
 ],
 "metadata": {
  "kernelspec": {
   "display_name": ".venv",
   "language": "python",
   "name": "python3"
  },
  "language_info": {
   "codemirror_mode": {
    "name": "ipython",
    "version": 3
   },
   "file_extension": ".py",
   "mimetype": "text/x-python",
   "name": "python",
   "nbconvert_exporter": "python",
   "pygments_lexer": "ipython3",
   "version": "3.11.2"
  },
  "orig_nbformat": 4
 },
 "nbformat": 4,
 "nbformat_minor": 2
}
