{
 "cells": [
  {
   "cell_type": "code",
   "execution_count": 1,
   "metadata": {},
   "outputs": [
    {
     "name": "stdout",
     "output_type": "stream",
     "text": [
      "............................................................\n",
      "Starting generation 0\n",
      "Self-play between 100 pairs\n",
      "Finished fitness calculation, took 29 seconds\n",
      "Best individual: {'ai': {}, 'eval': {'score_discount': 0.17, 'score_factor': 6.88}}\n",
      "Best fitness: 0.25\n",
      "Finished creating next generation, took 29 seconds\n",
      "# of unique individuals values in the last 5 generations: 1\n",
      "    Finished generation 0, took 29 seconds\n",
      "    Estimated remaining time: 560 seconds\n",
      "............................................................\n",
      "Starting generation 1\n",
      "Self-play between 100 pairs\n",
      "Finished fitness calculation, took 30 seconds\n",
      "Best individual: {'ai': {}, 'eval': {'score_discount': 0.97, 'score_factor': 7.61}}\n",
      "Best fitness: 0.5\n",
      "Finished creating next generation, took 30 seconds\n",
      "# of unique individuals values in the last 5 generations: 2\n",
      "    Finished generation 1, took 30 seconds\n",
      "    Estimated remaining time: 543 seconds\n",
      "............................................................\n",
      "Starting generation 2\n",
      "Self-play between 100 pairs\n",
      "Finished fitness calculation, took 30 seconds\n",
      "Best individual: {'ai': {}, 'eval': {'score_discount': 0.47, 'score_factor': 6.8}}\n",
      "Best fitness: 1.25\n",
      "Finished creating next generation, took 30 seconds\n",
      "# of unique individuals values in the last 5 generations: 3\n",
      "    Finished generation 2, took 30 seconds\n",
      "    Estimated remaining time: 517 seconds\n",
      "............................................................\n",
      "Starting generation 3\n",
      "Self-play between 100 pairs\n",
      "Finished fitness calculation, took 31 seconds\n",
      "Best individual: {'ai': {}, 'eval': {'score_discount': 0.47, 'score_factor': 6.8}}\n",
      "Best fitness: 1.25\n",
      "Finished creating next generation, took 31 seconds\n",
      "# of unique individuals values in the last 5 generations: 3\n",
      "    Finished generation 3, took 31 seconds\n",
      "    Estimated remaining time: 490 seconds\n",
      "............................................................\n",
      "Starting generation 4\n",
      "Self-play between 100 pairs\n"
     ]
    },
    {
     "ename": "KeyboardInterrupt",
     "evalue": "",
     "output_type": "error",
     "traceback": [
      "\u001b[0;31m---------------------------------------------------------------------------\u001b[0m",
      "\u001b[0;31mKeyboardInterrupt\u001b[0m                         Traceback (most recent call last)",
      "Cell \u001b[0;32mIn[1], line 6\u001b[0m\n\u001b[1;32m      3\u001b[0m ai_param_ranges \u001b[39m=\u001b[39m {}\n\u001b[1;32m      4\u001b[0m eval_param_ranges \u001b[39m=\u001b[39m {\u001b[39m\"\u001b[39m\u001b[39mscore_discount\u001b[39m\u001b[39m\"\u001b[39m: {\u001b[39m\"\u001b[39m\u001b[39mrange\u001b[39m\u001b[39m\"\u001b[39m: (\u001b[39m0\u001b[39m, \u001b[39m1\u001b[39m), \u001b[39m\"\u001b[39m\u001b[39mprecision\u001b[39m\u001b[39m\"\u001b[39m: \u001b[39m2\u001b[39m}, \u001b[39m\"\u001b[39m\u001b[39mscore_factor\u001b[39m\u001b[39m\"\u001b[39m: {\u001b[39m\"\u001b[39m\u001b[39mrange\u001b[39m\u001b[39m\"\u001b[39m: (\u001b[39m1\u001b[39m, \u001b[39m10\u001b[39m), \u001b[39m\"\u001b[39m\u001b[39mprecision\u001b[39m\u001b[39m\"\u001b[39m: \u001b[39m2\u001b[39m}}\n\u001b[0;32m----> 6\u001b[0m genetic_algorithm(\n\u001b[1;32m      7\u001b[0m     population_size\u001b[39m=\u001b[39;49m\u001b[39m200\u001b[39;49m,\n\u001b[1;32m      8\u001b[0m     num_generations\u001b[39m=\u001b[39;49m\u001b[39m20\u001b[39;49m,\n\u001b[1;32m      9\u001b[0m     mutation_rate\u001b[39m=\u001b[39;49m\u001b[39m0.1\u001b[39;49m,\n\u001b[1;32m     10\u001b[0m     game_name\u001b[39m=\u001b[39;49m\u001b[39m\"\u001b[39;49m\u001b[39mtictactoe\u001b[39;49m\u001b[39m\"\u001b[39;49m,\n\u001b[1;32m     11\u001b[0m     game_params\u001b[39m=\u001b[39;49m{\u001b[39m\"\u001b[39;49m\u001b[39mboard_size\u001b[39;49m\u001b[39m\"\u001b[39;49m: \u001b[39m6\u001b[39;49m},\n\u001b[1;32m     12\u001b[0m     player_name\u001b[39m=\u001b[39;49m\u001b[39m\"\u001b[39;49m\u001b[39malphabeta\u001b[39;49m\u001b[39m\"\u001b[39;49m,\n\u001b[1;32m     13\u001b[0m     eval_name\u001b[39m=\u001b[39;49m\u001b[39m\"\u001b[39;49m\u001b[39mevaluate_tictactoe\u001b[39;49m\u001b[39m\"\u001b[39;49m,\n\u001b[1;32m     14\u001b[0m     ai_param_ranges\u001b[39m=\u001b[39;49mai_param_ranges,\n\u001b[1;32m     15\u001b[0m     eval_param_ranges\u001b[39m=\u001b[39;49meval_param_ranges,\n\u001b[1;32m     16\u001b[0m     ai_static_params\u001b[39m=\u001b[39;49m{\u001b[39m'\u001b[39;49m\u001b[39mmax_time\u001b[39;49m\u001b[39m'\u001b[39;49m: \u001b[39m10\u001b[39;49m, \u001b[39m'\u001b[39;49m\u001b[39mmax_depth\u001b[39;49m\u001b[39m'\u001b[39;49m: \u001b[39m3\u001b[39;49m},\n\u001b[1;32m     17\u001b[0m     n_procs\u001b[39m=\u001b[39;49m\u001b[39m8\u001b[39;49m,\n\u001b[1;32m     18\u001b[0m     convergence_generations\u001b[39m=\u001b[39;49m\u001b[39m5\u001b[39;49m,\n\u001b[1;32m     19\u001b[0m     tournament_size\u001b[39m=\u001b[39;49m\u001b[39m5\u001b[39;49m,\n\u001b[1;32m     20\u001b[0m     elite_count\u001b[39m=\u001b[39;49m\u001b[39m2\u001b[39;49m,\n\u001b[1;32m     21\u001b[0m     draw_score\u001b[39m=\u001b[39;49m\u001b[39m0.25\u001b[39;49m,\n\u001b[1;32m     22\u001b[0m     debug\u001b[39m=\u001b[39;49m\u001b[39mTrue\u001b[39;49;00m\n\u001b[1;32m     23\u001b[0m )\n",
      "File \u001b[0;32m~/github/mcts_python/util.py:60\u001b[0m, in \u001b[0;36mlog_exception_handler.<locals>.wrapper\u001b[0;34m(*args, **kwargs)\u001b[0m\n\u001b[1;32m     58\u001b[0m \u001b[39mdef\u001b[39;00m \u001b[39mwrapper\u001b[39m(\u001b[39m*\u001b[39margs, \u001b[39m*\u001b[39m\u001b[39m*\u001b[39mkwargs):\n\u001b[1;32m     59\u001b[0m     \u001b[39mtry\u001b[39;00m:\n\u001b[0;32m---> 60\u001b[0m         \u001b[39mreturn\u001b[39;00m func(\u001b[39m*\u001b[39;49margs, \u001b[39m*\u001b[39;49m\u001b[39m*\u001b[39;49mkwargs)\n\u001b[1;32m     61\u001b[0m     \u001b[39mexcept\u001b[39;00m \u001b[39mException\u001b[39;00m \u001b[39mas\u001b[39;00m e:\n\u001b[1;32m     62\u001b[0m         error_message \u001b[39m=\u001b[39m \u001b[39mstr\u001b[39m(e) \u001b[39m+\u001b[39m \u001b[39m\"\u001b[39m\u001b[39m\\n\u001b[39;00m\u001b[39m\"\u001b[39m \u001b[39m+\u001b[39m traceback\u001b[39m.\u001b[39mformat_exc()\n",
      "File \u001b[0;32m~/github/mcts_python/genetic_optimization.py:213\u001b[0m, in \u001b[0;36mgenetic_algorithm\u001b[0;34m(population_size, num_generations, mutation_rate, game_name, game_params, player_name, eval_name, ai_param_ranges, eval_param_ranges, ai_static_params, eval_static_params, n_procs, convergence_generations, tournament_size, elite_count, draw_score, debug)\u001b[0m\n\u001b[1;32m    211\u001b[0m \u001b[39m# Evaluate the fitness of each pair of individuals in the population\u001b[39;00m\n\u001b[1;32m    212\u001b[0m \u001b[39mwith\u001b[39;00m multiprocessing\u001b[39m.\u001b[39mPool(n_procs) \u001b[39mas\u001b[39;00m pool:\n\u001b[0;32m--> 213\u001b[0m     results \u001b[39m=\u001b[39m pool\u001b[39m.\u001b[39;49mmap(partial_evaluate_fitness, pairs)\n\u001b[1;32m    215\u001b[0m \u001b[39m# Calculate the number of wins for each individual as fitness values\u001b[39;00m\n\u001b[1;32m    216\u001b[0m fitnesses \u001b[39m=\u001b[39m [\u001b[39m0\u001b[39m] \u001b[39m*\u001b[39m \u001b[39mlen\u001b[39m(population)\n",
      "File \u001b[0;32m/Library/Frameworks/Python.framework/Versions/3.11/lib/python3.11/multiprocessing/pool.py:367\u001b[0m, in \u001b[0;36mPool.map\u001b[0;34m(self, func, iterable, chunksize)\u001b[0m\n\u001b[1;32m    362\u001b[0m \u001b[39mdef\u001b[39;00m \u001b[39mmap\u001b[39m(\u001b[39mself\u001b[39m, func, iterable, chunksize\u001b[39m=\u001b[39m\u001b[39mNone\u001b[39;00m):\n\u001b[1;32m    363\u001b[0m \u001b[39m    \u001b[39m\u001b[39m'''\u001b[39;00m\n\u001b[1;32m    364\u001b[0m \u001b[39m    Apply `func` to each element in `iterable`, collecting the results\u001b[39;00m\n\u001b[1;32m    365\u001b[0m \u001b[39m    in a list that is returned.\u001b[39;00m\n\u001b[1;32m    366\u001b[0m \u001b[39m    '''\u001b[39;00m\n\u001b[0;32m--> 367\u001b[0m     \u001b[39mreturn\u001b[39;00m \u001b[39mself\u001b[39;49m\u001b[39m.\u001b[39;49m_map_async(func, iterable, mapstar, chunksize)\u001b[39m.\u001b[39;49mget()\n",
      "File \u001b[0;32m/Library/Frameworks/Python.framework/Versions/3.11/lib/python3.11/multiprocessing/pool.py:768\u001b[0m, in \u001b[0;36mApplyResult.get\u001b[0;34m(self, timeout)\u001b[0m\n\u001b[1;32m    767\u001b[0m \u001b[39mdef\u001b[39;00m \u001b[39mget\u001b[39m(\u001b[39mself\u001b[39m, timeout\u001b[39m=\u001b[39m\u001b[39mNone\u001b[39;00m):\n\u001b[0;32m--> 768\u001b[0m     \u001b[39mself\u001b[39;49m\u001b[39m.\u001b[39;49mwait(timeout)\n\u001b[1;32m    769\u001b[0m     \u001b[39mif\u001b[39;00m \u001b[39mnot\u001b[39;00m \u001b[39mself\u001b[39m\u001b[39m.\u001b[39mready():\n\u001b[1;32m    770\u001b[0m         \u001b[39mraise\u001b[39;00m \u001b[39mTimeoutError\u001b[39;00m\n",
      "File \u001b[0;32m/Library/Frameworks/Python.framework/Versions/3.11/lib/python3.11/multiprocessing/pool.py:765\u001b[0m, in \u001b[0;36mApplyResult.wait\u001b[0;34m(self, timeout)\u001b[0m\n\u001b[1;32m    764\u001b[0m \u001b[39mdef\u001b[39;00m \u001b[39mwait\u001b[39m(\u001b[39mself\u001b[39m, timeout\u001b[39m=\u001b[39m\u001b[39mNone\u001b[39;00m):\n\u001b[0;32m--> 765\u001b[0m     \u001b[39mself\u001b[39;49m\u001b[39m.\u001b[39;49m_event\u001b[39m.\u001b[39;49mwait(timeout)\n",
      "File \u001b[0;32m/Library/Frameworks/Python.framework/Versions/3.11/lib/python3.11/threading.py:622\u001b[0m, in \u001b[0;36mEvent.wait\u001b[0;34m(self, timeout)\u001b[0m\n\u001b[1;32m    620\u001b[0m signaled \u001b[39m=\u001b[39m \u001b[39mself\u001b[39m\u001b[39m.\u001b[39m_flag\n\u001b[1;32m    621\u001b[0m \u001b[39mif\u001b[39;00m \u001b[39mnot\u001b[39;00m signaled:\n\u001b[0;32m--> 622\u001b[0m     signaled \u001b[39m=\u001b[39m \u001b[39mself\u001b[39;49m\u001b[39m.\u001b[39;49m_cond\u001b[39m.\u001b[39;49mwait(timeout)\n\u001b[1;32m    623\u001b[0m \u001b[39mreturn\u001b[39;00m signaled\n",
      "File \u001b[0;32m/Library/Frameworks/Python.framework/Versions/3.11/lib/python3.11/threading.py:320\u001b[0m, in \u001b[0;36mCondition.wait\u001b[0;34m(self, timeout)\u001b[0m\n\u001b[1;32m    318\u001b[0m \u001b[39mtry\u001b[39;00m:    \u001b[39m# restore state no matter what (e.g., KeyboardInterrupt)\u001b[39;00m\n\u001b[1;32m    319\u001b[0m     \u001b[39mif\u001b[39;00m timeout \u001b[39mis\u001b[39;00m \u001b[39mNone\u001b[39;00m:\n\u001b[0;32m--> 320\u001b[0m         waiter\u001b[39m.\u001b[39;49macquire()\n\u001b[1;32m    321\u001b[0m         gotit \u001b[39m=\u001b[39m \u001b[39mTrue\u001b[39;00m\n\u001b[1;32m    322\u001b[0m     \u001b[39melse\u001b[39;00m:\n",
      "\u001b[0;31mKeyboardInterrupt\u001b[0m: "
     ]
    }
   ],
   "source": [
    "from genetic_optimization import genetic_algorithm\n",
    "\n",
    "ai_param_ranges = {}\n",
    "eval_param_ranges = {\"score_discount\": {\"range\": (0, 1), \"precision\": 2}, \"score_factor\": {\"range\": (1, 10), \"precision\": 2}}\n",
    "\n",
    "genetic_algorithm(\n",
    "    population_size=200,\n",
    "    num_generations=20,\n",
    "    mutation_rate=0.1,\n",
    "    game_name=\"tictactoe\",\n",
    "    game_params={\"board_size\": 6},\n",
    "    player_name=\"alphabeta\",\n",
    "    eval_name=\"evaluate_tictactoe\",\n",
    "    ai_param_ranges=ai_param_ranges,\n",
    "    eval_param_ranges=eval_param_ranges,\n",
    "    ai_static_params={'max_time': 10, 'max_depth': 3},\n",
    "    n_procs=8,\n",
    "    convergence_generations=5,\n",
    "    tournament_size=5,\n",
    "    elite_count=2,\n",
    "    draw_score=0.25,\n",
    "    debug=True\n",
    ")"
   ]
  }
 ],
 "metadata": {
  "kernelspec": {
   "display_name": ".venv",
   "language": "python",
   "name": "python3"
  },
  "language_info": {
   "codemirror_mode": {
    "name": "ipython",
    "version": 3
   },
   "file_extension": ".py",
   "mimetype": "text/x-python",
   "name": "python",
   "nbconvert_exporter": "python",
   "pygments_lexer": "ipython3",
   "version": "3.11.3"
  },
  "orig_nbformat": 4
 },
 "nbformat": 4,
 "nbformat_minor": 2
}
