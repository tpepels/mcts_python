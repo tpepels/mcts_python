{
 "cells": [
  {
   "cell_type": "code",
   "execution_count": null,
   "metadata": {},
   "outputs": [],
   "source": [
    "from run_games import run_game, AIParams\n",
    "\n",
    "p1_params = AIParams(ai_key='alphabeta', eval_key='evaluate_tictactoe', max_player=1,\n",
    "                     ai_params={\"max_time\": 1, \"debug\": True, \"use_tt\": False})\n",
    "p2_params = AIParams(ai_key='alphabeta', eval_key='evaluate_tictactoe', max_player=2,\n",
    "                     ai_params={\"max_time\": 1, \"debug\": True})\n",
    "run_game(game_key='tictactoe', game_params={\"board_size\" : 4}, p1_params=p1_params, p2_params=p2_params)"
   ]
  },
  {
   "cell_type": "code",
   "execution_count": null,
   "metadata": {},
   "outputs": [],
   "source": [
    "from run_games import run_game, AIParams\n",
    "\n",
    "p1_params = AIParams(ai_key='alphabeta', eval_key='evaluate_n_in_a_row',\n",
    "                     max_player=1, ai_params={\"max_time\": 4, \"debug\": True})\n",
    "p2_params = AIParams(ai_key='alphabeta', eval_key='evaluate_tictactoe',\n",
    "                     max_player=2, ai_params={\"max_time\": 4, \"debug\": True})\n",
    "# An n-in-a-row game\n",
    "run_game(game_key='tictactoe', game_params={\"board_size\" : 9, \"row_length\": 5}, \n",
    "         p1_params=p1_params, p2_params=p2_params)"
   ]
  },
  {
   "cell_type": "code",
   "execution_count": 1,
   "metadata": {},
   "outputs": [
    {
     "name": "stdout",
     "output_type": "stream",
     "text": [
      " d=2 t_r=10.00 l_t=0.00 ***   d=3 t_r=9.91 l_t=0.09 ***   d=4 t_r=9.45 l_t=0.45 ***  \n",
      "1 Max Player          : \u001b[32m\u001b[1m1\u001b[0m\n",
      "Best Move             : \u001b[39m\u001b[1m(53, 45)\u001b[0m\n",
      "Best Value            : \u001b[39m\u001b[1m0.000\u001b[0m\n",
      "Best Values           : \u001b[39m\u001b[1m(2, 1.7763568394002505e-15, (49, 41))\u001b[0m\n",
      "                        \u001b[39m\u001b[1m(3, 14.347058823529416, (49, 41))\u001b[0m\n",
      "                        \u001b[39m\u001b[1m(4, 1.3322676295501878e-15, (53, 45))\u001b[0m\n",
      "Depth                 : \u001b[32m\u001b[1m6\u001b[0m\n",
      "Depth Average         : \u001b[32m\u001b[1m4\u001b[0m\n",
      "Depth Finished        : \u001b[32m\u001b[1m4\u001b[0m\n",
      "Nodes Avg Br Fact     : \u001b[32m\u001b[1m24\u001b[0m\n",
      "Nodes Best Move Order : \u001b[32m\u001b[1m916\u001b[0m\n",
      "Nodes Cutoff          : \u001b[32m\u001b[1m2,979\u001b[0m\n",
      "Nodes Evaluated       : \u001b[32m\u001b[1m26,298\u001b[0m\n",
      "Nodes Generated       : \u001b[32m\u001b[1m87,790\u001b[0m\n",
      "Nodes Per Sec         : \u001b[34m\u001b[1m390.206\u001b[0m\n",
      "Nodes Visited         : \u001b[32m\u001b[1m3,702\u001b[0m\n",
      "Search Tim Out        : \u001b[33m\u001b[1mTrue\u001b[0m\n",
      "Search Time           : \u001b[34m\u001b[1m9.49 seconds\u001b[0m\n",
      "Search Time Average   : \u001b[32m\u001b[1m9.00 seconds\u001b[0m\n",
      "Search Times P.D      : \u001b[34m\u001b[1m0.09 seconds\u001b[0m\n",
      "                        \u001b[34m\u001b[1m0.45 seconds\u001b[0m\n",
      "                        \u001b[34m\u001b[1m2.53 seconds\u001b[0m\n",
      "                        \u001b[34m\u001b[1m6.41 seconds\u001b[0m\n",
      "Tt Cache Hits         : \u001b[32m\u001b[1m916\u001b[0m\n",
      "Tt Cache Misses       : \u001b[32m\u001b[1m2,786\u001b[0m\n",
      "Tt Cleanups           : \u001b[32m\u001b[1m0\u001b[0m\n",
      "Tt Collisions         : \u001b[32m\u001b[1m916\u001b[0m\n",
      "Tt Entries            : \u001b[32m\u001b[1m2,786\u001b[0m\n",
      "Tt Size               : \u001b[32m\u001b[1m262,144\u001b[0m\n",
      "Player AlphaBetaPlayer(player=1, max_depth=25, max_time=10, evaluate=evaluate_breakthrough_lorenz, use_null_moves=False, use_quiescence=False, use_transpositions=True, tt_size=262144) chosen action: (53, 45). Current game state: \n",
      "   A B C D E F G H\n",
      "1 B B B B B B B B\n",
      "2 B B B B B B B B\n",
      "3 . . . . . . . .\n",
      "4 . . . . . . . .\n",
      "5 . . . . . . . .\n",
      "6 . . . . . W . .\n",
      "7 W W W W W . W W\n",
      "8 W W W W W W W W\n",
      "hash: 5852139589870645255\n",
      " d=2 t_r=10.00 l_t=0.00 ***   d=3 t_r=9.90 l_t=0.10 ***   d=4 t_r=9.68 l_t=0.22 ***  \n",
      "2 Max Player          : \u001b[32m\u001b[1m2\u001b[0m\n",
      "Best Move             : \u001b[39m\u001b[1m(9, 17)\u001b[0m\n",
      "Best Value            : \u001b[39m\u001b[1m-13.647\u001b[0m\n",
      "Best Values           : \u001b[39m\u001b[1m(2, -15.941176470588237, (13, 22))\u001b[0m\n",
      "                        \u001b[39m\u001b[1m(3, -1.1990408665951691e-15, (9, 17))\u001b[0m\n",
      "                        \u001b[39m\u001b[1m(4, -13.647058823529417, (9, 17))\u001b[0m\n",
      "Depth                 : \u001b[32m\u001b[1m6\u001b[0m\n",
      "Depth Average         : \u001b[32m\u001b[1m4\u001b[0m\n",
      "Depth Finished        : \u001b[32m\u001b[1m4\u001b[0m\n",
      "Nodes Avg Br Fact     : \u001b[32m\u001b[1m25\u001b[0m\n",
      "Nodes Best Move Order : \u001b[32m\u001b[1m972\u001b[0m\n",
      "Nodes Cutoff          : \u001b[32m\u001b[1m3,123\u001b[0m\n",
      "Nodes Evaluated       : \u001b[32m\u001b[1m26,065\u001b[0m\n",
      "Nodes Generated       : \u001b[32m\u001b[1m96,538\u001b[0m\n",
      "Nodes Per Sec         : \u001b[34m\u001b[1m420.957\u001b[0m\n",
      "Nodes Visited         : \u001b[32m\u001b[1m3,935\u001b[0m\n",
      "Search Tim Out        : \u001b[33m\u001b[1mTrue\u001b[0m\n",
      "Search Time           : \u001b[34m\u001b[1m9.35 seconds\u001b[0m\n",
      "Search Time Average   : \u001b[32m\u001b[1m9.00 seconds\u001b[0m\n",
      "Search Times P.D      : \u001b[34m\u001b[1m0.10 seconds\u001b[0m\n",
      "                        \u001b[34m\u001b[1m0.22 seconds\u001b[0m\n",
      "                        \u001b[34m\u001b[1m1.41 seconds\u001b[0m\n",
      "                        \u001b[34m\u001b[1m7.62 seconds\u001b[0m\n",
      "Tt Cache Hits         : \u001b[32m\u001b[1m972\u001b[0m\n",
      "Tt Cache Misses       : \u001b[32m\u001b[1m2,963\u001b[0m\n",
      "Tt Cleanups           : \u001b[32m\u001b[1m0\u001b[0m\n",
      "Tt Collisions         : \u001b[32m\u001b[1m972\u001b[0m\n",
      "Tt Entries            : \u001b[32m\u001b[1m2,963\u001b[0m\n",
      "Tt Size               : \u001b[32m\u001b[1m262,144\u001b[0m\n",
      "Player AlphaBetaPlayer(player=2, max_depth=25, max_time=10, evaluate=evaluate_breakthrough_lorenz, use_null_moves=False, use_quiescence=False, use_transpositions=True, tt_size=262144) chosen action: (9, 17). Current game state: \n",
      "   A B C D E F G H\n",
      "1 B B B B B B B B\n",
      "2 B . B B B B B B\n",
      "3 . B . . . . . .\n",
      "4 . . . . . . . .\n",
      "5 . . . . . . . .\n",
      "6 . . . . . W . .\n",
      "7 W W W W W . W W\n",
      "8 W W W W W W W W\n",
      "hash: 11792551994833626265\n",
      " d=2 t_r=10.00 l_t=0.00 ***   d=3 t_r=9.98 l_t=0.02 ***   d=4 t_r=9.78 l_t=0.20 ***  "
     ]
    },
    {
     "ename": "KeyboardInterrupt",
     "evalue": "",
     "output_type": "error",
     "traceback": [
      "\u001b[0;31m---------------------------------------------------------------------------\u001b[0m",
      "\u001b[0;31mKeyboardInterrupt\u001b[0m                         Traceback (most recent call last)",
      "Cell \u001b[0;32mIn[1], line 8\u001b[0m\n\u001b[1;32m      3\u001b[0m p1_params \u001b[39m=\u001b[39m AIParams(ai_key\u001b[39m=\u001b[39m\u001b[39m'\u001b[39m\u001b[39malphabeta\u001b[39m\u001b[39m'\u001b[39m, eval_key\u001b[39m=\u001b[39m\u001b[39m'\u001b[39m\u001b[39mevaluate_breakthrough_lorenz\u001b[39m\u001b[39m'\u001b[39m, max_player\u001b[39m=\u001b[39m\u001b[39m1\u001b[39m,\n\u001b[1;32m      4\u001b[0m                      ai_params\u001b[39m=\u001b[39m{\u001b[39m\"\u001b[39m\u001b[39mmax_time\u001b[39m\u001b[39m\"\u001b[39m: \u001b[39m10\u001b[39m, \u001b[39m\"\u001b[39m\u001b[39mdebug\u001b[39m\u001b[39m\"\u001b[39m: \u001b[39mTrue\u001b[39;00m})\n\u001b[1;32m      5\u001b[0m p2_params \u001b[39m=\u001b[39m AIParams(ai_key\u001b[39m=\u001b[39m\u001b[39m'\u001b[39m\u001b[39malphabeta\u001b[39m\u001b[39m'\u001b[39m, eval_key\u001b[39m=\u001b[39m\u001b[39m'\u001b[39m\u001b[39mevaluate_breakthrough_lorenz\u001b[39m\u001b[39m'\u001b[39m, max_player\u001b[39m=\u001b[39m\u001b[39m2\u001b[39m,\n\u001b[1;32m      6\u001b[0m                      ai_params\u001b[39m=\u001b[39m{\u001b[39m\"\u001b[39m\u001b[39mmax_time\u001b[39m\u001b[39m\"\u001b[39m: \u001b[39m10\u001b[39m, \u001b[39m\"\u001b[39m\u001b[39mdebug\u001b[39m\u001b[39m\"\u001b[39m: \u001b[39mTrue\u001b[39;00m})\n\u001b[0;32m----> 8\u001b[0m run_game(game_key\u001b[39m=\u001b[39;49m\u001b[39m'\u001b[39;49m\u001b[39mbreakthrough\u001b[39;49m\u001b[39m'\u001b[39;49m, game_params\u001b[39m=\u001b[39;49m{}, p1_params\u001b[39m=\u001b[39;49mp1_params, p2_params\u001b[39m=\u001b[39;49mp2_params)\n",
      "File \u001b[0;32m~/github/mcts_python/run_games.py:198\u001b[0m, in \u001b[0;36mrun_game\u001b[0;34m(game_key, game_params, p1_params, p2_params)\u001b[0m\n\u001b[1;32m    195\u001b[0m             \u001b[39mprint\u001b[39m(\u001b[39m\"\u001b[39m\u001b[39mGame Over. Draw\u001b[39m\u001b[39m\"\u001b[39m)\n\u001b[1;32m    197\u001b[0m game, p1, p2 \u001b[39m=\u001b[39m init_game_and_players(game_key, game_params, p1_params, p2_params)\n\u001b[0;32m--> 198\u001b[0m reward \u001b[39m=\u001b[39m play_game_until_terminal(game, p1, p2, callback\u001b[39m=\u001b[39;49mcallback)\n\u001b[1;32m    200\u001b[0m p1\u001b[39m.\u001b[39mprint_cumulative_statistics()\n\u001b[1;32m    201\u001b[0m p2\u001b[39m.\u001b[39mprint_cumulative_statistics()\n",
      "File \u001b[0;32m~/github/mcts_python/run_games.py:162\u001b[0m, in \u001b[0;36mplay_game_until_terminal\u001b[0;34m(game, player1, player2, callback)\u001b[0m\n\u001b[1;32m    159\u001b[0m current_player: AIPlayer \u001b[39m=\u001b[39m player1\n\u001b[1;32m    160\u001b[0m \u001b[39mwhile\u001b[39;00m \u001b[39mnot\u001b[39;00m game\u001b[39m.\u001b[39mis_terminal():\n\u001b[1;32m    161\u001b[0m     \u001b[39m# Get the best action for the current player\u001b[39;00m\n\u001b[0;32m--> 162\u001b[0m     action, _ \u001b[39m=\u001b[39m current_player\u001b[39m.\u001b[39;49mbest_action(game)\n\u001b[1;32m    164\u001b[0m     \u001b[39m# Apply the action to get the new game state\u001b[39;00m\n\u001b[1;32m    165\u001b[0m     game \u001b[39m=\u001b[39m game\u001b[39m.\u001b[39mapply_action(action)\n",
      "File \u001b[0;32m~/github/mcts_python/ai/alpha_beta.py:212\u001b[0m, in \u001b[0;36mAlphaBetaPlayer.best_action\u001b[0;34m(self, state)\u001b[0m\n\u001b[1;32m    209\u001b[0m \u001b[39mif\u001b[39;00m interrupted \u001b[39mor\u001b[39;00m ((time\u001b[39m.\u001b[39mtime() \u001b[39m-\u001b[39m start_time) \u001b[39m+\u001b[39m (search_times[\u001b[39m-\u001b[39m\u001b[39m1\u001b[39m]) \u001b[39m>\u001b[39m\u001b[39m=\u001b[39m \u001b[39mself\u001b[39m\u001b[39m.\u001b[39mmax_time):\n\u001b[1;32m    210\u001b[0m     \u001b[39m# print(f\"interrupted. {last_best_move=}, {last_best_v=}, {best_move=}, {v=}\")\u001b[39;00m\n\u001b[1;32m    211\u001b[0m     \u001b[39mbreak\u001b[39;00m  \u001b[39m# Stop searching if the time limit has been exceeded or if there's not enough time to do another search\u001b[39;00m\n\u001b[0;32m--> 212\u001b[0m v, best_move \u001b[39m=\u001b[39m value(\n\u001b[1;32m    213\u001b[0m     state,\n\u001b[1;32m    214\u001b[0m     alpha\u001b[39m=\u001b[39;49m\u001b[39m-\u001b[39;49m\u001b[39mfloat\u001b[39;49m(\u001b[39m\"\u001b[39;49m\u001b[39minf\u001b[39;49m\u001b[39m\"\u001b[39;49m),\n\u001b[1;32m    215\u001b[0m     beta\u001b[39m=\u001b[39;49m\u001b[39mfloat\u001b[39;49m(\u001b[39m\"\u001b[39;49m\u001b[39minf\u001b[39;49m\u001b[39m\"\u001b[39;49m),\n\u001b[1;32m    216\u001b[0m     depth\u001b[39m=\u001b[39;49mdepth,\n\u001b[1;32m    217\u001b[0m     max_d\u001b[39m=\u001b[39;49mdepth,\n\u001b[1;32m    218\u001b[0m     allow_null_move\u001b[39m=\u001b[39;49m\u001b[39mTrue\u001b[39;49;00m,\n\u001b[1;32m    219\u001b[0m     root\u001b[39m=\u001b[39;49m\u001b[39mTrue\u001b[39;49;00m,\n\u001b[1;32m    220\u001b[0m )\n\u001b[1;32m    221\u001b[0m first_depth \u001b[39m=\u001b[39m \u001b[39mFalse\u001b[39;00m\n\u001b[1;32m    222\u001b[0m \u001b[39mif\u001b[39;00m \u001b[39mnot\u001b[39;00m interrupted:\n",
      "File \u001b[0;32m~/github/mcts_python/ai/alpha_beta.py:159\u001b[0m, in \u001b[0;36mAlphaBetaPlayer.best_action.<locals>.value\u001b[0;34m(state, alpha, beta, depth, max_d, allow_null_move, root)\u001b[0m\n\u001b[1;32m    156\u001b[0m nodes_visited \u001b[39m+\u001b[39m\u001b[39m=\u001b[39m \u001b[39m1\u001b[39m\n\u001b[1;32m    158\u001b[0m \u001b[39mfor\u001b[39;00m move \u001b[39min\u001b[39;00m actions:\n\u001b[0;32m--> 159\u001b[0m     new_v, _ \u001b[39m=\u001b[39m value(\n\u001b[1;32m    160\u001b[0m         state\u001b[39m=\u001b[39;49mstate\u001b[39m.\u001b[39;49mapply_action(move),\n\u001b[1;32m    161\u001b[0m         alpha\u001b[39m=\u001b[39;49malpha,\n\u001b[1;32m    162\u001b[0m         beta\u001b[39m=\u001b[39;49mbeta,\n\u001b[1;32m    163\u001b[0m         depth\u001b[39m=\u001b[39;49mdepth \u001b[39m-\u001b[39;49m \u001b[39m1\u001b[39;49m,\n\u001b[1;32m    164\u001b[0m         max_d\u001b[39m=\u001b[39;49mmax_d,\n\u001b[1;32m    165\u001b[0m         root\u001b[39m=\u001b[39;49m\u001b[39mFalse\u001b[39;49;00m,\n\u001b[1;32m    166\u001b[0m         allow_null_move\u001b[39m=\u001b[39;49mallow_null_move,\n\u001b[1;32m    167\u001b[0m     )\n\u001b[1;32m    169\u001b[0m     \u001b[39m# Update v, alpha or beta based on the player\u001b[39;00m\n\u001b[1;32m    170\u001b[0m     \u001b[39mif\u001b[39;00m (is_max_player \u001b[39mand\u001b[39;00m new_v \u001b[39m>\u001b[39m v) \u001b[39mor\u001b[39;00m (\u001b[39mnot\u001b[39;00m is_max_player \u001b[39mand\u001b[39;00m new_v \u001b[39m<\u001b[39m v):\n",
      "File \u001b[0;32m~/github/mcts_python/ai/alpha_beta.py:159\u001b[0m, in \u001b[0;36mAlphaBetaPlayer.best_action.<locals>.value\u001b[0;34m(state, alpha, beta, depth, max_d, allow_null_move, root)\u001b[0m\n\u001b[1;32m    156\u001b[0m nodes_visited \u001b[39m+\u001b[39m\u001b[39m=\u001b[39m \u001b[39m1\u001b[39m\n\u001b[1;32m    158\u001b[0m \u001b[39mfor\u001b[39;00m move \u001b[39min\u001b[39;00m actions:\n\u001b[0;32m--> 159\u001b[0m     new_v, _ \u001b[39m=\u001b[39m value(\n\u001b[1;32m    160\u001b[0m         state\u001b[39m=\u001b[39;49mstate\u001b[39m.\u001b[39;49mapply_action(move),\n\u001b[1;32m    161\u001b[0m         alpha\u001b[39m=\u001b[39;49malpha,\n\u001b[1;32m    162\u001b[0m         beta\u001b[39m=\u001b[39;49mbeta,\n\u001b[1;32m    163\u001b[0m         depth\u001b[39m=\u001b[39;49mdepth \u001b[39m-\u001b[39;49m \u001b[39m1\u001b[39;49m,\n\u001b[1;32m    164\u001b[0m         max_d\u001b[39m=\u001b[39;49mmax_d,\n\u001b[1;32m    165\u001b[0m         root\u001b[39m=\u001b[39;49m\u001b[39mFalse\u001b[39;49;00m,\n\u001b[1;32m    166\u001b[0m         allow_null_move\u001b[39m=\u001b[39;49mallow_null_move,\n\u001b[1;32m    167\u001b[0m     )\n\u001b[1;32m    169\u001b[0m     \u001b[39m# Update v, alpha or beta based on the player\u001b[39;00m\n\u001b[1;32m    170\u001b[0m     \u001b[39mif\u001b[39;00m (is_max_player \u001b[39mand\u001b[39;00m new_v \u001b[39m>\u001b[39m v) \u001b[39mor\u001b[39;00m (\u001b[39mnot\u001b[39;00m is_max_player \u001b[39mand\u001b[39;00m new_v \u001b[39m<\u001b[39m v):\n",
      "    \u001b[0;31m[... skipping similar frames: AlphaBetaPlayer.best_action.<locals>.value at line 159 (2 times)]\u001b[0m\n",
      "File \u001b[0;32m~/github/mcts_python/ai/alpha_beta.py:159\u001b[0m, in \u001b[0;36mAlphaBetaPlayer.best_action.<locals>.value\u001b[0;34m(state, alpha, beta, depth, max_d, allow_null_move, root)\u001b[0m\n\u001b[1;32m    156\u001b[0m nodes_visited \u001b[39m+\u001b[39m\u001b[39m=\u001b[39m \u001b[39m1\u001b[39m\n\u001b[1;32m    158\u001b[0m \u001b[39mfor\u001b[39;00m move \u001b[39min\u001b[39;00m actions:\n\u001b[0;32m--> 159\u001b[0m     new_v, _ \u001b[39m=\u001b[39m value(\n\u001b[1;32m    160\u001b[0m         state\u001b[39m=\u001b[39;49mstate\u001b[39m.\u001b[39;49mapply_action(move),\n\u001b[1;32m    161\u001b[0m         alpha\u001b[39m=\u001b[39;49malpha,\n\u001b[1;32m    162\u001b[0m         beta\u001b[39m=\u001b[39;49mbeta,\n\u001b[1;32m    163\u001b[0m         depth\u001b[39m=\u001b[39;49mdepth \u001b[39m-\u001b[39;49m \u001b[39m1\u001b[39;49m,\n\u001b[1;32m    164\u001b[0m         max_d\u001b[39m=\u001b[39;49mmax_d,\n\u001b[1;32m    165\u001b[0m         root\u001b[39m=\u001b[39;49m\u001b[39mFalse\u001b[39;49;00m,\n\u001b[1;32m    166\u001b[0m         allow_null_move\u001b[39m=\u001b[39;49mallow_null_move,\n\u001b[1;32m    167\u001b[0m     )\n\u001b[1;32m    169\u001b[0m     \u001b[39m# Update v, alpha or beta based on the player\u001b[39;00m\n\u001b[1;32m    170\u001b[0m     \u001b[39mif\u001b[39;00m (is_max_player \u001b[39mand\u001b[39;00m new_v \u001b[39m>\u001b[39m v) \u001b[39mor\u001b[39;00m (\u001b[39mnot\u001b[39;00m is_max_player \u001b[39mand\u001b[39;00m new_v \u001b[39m<\u001b[39m v):\n",
      "File \u001b[0;32m~/github/mcts_python/ai/alpha_beta.py:116\u001b[0m, in \u001b[0;36mAlphaBetaPlayer.best_action.<locals>.value\u001b[0;34m(state, alpha, beta, depth, max_d, allow_null_move, root)\u001b[0m\n\u001b[1;32m    114\u001b[0m \u001b[39mif\u001b[39;00m depth \u001b[39m==\u001b[39m \u001b[39m0\u001b[39m:\n\u001b[1;32m    115\u001b[0m     evaluated \u001b[39m+\u001b[39m\u001b[39m=\u001b[39m \u001b[39m1\u001b[39m\n\u001b[0;32m--> 116\u001b[0m     v \u001b[39m=\u001b[39m \u001b[39mself\u001b[39;49m\u001b[39m.\u001b[39;49mevaluate(state, \u001b[39mself\u001b[39;49m\u001b[39m.\u001b[39;49mplayer)  \u001b[39m# evaluate in the view of the player to move\u001b[39;00m\n\u001b[1;32m    117\u001b[0m     \u001b[39mreturn\u001b[39;00m v, \u001b[39mNone\u001b[39;00m\n\u001b[1;32m    119\u001b[0m \u001b[39m# Apply a null move to check if skipping turns results in better results than making a move\u001b[39;00m\n",
      "File \u001b[0;32m~/github/mcts_python/games/breakthrough.py:480\u001b[0m, in \u001b[0;36mevaluate_breakthrough_lorenz\u001b[0;34m(state, player, m_lorenz, m_mobility, m_safe, m_endgame, m_cap, m_piece_diff, m_opp_disc, m_decisive, m_antidecisive, a, norm)\u001b[0m\n\u001b[1;32m    477\u001b[0m         mob_val \u001b[39m=\u001b[39m piece_mobility(position, piece, state\u001b[39m.\u001b[39mboard)\n\u001b[1;32m    478\u001b[0m         mobility_values \u001b[39m+\u001b[39m\u001b[39m=\u001b[39m multiplier \u001b[39m*\u001b[39m mob_val \u001b[39m*\u001b[39m (\u001b[39m1\u001b[39m \u001b[39m+\u001b[39m piece_value)\n\u001b[0;32m--> 480\u001b[0m     \u001b[39mif\u001b[39;00m m_safe \u001b[39m!=\u001b[39m \u001b[39m0\u001b[39m \u001b[39mand\u001b[39;00m is_safe(position, piece, state\u001b[39m.\u001b[39;49mboard):\n\u001b[1;32m    481\u001b[0m         safety_values \u001b[39m+\u001b[39m\u001b[39m=\u001b[39m multiplier \u001b[39m*\u001b[39m piece_value\n\u001b[1;32m    483\u001b[0m \u001b[39mif\u001b[39;00m m_endgame \u001b[39m!=\u001b[39m \u001b[39m0\u001b[39m \u001b[39mand\u001b[39;00m pieces \u001b[39m<\u001b[39m \u001b[39m12\u001b[39m:\n",
      "File \u001b[0;32m~/github/mcts_python/games/breakthrough.py:647\u001b[0m, in \u001b[0;36mis_safe\u001b[0;34m(position, player, board)\u001b[0m\n\u001b[1;32m    644\u001b[0m new_y \u001b[39m=\u001b[39m y \u001b[39m+\u001b[39m col_offsets[i]\n\u001b[1;32m    646\u001b[0m \u001b[39m# If the new position is within the board boundaries\u001b[39;00m\n\u001b[0;32m--> 647\u001b[0m \u001b[39mif\u001b[39;00m \u001b[39m0\u001b[39m \u001b[39m<\u001b[39m\u001b[39m=\u001b[39m new_x \u001b[39m<\u001b[39m \u001b[39m8\u001b[39m \u001b[39mand\u001b[39;00m \u001b[39m0\u001b[39m \u001b[39m<\u001b[39m\u001b[39m=\u001b[39m new_y \u001b[39m<\u001b[39m \u001b[39m8\u001b[39m:\n\u001b[1;32m    648\u001b[0m     \u001b[39m# Calculate linear position from grid coordinates.\u001b[39;00m\n\u001b[1;32m    649\u001b[0m     new_position \u001b[39m=\u001b[39m new_x \u001b[39m*\u001b[39m \u001b[39m8\u001b[39m \u001b[39m+\u001b[39m new_y\n\u001b[1;32m    650\u001b[0m     piece \u001b[39m=\u001b[39m board[new_position]\n",
      "\u001b[0;31mKeyboardInterrupt\u001b[0m: "
     ]
    }
   ],
   "source": [
    "from run_games import run_game, AIParams\n",
    "\n",
    "p1_params = AIParams(ai_key='alphabeta', eval_key='evaluate_breakthrough_lorenz', max_player=1,\n",
    "                     ai_params={\"max_time\": 10, \"debug\": True})\n",
    "p2_params = AIParams(ai_key='alphabeta', eval_key='evaluate_breakthrough_lorenz', max_player=2,\n",
    "                     ai_params={\"max_time\": 10, \"debug\": True})\n",
    "\n",
    "run_game(game_key='breakthrough', game_params={}, p1_params=p1_params, p2_params=p2_params)"
   ]
  },
  {
   "cell_type": "code",
   "execution_count": null,
   "metadata": {},
   "outputs": [],
   "source": [
    "from run_games import run_game, AIParams\n",
    "\n",
    "p1_params = AIParams(ai_key='alphabeta', eval_key='evaluate_kalah_enhanced', max_player=1,\n",
    "                     ai_params={\"max_time\": 10, \"debug\": True})\n",
    "p2_params = AIParams(ai_key='alphabeta', eval_key='evaluate_kalah_simple', max_player=2,\n",
    "                     ai_params={\"max_time\": 10, \"debug\": True})\n",
    "\n",
    "run_game(game_key='kalah', game_params={}, p1_params=p1_params, p2_params=p2_params)\n"
   ]
  },
  {
   "cell_type": "code",
   "execution_count": null,
   "metadata": {},
   "outputs": [],
   "source": [
    "from run_games import run_game, AIParams\n",
    "\n",
    "p1_params = AIParams(ai_key='alphabeta', eval_key='evaluate_amazons_lieberum', max_player=1,\n",
    "                     ai_params={\"max_time\": 5, \"debug\": True})\n",
    "p2_params = AIParams(ai_key='alphabeta', eval_key='evaluate_amazons_lieberum',max_player=2,\n",
    "                     ai_params={\"max_time\": 5, \"debug\": True})\n",
    "\n",
    "run_game(game_key='amazons', game_params={\"board_size\": 8}, p1_params=p1_params, p2_params=p2_params)"
   ]
  },
  {
   "cell_type": "code",
   "execution_count": null,
   "metadata": {},
   "outputs": [],
   "source": [
    "from run_games import run_game, AIParams\n",
    "\n",
    "p1_params = AIParams(ai_key='alphabeta', eval_key='evaluate_blokus', max_player=1,\n",
    "                     ai_params={\"max_time\": 15, \"debug\": True, \"use_null_moves\": True})\n",
    "p2_params = AIParams(ai_key='alphabeta', eval_key='evaluate_blokus',max_player=2,\n",
    "                     ai_params={\"max_time\": 15, \"debug\": True})\n",
    "\n",
    "run_game(game_key='blokus', game_params={}, p1_params=p1_params, p2_params=p2_params)"
   ]
  }
 ],
 "metadata": {
  "kernelspec": {
   "display_name": "Python 3",
   "language": "python",
   "name": "python3"
  },
  "language_info": {
   "codemirror_mode": {
    "name": "ipython",
    "version": 3
   },
   "file_extension": ".py",
   "mimetype": "text/x-python",
   "name": "python",
   "nbconvert_exporter": "python",
   "pygments_lexer": "ipython3",
   "version": "3.11.3"
  },
  "orig_nbformat": 4
 },
 "nbformat": 4,
 "nbformat_minor": 2
}
