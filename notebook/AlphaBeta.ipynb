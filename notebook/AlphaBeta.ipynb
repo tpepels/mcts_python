{
 "cells": [
  {
   "cell_type": "code",
   "execution_count": null,
   "metadata": {},
   "outputs": [],
   "source": [
    "from run_games import run_game, AIParams\n",
    "\n",
    "p1_params = AIParams(ai_key='alphabeta', eval_key='evaluate_tictactoe', ai_params={'max_depth': 10, \"max_time\": 10, \"debug\": True, \"use_null_moves\":True})\n",
    "p2_params = AIParams(ai_key='alphabeta', eval_key='evaluate_tictactoe', ai_params={'max_depth': 10, \"max_time\": 10, \"debug\": True, \"use_null_moves\":True})\n",
    "\n",
    "run_game(game_key='tictactoe', game_params={\"board_size\" : 6}, p1_params=p1_params, p2_params=p2_params)"
   ]
  },
  {
   "cell_type": "code",
   "execution_count": null,
   "metadata": {},
   "outputs": [],
   "source": [
    "from run_games import run_game, AIParams\n",
    "\n",
    "p1_params = AIParams(ai_key='alphabeta', eval_key='lorenz_evaluation', ai_params={'max_depth': 10, \"max_time\": 10, \"debug\": True, \"use_null_moves\":True})\n",
    "p2_params = AIParams(ai_key='alphabeta', eval_key='lorenz_evaluation', ai_params={'max_depth': 10, \"max_time\": 10, \"debug\": True, \"use_null_moves\":True})\n",
    "\n",
    "run_game(game_key='breakthrough', game_params={}, p1_params=p1_params, p2_params=p2_params)"
   ]
  },
  {
   "cell_type": "code",
   "execution_count": null,
   "metadata": {},
   "outputs": [],
   "source": [
    "from run_games import run_game, AIParams\n",
    "\n",
    "p1_params = AIParams(ai_key='alphabeta', eval_key='evaluate_kalah', \n",
    "                     ai_params={'max_depth': 10, \"max_time\": 10, \"debug\": True, \"use_null_moves\":True})\n",
    "p2_params = AIParams(ai_key='alphabeta', eval_key='evaluate_kalah', \n",
    "                     ai_params={'max_depth': 10, \"max_time\": 10, \"debug\": True, \"use_null_moves\":True})\n",
    "\n",
    "run_game(game_key='kalah', game_params={}, p1_params=p1_params, p2_params=p2_params)\n"
   ]
  },
  {
   "cell_type": "code",
   "execution_count": 1,
   "metadata": {},
   "outputs": [
    {
     "ename": "AttributeError",
     "evalue": "'AmazonsGameState' object has no attribute 'player_has_legal_moves'",
     "output_type": "error",
     "traceback": [
      "\u001b[0;31m---------------------------------------------------------------------------\u001b[0m",
      "\u001b[0;31mAttributeError\u001b[0m                            Traceback (most recent call last)",
      "Cell \u001b[0;32mIn[1], line 8\u001b[0m\n\u001b[1;32m      3\u001b[0m p1_params \u001b[39m=\u001b[39m AIParams(ai_key\u001b[39m=\u001b[39m\u001b[39m'\u001b[39m\u001b[39malphabeta\u001b[39m\u001b[39m'\u001b[39m, eval_key\u001b[39m=\u001b[39m\u001b[39m'\u001b[39m\u001b[39mevaluate_amazons\u001b[39m\u001b[39m'\u001b[39m, \n\u001b[1;32m      4\u001b[0m                      ai_params\u001b[39m=\u001b[39m{\u001b[39m'\u001b[39m\u001b[39mmax_depth\u001b[39m\u001b[39m'\u001b[39m: \u001b[39m10\u001b[39m, \u001b[39m\"\u001b[39m\u001b[39mmax_time\u001b[39m\u001b[39m\"\u001b[39m: \u001b[39m10\u001b[39m, \u001b[39m\"\u001b[39m\u001b[39mdebug\u001b[39m\u001b[39m\"\u001b[39m: \u001b[39mTrue\u001b[39;00m, \u001b[39m\"\u001b[39m\u001b[39muse_null_moves\u001b[39m\u001b[39m\"\u001b[39m:\u001b[39mFalse\u001b[39;00m, \u001b[39m'\u001b[39m\u001b[39muse_transpositions\u001b[39m\u001b[39m'\u001b[39m: \u001b[39mFalse\u001b[39;00m})\n\u001b[1;32m      5\u001b[0m p2_params \u001b[39m=\u001b[39m AIParams(ai_key\u001b[39m=\u001b[39m\u001b[39m'\u001b[39m\u001b[39malphabeta\u001b[39m\u001b[39m'\u001b[39m, eval_key\u001b[39m=\u001b[39m\u001b[39m'\u001b[39m\u001b[39mevaluate_amazons\u001b[39m\u001b[39m'\u001b[39m,\n\u001b[1;32m      6\u001b[0m                      ai_params\u001b[39m=\u001b[39m{\u001b[39m'\u001b[39m\u001b[39mmax_depth\u001b[39m\u001b[39m'\u001b[39m: \u001b[39m10\u001b[39m, \u001b[39m\"\u001b[39m\u001b[39mmax_time\u001b[39m\u001b[39m\"\u001b[39m: \u001b[39m10\u001b[39m, \u001b[39m\"\u001b[39m\u001b[39mdebug\u001b[39m\u001b[39m\"\u001b[39m: \u001b[39mTrue\u001b[39;00m, \u001b[39m\"\u001b[39m\u001b[39muse_null_moves\u001b[39m\u001b[39m\"\u001b[39m:\u001b[39mFalse\u001b[39;00m, \u001b[39m'\u001b[39m\u001b[39muse_transpositions\u001b[39m\u001b[39m'\u001b[39m: \u001b[39mFalse\u001b[39;00m})\n\u001b[0;32m----> 8\u001b[0m run_game(game_key\u001b[39m=\u001b[39;49m\u001b[39m'\u001b[39;49m\u001b[39mamazons\u001b[39;49m\u001b[39m'\u001b[39;49m, game_params\u001b[39m=\u001b[39;49m{\u001b[39m\"\u001b[39;49m\u001b[39mboard_size\u001b[39;49m\u001b[39m\"\u001b[39;49m: \u001b[39m8\u001b[39;49m}, p1_params\u001b[39m=\u001b[39;49mp1_params, p2_params\u001b[39m=\u001b[39;49mp2_params)\n",
      "File \u001b[0;32m~/github/mcts_python/run_games.py:115\u001b[0m, in \u001b[0;36mrun_game\u001b[0;34m(game_key, game_params, p1_params, p2_params)\u001b[0m\n\u001b[1;32m    105\u001b[0m \u001b[39m\u001b[39m\u001b[39m\"\"\"Run the game with two AI players.\u001b[39;00m\n\u001b[1;32m    106\u001b[0m \n\u001b[1;32m    107\u001b[0m \u001b[39mArgs:\u001b[39;00m\n\u001b[0;32m   (...)\u001b[0m\n\u001b[1;32m    111\u001b[0m \u001b[39m    p2_params (AIParams): The parameters for player 2's AI.\u001b[39;00m\n\u001b[1;32m    112\u001b[0m \u001b[39m\"\"\"\u001b[39;00m\n\u001b[1;32m    113\u001b[0m game, p1, p2 \u001b[39m=\u001b[39m init_game_and_players(game_key, game_params, p1_params, p2_params)\n\u001b[0;32m--> 115\u001b[0m \u001b[39mwhile\u001b[39;00m \u001b[39mnot\u001b[39;00m game\u001b[39m.\u001b[39;49mis_terminal():\n\u001b[1;32m    116\u001b[0m     start_time \u001b[39m=\u001b[39m time\u001b[39m.\u001b[39mtime()\n\u001b[1;32m    117\u001b[0m     \u001b[39mif\u001b[39;00m game\u001b[39m.\u001b[39mplayer \u001b[39m==\u001b[39m \u001b[39m1\u001b[39m:\n",
      "File \u001b[0;32m~/github/mcts_python/games/amazons.py:296\u001b[0m, in \u001b[0;36mAmazonsGameState.is_terminal\u001b[0;34m(self)\u001b[0m\n\u001b[1;32m    292\u001b[0m \u001b[39mdef\u001b[39;00m \u001b[39mis_terminal\u001b[39m(\u001b[39mself\u001b[39m):\n\u001b[1;32m    293\u001b[0m \u001b[39m    \u001b[39m\u001b[39m\"\"\"\u001b[39;00m\n\u001b[1;32m    294\u001b[0m \u001b[39m    Check if the current game state is terminal (i.e., one player has no legal moves left).\u001b[39;00m\n\u001b[1;32m    295\u001b[0m \u001b[39m    \"\"\"\u001b[39;00m\n\u001b[0;32m--> 296\u001b[0m     \u001b[39mreturn\u001b[39;00m \u001b[39mnot\u001b[39;00m \u001b[39mself\u001b[39;49m\u001b[39m.\u001b[39;49mplayer_has_legal_moves\n",
      "\u001b[0;31mAttributeError\u001b[0m: 'AmazonsGameState' object has no attribute 'player_has_legal_moves'"
     ]
    }
   ],
   "source": [
    "from run_games import run_game, AIParams\n",
    "\n",
    "p1_params = AIParams(ai_key='alphabeta', eval_key='evaluate_amazons', \n",
    "                     ai_params={'max_depth': 10, \"max_time\": 10, \"debug\": True, \"use_null_moves\":False, 'use_transpositions': False})\n",
    "p2_params = AIParams(ai_key='alphabeta', eval_key='evaluate_amazons',\n",
    "                     ai_params={'max_depth': 10, \"max_time\": 10, \"debug\": True, \"use_null_moves\":False, 'use_transpositions': False})\n",
    "\n",
    "run_game(game_key='amazons', game_params={\"board_size\": 8}, p1_params=p1_params, p2_params=p2_params)"
   ]
  }
 ],
 "metadata": {
  "kernelspec": {
   "display_name": "Python 3",
   "language": "python",
   "name": "python3"
  },
  "language_info": {
   "codemirror_mode": {
    "name": "ipython",
    "version": 3
   },
   "file_extension": ".py",
   "mimetype": "text/x-python",
   "name": "python",
   "nbconvert_exporter": "python",
   "pygments_lexer": "ipython3",
   "version": "3.11.3"
  },
  "orig_nbformat": 4
 },
 "nbformat": 4,
 "nbformat_minor": 2
}
