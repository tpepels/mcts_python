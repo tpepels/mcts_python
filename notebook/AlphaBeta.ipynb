{
 "cells": [
  {
   "cell_type": "code",
   "execution_count": null,
   "metadata": {},
   "outputs": [],
   "source": [
    "!python setup.py build_ext --inplace"
   ]
  },
  {
   "cell_type": "code",
   "execution_count": null,
   "metadata": {},
   "outputs": [],
   "source": [
    "from run_games import run_game, AIParams\n",
    "\n",
    "p1_params = AIParams(\n",
    "    ai_key=\"alphabeta\",\n",
    "    eval_key=\"evaluate_tictactoe\",\n",
    "    max_player=1,\n",
    "    ai_params={\"max_time\": 3, \"debug\": True},\n",
    ")\n",
    "p2_params = AIParams(\n",
    "    ai_key=\"alphabeta\",\n",
    "    eval_key=\"evaluate_tictactoe\",\n",
    "    max_player=2,\n",
    "    ai_params={\"max_time\": 3, \"debug\": True},\n",
    ")\n",
    "run_game(game_key=\"tictactoe\", game_params={\"board_size\": 4}, p1_params=p1_params, p2_params=p2_params)\n"
   ]
  },
  {
   "cell_type": "code",
   "execution_count": 1,
   "metadata": {},
   "outputs": [
    {
     "ename": "",
     "evalue": "",
     "output_type": "error",
     "traceback": [
      "\u001b[1;31mCannot execute code, session has been disposed. Please try restarting the Kernel."
     ]
    },
    {
     "ename": "",
     "evalue": "",
     "output_type": "error",
     "traceback": [
      "\u001b[1;31mThe Kernel crashed while executing code in the the current cell or a previous cell. Please review the code in the cell(s) to identify a possible cause of the failure. Click <a href='https://aka.ms/vscodeJupyterKernelCrash'>here</a> for more info. View Jupyter <a href='command:jupyter.viewOutput'>log</a> for further details."
     ]
    }
   ],
   "source": [
    "from run_games import run_game, AIParams\n",
    "\n",
    "p1_params = AIParams(\n",
    "    ai_key=\"alphabeta\",\n",
    "    eval_key=\"evaluate_ninarow\",\n",
    "    max_player=1,\n",
    "    ai_params={\"max_time\": 7, \"debug\": True},\n",
    ")\n",
    "p2_params = AIParams(\n",
    "    ai_key=\"alphabeta\",\n",
    "    eval_key=\"evaluate_ninarow_fast\",\n",
    "    max_player=2,\n",
    "    ai_params={\"max_time\": 7, \"debug\": True},\n",
    ")\n",
    "# An n-in-a-row game\n",
    "run_game(\n",
    "    game_key=\"ninarow\",\n",
    "    game_params={\"board_size\": 9, \"row_length\": 5},\n",
    "    p1_params=p1_params,\n",
    "    p2_params=p2_params,\n",
    ")\n"
   ]
  },
  {
   "cell_type": "code",
   "execution_count": null,
   "metadata": {},
   "outputs": [],
   "source": [
    "from run_games import run_game, AIParams\n",
    "\n",
    "p1_params = AIParams(\n",
    "    ai_key=\"alphabeta\",\n",
    "    eval_key=\"evaluate_breakthrough\",\n",
    "    max_player=1,\n",
    "    ai_params={\"max_time\": 10, \"debug\": True},\n",
    ")\n",
    "p2_params = AIParams(\n",
    "    ai_key=\"alphabeta\",\n",
    "    eval_key=\"evaluate_breakthrough_lorenz\",\n",
    "    max_player=2,\n",
    "    ai_params={\"max_time\": 10, \"debug\": True},\n",
    ")\n",
    "\n",
    "run_game(game_key=\"breakthrough\", game_params={}, p1_params=p1_params, p2_params=p2_params)\n"
   ]
  },
  {
   "cell_type": "code",
   "execution_count": null,
   "metadata": {},
   "outputs": [],
   "source": [
    "from run_games import run_game, AIParams\n",
    "\n",
    "p1_params = AIParams(\n",
    "    ai_key=\"alphabeta\",\n",
    "    eval_key=\"evaluate_kalah_enhanced\",\n",
    "    max_player=1,\n",
    "    ai_params={\"max_time\": 10, \"debug\": True},\n",
    ")\n",
    "p2_params = AIParams(\n",
    "    ai_key=\"alphabeta\",\n",
    "    eval_key=\"evaluate_kalah_simple\",\n",
    "    max_player=2,\n",
    "    ai_params={\"max_time\": 10, \"debug\": True},\n",
    ")\n",
    "\n",
    "run_game(game_key=\"kalah\", game_params={}, p1_params=p1_params, p2_params=p2_params)\n"
   ]
  },
  {
   "cell_type": "code",
   "execution_count": null,
   "metadata": {},
   "outputs": [],
   "source": [
    "from run_games import run_game, AIParams\n",
    "\n",
    "p1_params = AIParams(\n",
    "    ai_key=\"alphabeta\",\n",
    "    eval_key=\"evaluate_amazons_lieberum\",\n",
    "    max_player=1,\n",
    "    ai_params={\"max_time\": 10, \"debug\": True},\n",
    ")\n",
    "p2_params = AIParams(\n",
    "    ai_key=\"alphabeta\",\n",
    "    eval_key=\"evaluate_amazons\",\n",
    "    max_player=2,\n",
    "    ai_params={\"max_time\": 10, \"debug\": True},\n",
    ")\n",
    "\n",
    "run_game(game_key=\"amazons\", game_params={}, p1_params=p1_params, p2_params=p2_params)\n"
   ]
  },
  {
   "cell_type": "code",
   "execution_count": null,
   "metadata": {},
   "outputs": [],
   "source": [
    "from run_games import run_game, AIParams\n",
    "\n",
    "p1_params = AIParams(\n",
    "    ai_key=\"alphabeta\",\n",
    "    eval_key=\"evaluate_blokus\",\n",
    "    max_player=1,\n",
    "    ai_params={\"max_time\": 15, \"debug\": True},\n",
    ")\n",
    "p2_params = AIParams(\n",
    "    ai_key=\"alphabeta\",\n",
    "    eval_key=\"evaluate_blokus\",\n",
    "    max_player=2,\n",
    "    ai_params={\"max_time\": 15, \"debug\": True},\n",
    ")\n",
    "\n",
    "run_game(game_key=\"blokus\", game_params={}, p1_params=p1_params, p2_params=p2_params)\n"
   ]
  }
 ],
 "metadata": {
  "kernelspec": {
   "display_name": "Python 3",
   "language": "python",
   "name": "python3"
  },
  "language_info": {
   "codemirror_mode": {
    "name": "ipython",
    "version": 3
   },
   "file_extension": ".py",
   "mimetype": "text/x-python",
   "name": "python",
   "nbconvert_exporter": "python",
   "pygments_lexer": "ipython3",
   "version": "3.11.3"
  },
  "orig_nbformat": 4
 },
 "nbformat": 4,
 "nbformat_minor": 2
}
