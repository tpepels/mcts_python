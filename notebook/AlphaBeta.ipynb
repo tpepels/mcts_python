{
 "cells": [
  {
   "cell_type": "code",
   "execution_count": null,
   "metadata": {},
   "outputs": [],
   "source": [
    "from run_games import run_game\n",
    "\n",
    "\n",
    "eval_function_dict = {'p1': \"evaluate_tictactoe\", 'p2': \"evaluate_tictactoe\"}\n",
    "game_params = {\"board_size\" : 6}\n",
    "ai1_params = {'max_depth': 5, \"max_time\": 5, \"debug\": True, \"use_null_moves\":True}\n",
    "ai2_params = {'max_depth': 5, \"max_time\": 5, \"debug\": True, \"use_null_moves\":True}\n",
    "# p1_eval_params = {\"m\": (0.5, 0.5, 0.5, 0.5)}\n",
    "# p2_eval_params = {\"m\": (0.5, 0.5, 0.5, 0.5)}\n",
    "\n",
    "run_game(\"tictactoe\", \"alphabeta\", eval_function_dict, game_params, ai1_params, ai2_params)"
   ]
  },
  {
   "cell_type": "code",
   "execution_count": 1,
   "metadata": {},
   "outputs": [
    {
     "ename": "IncorrectBoardException",
     "evalue": "Stored: [2, 2, 2, 2, 2, 2, 2, 2, 0, 0, 2, 2, 2, 2, 2, 2, 0, 2, 0, 0, 0, 0, 0, 0, 0, 2, 0, 0, 0, 0, 0, 0, 0, 0, 0, 0, 0, 0, 0, 0, 0, 0, 0, 0, 0, 0, 0, 0, 0, 1, 1, 1, 1, 1, 1, 1, 1, 1, 1, 1, 1, 1, 1, 1] is not the same as [2, 2, 2, 2, 2, 2, 2, 2, 0, 0, 2, 2, 2, 2, 2, 2, 0, 2, 0, 0, 0, 0, 0, 0, 0, 1, 0, 0, 0, 0, 0, 0, 0, 0, 0, 0, 0, 0, 0, 0, 0, 0, 0, 0, 0, 0, 0, 0, 0, 1, 1, 1, 1, 1, 1, 1, 1, 1, 1, 1, 1, 1, 1, 1] stored at 15804476716541704657",
     "output_type": "error",
     "traceback": [
      "\u001b[0;31m---------------------------------------------------------------------------\u001b[0m",
      "\u001b[0;31mIncorrectBoardException\u001b[0m                   Traceback (most recent call last)",
      "Cell \u001b[0;32mIn[1], line 11\u001b[0m\n\u001b[1;32m      7\u001b[0m ai2_params \u001b[39m=\u001b[39m {\u001b[39m'\u001b[39m\u001b[39mmax_depth\u001b[39m\u001b[39m'\u001b[39m: \u001b[39m10\u001b[39m, \u001b[39m\"\u001b[39m\u001b[39mmax_time\u001b[39m\u001b[39m\"\u001b[39m: \u001b[39m10\u001b[39m, \u001b[39m\"\u001b[39m\u001b[39mdebug\u001b[39m\u001b[39m\"\u001b[39m: \u001b[39mTrue\u001b[39;00m, \u001b[39m\"\u001b[39m\u001b[39muse_null_moves\u001b[39m\u001b[39m\"\u001b[39m:\u001b[39mTrue\u001b[39;00m}\n\u001b[1;32m      8\u001b[0m \u001b[39m# p1_eval_params = {\"m\": (0.5, 0.5, 0.5, 0.5)}\u001b[39;00m\n\u001b[1;32m      9\u001b[0m \u001b[39m# p2_eval_params = {\"m\": (0.5, 0.5, 0.5, 0.5)}\u001b[39;00m\n\u001b[0;32m---> 11\u001b[0m run_game(\u001b[39m\"\u001b[39;49m\u001b[39mbreakthrough\u001b[39;49m\u001b[39m\"\u001b[39;49m, \u001b[39m\"\u001b[39;49m\u001b[39malphabeta\u001b[39;49m\u001b[39m\"\u001b[39;49m, eval_function_dict, game_params, ai1_params, ai2_params)\n",
      "File \u001b[0;32m~/github/mcts_python/run_games.py:122\u001b[0m, in \u001b[0;36mrun_game\u001b[0;34m(game_key, ai_key, eval_keys, game_params, ai1_params, ai2_params, eval_params_p1, eval_params_p2)\u001b[0m\n\u001b[1;32m    120\u001b[0m start_time \u001b[39m=\u001b[39m time\u001b[39m.\u001b[39mtime()\n\u001b[1;32m    121\u001b[0m \u001b[39mif\u001b[39;00m game\u001b[39m.\u001b[39mplayer \u001b[39m==\u001b[39m \u001b[39m1\u001b[39m:\n\u001b[0;32m--> 122\u001b[0m     action, v \u001b[39m=\u001b[39m p1\u001b[39m.\u001b[39;49mbest_action(game)\n\u001b[1;32m    123\u001b[0m     elapsed_time \u001b[39m=\u001b[39m time\u001b[39m.\u001b[39mtime() \u001b[39m-\u001b[39m start_time\n\u001b[1;32m    124\u001b[0m     \u001b[39mprint\u001b[39m(\n\u001b[1;32m    125\u001b[0m         \u001b[39mf\u001b[39m\u001b[39m\"\u001b[39m\u001b[39mPlayer 1\u001b[39m\u001b[39m'\u001b[39m\u001b[39ms turn. Chosen action: \u001b[39m\u001b[39m{\u001b[39;00maction\u001b[39m}\u001b[39;00m\u001b[39m v:\u001b[39m\u001b[39m{\u001b[39;00mv\u001b[39m:\u001b[39;00m\u001b[39m.3f\u001b[39m\u001b[39m}\u001b[39;00m\u001b[39m. Search took \u001b[39m\u001b[39m{\u001b[39;00melapsed_time\u001b[39m:\u001b[39;00m\u001b[39m.1f\u001b[39m\u001b[39m}\u001b[39;00m\u001b[39m seconds.\u001b[39m\u001b[39m\"\u001b[39m\n\u001b[1;32m    126\u001b[0m     )\n",
      "File \u001b[0;32m~/github/mcts_python/ai/alpha_beta.py:163\u001b[0m, in \u001b[0;36mAlphaBetaPlayer.best_action\u001b[0;34m(self, state)\u001b[0m\n\u001b[1;32m    160\u001b[0m \u001b[39mif\u001b[39;00m (time\u001b[39m.\u001b[39mtime() \u001b[39m-\u001b[39m start_time) \u001b[39m+\u001b[39m last_time \u001b[39m>\u001b[39m\u001b[39m=\u001b[39m \u001b[39mself\u001b[39m\u001b[39m.\u001b[39mmax_time:\n\u001b[1;32m    161\u001b[0m     \u001b[39mbreak\u001b[39;00m  \u001b[39m# Stop searching if the time limit has been exceeded or if there's not enough time to do another search\u001b[39;00m\n\u001b[0;32m--> 163\u001b[0m v, best_move \u001b[39m=\u001b[39m value(state, \u001b[39m-\u001b[39;49m\u001b[39mfloat\u001b[39;49m(\u001b[39m\"\u001b[39;49m\u001b[39minf\u001b[39;49m\u001b[39m\"\u001b[39;49m), \u001b[39mfloat\u001b[39;49m(\u001b[39m\"\u001b[39;49m\u001b[39minf\u001b[39;49m\u001b[39m\"\u001b[39;49m), depth, \u001b[39mTrue\u001b[39;49;00m, root\u001b[39m=\u001b[39;49m\u001b[39mTrue\u001b[39;49;00m)\n\u001b[1;32m    164\u001b[0m max_depth_reached \u001b[39m=\u001b[39m depth\n\u001b[1;32m    166\u001b[0m \u001b[39m# keep track of the time spent\u001b[39;00m\n",
      "File \u001b[0;32m~/github/mcts_python/ai/alpha_beta.py:108\u001b[0m, in \u001b[0;36mAlphaBetaPlayer.best_action.<locals>.value\u001b[0;34m(state, alpha, beta, depth, allow_null_move, root)\u001b[0m\n\u001b[1;32m    106\u001b[0m \u001b[39mfor\u001b[39;00m move \u001b[39min\u001b[39;00m actions:\n\u001b[1;32m    107\u001b[0m     new_state \u001b[39m=\u001b[39m state\u001b[39m.\u001b[39mapply_action(move)\n\u001b[0;32m--> 108\u001b[0m     min_v, _ \u001b[39m=\u001b[39m value(new_state, alpha, beta, depth \u001b[39m-\u001b[39;49m \u001b[39m1\u001b[39;49m)\n\u001b[1;32m    109\u001b[0m     \u001b[39mif\u001b[39;00m min_v \u001b[39m>\u001b[39m v:\n\u001b[1;32m    110\u001b[0m         v \u001b[39m=\u001b[39m min_v\n",
      "File \u001b[0;32m~/github/mcts_python/ai/alpha_beta.py:135\u001b[0m, in \u001b[0;36mAlphaBetaPlayer.best_action.<locals>.value\u001b[0;34m(state, alpha, beta, depth, allow_null_move, root)\u001b[0m\n\u001b[1;32m    133\u001b[0m \u001b[39mfor\u001b[39;00m move \u001b[39min\u001b[39;00m actions:\n\u001b[1;32m    134\u001b[0m     new_state \u001b[39m=\u001b[39m state\u001b[39m.\u001b[39mapply_action(move)\n\u001b[0;32m--> 135\u001b[0m     max_v, _ \u001b[39m=\u001b[39m value(new_state, alpha, beta, depth \u001b[39m-\u001b[39;49m \u001b[39m1\u001b[39;49m)\n\u001b[1;32m    136\u001b[0m     \u001b[39mif\u001b[39;00m max_v \u001b[39m<\u001b[39m v:\n\u001b[1;32m    137\u001b[0m         cutoffs \u001b[39m+\u001b[39m\u001b[39m=\u001b[39m \u001b[39m1\u001b[39m  \u001b[39m# Add this line\u001b[39;00m\n",
      "File \u001b[0;32m~/github/mcts_python/ai/alpha_beta.py:108\u001b[0m, in \u001b[0;36mAlphaBetaPlayer.best_action.<locals>.value\u001b[0;34m(state, alpha, beta, depth, allow_null_move, root)\u001b[0m\n\u001b[1;32m    106\u001b[0m \u001b[39mfor\u001b[39;00m move \u001b[39min\u001b[39;00m actions:\n\u001b[1;32m    107\u001b[0m     new_state \u001b[39m=\u001b[39m state\u001b[39m.\u001b[39mapply_action(move)\n\u001b[0;32m--> 108\u001b[0m     min_v, _ \u001b[39m=\u001b[39m value(new_state, alpha, beta, depth \u001b[39m-\u001b[39;49m \u001b[39m1\u001b[39;49m)\n\u001b[1;32m    109\u001b[0m     \u001b[39mif\u001b[39;00m min_v \u001b[39m>\u001b[39m v:\n\u001b[1;32m    110\u001b[0m         v \u001b[39m=\u001b[39m min_v\n",
      "File \u001b[0;32m~/github/mcts_python/ai/alpha_beta.py:135\u001b[0m, in \u001b[0;36mAlphaBetaPlayer.best_action.<locals>.value\u001b[0;34m(state, alpha, beta, depth, allow_null_move, root)\u001b[0m\n\u001b[1;32m    133\u001b[0m \u001b[39mfor\u001b[39;00m move \u001b[39min\u001b[39;00m actions:\n\u001b[1;32m    134\u001b[0m     new_state \u001b[39m=\u001b[39m state\u001b[39m.\u001b[39mapply_action(move)\n\u001b[0;32m--> 135\u001b[0m     max_v, _ \u001b[39m=\u001b[39m value(new_state, alpha, beta, depth \u001b[39m-\u001b[39;49m \u001b[39m1\u001b[39;49m)\n\u001b[1;32m    136\u001b[0m     \u001b[39mif\u001b[39;00m max_v \u001b[39m<\u001b[39m v:\n\u001b[1;32m    137\u001b[0m         cutoffs \u001b[39m+\u001b[39m\u001b[39m=\u001b[39m \u001b[39m1\u001b[39m  \u001b[39m# Add this line\u001b[39;00m\n",
      "File \u001b[0;32m~/github/mcts_python/ai/alpha_beta.py:108\u001b[0m, in \u001b[0;36mAlphaBetaPlayer.best_action.<locals>.value\u001b[0;34m(state, alpha, beta, depth, allow_null_move, root)\u001b[0m\n\u001b[1;32m    106\u001b[0m \u001b[39mfor\u001b[39;00m move \u001b[39min\u001b[39;00m actions:\n\u001b[1;32m    107\u001b[0m     new_state \u001b[39m=\u001b[39m state\u001b[39m.\u001b[39mapply_action(move)\n\u001b[0;32m--> 108\u001b[0m     min_v, _ \u001b[39m=\u001b[39m value(new_state, alpha, beta, depth \u001b[39m-\u001b[39;49m \u001b[39m1\u001b[39;49m)\n\u001b[1;32m    109\u001b[0m     \u001b[39mif\u001b[39;00m min_v \u001b[39m>\u001b[39m v:\n\u001b[1;32m    110\u001b[0m         v \u001b[39m=\u001b[39m min_v\n",
      "File \u001b[0;32m~/github/mcts_python/ai/alpha_beta.py:135\u001b[0m, in \u001b[0;36mAlphaBetaPlayer.best_action.<locals>.value\u001b[0;34m(state, alpha, beta, depth, allow_null_move, root)\u001b[0m\n\u001b[1;32m    133\u001b[0m \u001b[39mfor\u001b[39;00m move \u001b[39min\u001b[39;00m actions:\n\u001b[1;32m    134\u001b[0m     new_state \u001b[39m=\u001b[39m state\u001b[39m.\u001b[39mapply_action(move)\n\u001b[0;32m--> 135\u001b[0m     max_v, _ \u001b[39m=\u001b[39m value(new_state, alpha, beta, depth \u001b[39m-\u001b[39;49m \u001b[39m1\u001b[39;49m)\n\u001b[1;32m    136\u001b[0m     \u001b[39mif\u001b[39;00m max_v \u001b[39m<\u001b[39m v:\n\u001b[1;32m    137\u001b[0m         cutoffs \u001b[39m+\u001b[39m\u001b[39m=\u001b[39m \u001b[39m1\u001b[39m  \u001b[39m# Add this line\u001b[39;00m\n",
      "File \u001b[0;32m~/github/mcts_python/ai/alpha_beta.py:62\u001b[0m, in \u001b[0;36mAlphaBetaPlayer.best_action.<locals>.value\u001b[0;34m(state, alpha, beta, depth, allow_null_move, root)\u001b[0m\n\u001b[1;32m     60\u001b[0m     v \u001b[39m=\u001b[39m \u001b[39mself\u001b[39m\u001b[39m.\u001b[39mtrans_table\u001b[39m.\u001b[39mget(state\u001b[39m.\u001b[39mboard_hash, depth, state\u001b[39m.\u001b[39mplayer)\n\u001b[1;32m     61\u001b[0m \u001b[39melse\u001b[39;00m:\n\u001b[0;32m---> 62\u001b[0m     v \u001b[39m=\u001b[39m \u001b[39mself\u001b[39;49m\u001b[39m.\u001b[39;49mtrans_table\u001b[39m.\u001b[39;49mget(state\u001b[39m.\u001b[39;49mboard_hash, depth, state\u001b[39m.\u001b[39;49mplayer, board\u001b[39m=\u001b[39;49mstate\u001b[39m.\u001b[39;49mboard)\n\u001b[1;32m     64\u001b[0m \u001b[39mif\u001b[39;00m v \u001b[39mis\u001b[39;00m \u001b[39mnot\u001b[39;00m \u001b[39mNone\u001b[39;00m:\n\u001b[1;32m     65\u001b[0m     \u001b[39mreturn\u001b[39;00m v, \u001b[39mNone\u001b[39;00m\n",
      "File \u001b[0;32m~/github/mcts_python/ai/transpos_table.py:44\u001b[0m, in \u001b[0;36mTranspositionTable.get\u001b[0;34m(self, key, depth, player, board)\u001b[0m\n\u001b[1;32m     42\u001b[0m value, stored_depth, stored_player, stored_board \u001b[39m=\u001b[39m \u001b[39mself\u001b[39m\u001b[39m.\u001b[39mtable\u001b[39m.\u001b[39mpop(key)\n\u001b[1;32m     43\u001b[0m \u001b[39mif\u001b[39;00m stored_board \u001b[39mis\u001b[39;00m \u001b[39mnot\u001b[39;00m \u001b[39mNone\u001b[39;00m \u001b[39mand\u001b[39;00m stored_board \u001b[39m!=\u001b[39m board:\n\u001b[0;32m---> 44\u001b[0m     \u001b[39mraise\u001b[39;00m IncorrectBoardException(\n\u001b[1;32m     45\u001b[0m         \u001b[39mf\u001b[39m\u001b[39m\"\u001b[39m\u001b[39mStored: \u001b[39m\u001b[39m{\u001b[39;00mstored_board\u001b[39m}\u001b[39;00m\u001b[39m is not the same as \u001b[39m\u001b[39m{\u001b[39;00mboard\u001b[39m}\u001b[39;00m\u001b[39m stored at \u001b[39m\u001b[39m{\u001b[39;00mkey\u001b[39m}\u001b[39;00m\u001b[39m\"\u001b[39m\n\u001b[1;32m     46\u001b[0m     )\n\u001b[1;32m     47\u001b[0m \u001b[39mif\u001b[39;00m stored_depth \u001b[39m>\u001b[39m\u001b[39m=\u001b[39m depth:\n\u001b[1;32m     48\u001b[0m     \u001b[39mif\u001b[39;00m stored_player \u001b[39m!=\u001b[39m player:\n",
      "\u001b[0;31mIncorrectBoardException\u001b[0m: Stored: [2, 2, 2, 2, 2, 2, 2, 2, 0, 0, 2, 2, 2, 2, 2, 2, 0, 2, 0, 0, 0, 0, 0, 0, 0, 2, 0, 0, 0, 0, 0, 0, 0, 0, 0, 0, 0, 0, 0, 0, 0, 0, 0, 0, 0, 0, 0, 0, 0, 1, 1, 1, 1, 1, 1, 1, 1, 1, 1, 1, 1, 1, 1, 1] is not the same as [2, 2, 2, 2, 2, 2, 2, 2, 0, 0, 2, 2, 2, 2, 2, 2, 0, 2, 0, 0, 0, 0, 0, 0, 0, 1, 0, 0, 0, 0, 0, 0, 0, 0, 0, 0, 0, 0, 0, 0, 0, 0, 0, 0, 0, 0, 0, 0, 0, 1, 1, 1, 1, 1, 1, 1, 1, 1, 1, 1, 1, 1, 1, 1] stored at 15804476716541704657"
     ]
    }
   ],
   "source": [
    "from run_games import run_game\n",
    "\n",
    "\n",
    "eval_function_dict = {'p1': \"evaluate_breakthrough\", 'p2': \"evaluate_breakthrough\"}\n",
    "game_params = {}\n",
    "ai1_params = {'max_depth': 10, \"max_time\": 10, \"debug\": True, \"use_null_moves\":False}\n",
    "ai2_params = {'max_depth': 10, \"max_time\": 10, \"debug\": True, \"use_null_moves\":True}\n",
    "# p1_eval_params = {\"m\": (0.5, 0.5, 0.5, 0.5)}\n",
    "# p2_eval_params = {\"m\": (0.5, 0.5, 0.5, 0.5)}\n",
    "\n",
    "run_game(\"breakthrough\", \"alphabeta\", eval_function_dict, game_params, ai1_params, ai2_params)"
   ]
  },
  {
   "cell_type": "code",
   "execution_count": null,
   "metadata": {},
   "outputs": [],
   "source": [
    "from run_games import run_game\n",
    "\n",
    "\n",
    "eval_function_dict = {'p1': \"evaluate_kalah\", 'p2': \"evaluate_kalah\"}\n",
    "game_params = {}\n",
    "ai1_params = {'max_depth': 10, \"max_time\": 10, \"debug\": True, \"use_null_moves\":True}\n",
    "ai2_params = {'max_depth': 10, \"max_time\": 10, \"debug\": True, \"use_null_moves\":True}\n",
    "# p1_eval_params = {\"m\": (0.5, 0.5, 0.5, 0.5)}\n",
    "# p2_eval_params = {\"m\": (0.5, 0.5, 0.5, 0.5)}\n",
    "\n",
    "run_game(\"kalah\", \"alphabeta\", eval_function_dict, game_params, ai1_params, ai2_params)"
   ]
  }
 ],
 "metadata": {
  "kernelspec": {
   "display_name": "Python 3",
   "language": "python",
   "name": "python3"
  },
  "language_info": {
   "codemirror_mode": {
    "name": "ipython",
    "version": 3
   },
   "file_extension": ".py",
   "mimetype": "text/x-python",
   "name": "python",
   "nbconvert_exporter": "python",
   "pygments_lexer": "ipython3",
   "version": "3.11.3"
  },
  "orig_nbformat": 4
 },
 "nbformat": 4,
 "nbformat_minor": 2
}
