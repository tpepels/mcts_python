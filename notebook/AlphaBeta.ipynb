{
 "cells": [
  {
   "cell_type": "code",
   "execution_count": null,
   "metadata": {},
   "outputs": [],
   "source": [
    "from run_games import run_game, AIParams\n",
    "\n",
    "p1_params = AIParams(ai_key='alphabeta', eval_key='evaluate_tictactoe', max_player=1,\n",
    "                     ai_params={\"max_time\": 1, \"debug\": True, \"use_tt\": False})\n",
    "p2_params = AIParams(ai_key='alphabeta', eval_key='evaluate_tictactoe', max_player=2,\n",
    "                     ai_params={\"max_time\": 1, \"debug\": True})\n",
    "run_game(game_key='tictactoe', game_params={\"board_size\" : 4}, p1_params=p1_params, p2_params=p2_params)"
   ]
  },
  {
   "cell_type": "code",
   "execution_count": null,
   "metadata": {},
   "outputs": [],
   "source": [
    "from run_games import run_game, AIParams\n",
    "\n",
    "p1_params = AIParams(ai_key='alphabeta', eval_key='evaluate_n_in_a_row',\n",
    "                     max_player=1, ai_params={\"max_time\": 4, \"debug\": True})\n",
    "p2_params = AIParams(ai_key='alphabeta', eval_key='evaluate_tictactoe',\n",
    "                     max_player=2, ai_params={\"max_time\": 4, \"debug\": True})\n",
    "# An n-in-a-row game\n",
    "run_game(game_key='tictactoe', game_params={\"board_size\" : 9, \"row_length\": 5}, \n",
    "         p1_params=p1_params, p2_params=p2_params)"
   ]
  },
  {
   "cell_type": "code",
   "execution_count": null,
   "metadata": {},
   "outputs": [],
   "source": [
    "from run_games import run_game, AIParams\n",
    "\n",
    "p1_params = AIParams(ai_key='alphabeta', eval_key='evaluate_breakthrough_lorenz', max_player=1,\n",
    "                     ai_params={\"max_time\": 5, \"debug\": True})\n",
    "p2_params = AIParams(ai_key='alphabeta', eval_key='evaluate_breakthrough_lorenz', max_player=2,\n",
    "                     ai_params={\"max_time\": 5, \"debug\": True})\n",
    "\n",
    "run_game(game_key='breakthrough', game_params={}, p1_params=p1_params, p2_params=p2_params)"
   ]
  },
  {
   "cell_type": "code",
   "execution_count": null,
   "metadata": {},
   "outputs": [],
   "source": [
    "from run_games import run_game, AIParams\n",
    "\n",
    "p1_params = AIParams(ai_key='alphabeta', eval_key='evaluate_kalah_enhanced', max_player=1,\n",
    "                     ai_params={\"max_time\": 10, \"debug\": True, \"use_tt\": False, \"use_quiescence\": True})\n",
    "p2_params = AIParams(ai_key='alphabeta', eval_key='evaluate_kalah_enhanced', max_player=2,\n",
    "                     ai_params={\"max_time\": 10, \"debug\": True})\n",
    "\n",
    "run_game(game_key='kalah', game_params={}, p1_params=p1_params, p2_params=p2_params)\n"
   ]
  },
  {
   "cell_type": "code",
   "execution_count": 1,
   "metadata": {},
   "outputs": [
    {
     "name": "stdout",
     "output_type": "stream",
     "text": [
      "d=2 t_r=5.00 l_t=0.00 *** d=3 t_r=-0.08 l_t=5.08 *** \n",
      "1 Max Player          : \u001b[32m\u001b[1m1\u001b[0m\n",
      "Best Move             : \u001b[39m\u001b[1mNone\u001b[0m\n",
      "Best Value            : \u001b[36m\u001b[1mDRAW\u001b[0m\n",
      "Depth                 : \u001b[32m\u001b[1m3\u001b[0m\n",
      "Depth Average         : \u001b[32m\u001b[1m2\u001b[0m\n",
      "Depth Finished        : \u001b[32m\u001b[1m2\u001b[0m\n",
      "Nodes Avg Br Fact     : \u001b[32m\u001b[1m1,069\u001b[0m\n",
      "Nodes Best Move Order : \u001b[32m\u001b[1m0\u001b[0m\n",
      "Nodes Cutoff          : \u001b[32m\u001b[1m1,057\u001b[0m\n",
      "Nodes Evaluated       : \u001b[32m\u001b[1m158,931\u001b[0m\n",
      "Nodes Generated       : \u001b[32m\u001b[1m1,142,800\u001b[0m\n",
      "Nodes Per Sec         : \u001b[34m\u001b[1m210.418\u001b[0m\n",
      "Nodes Visited         : \u001b[32m\u001b[1m1,069\u001b[0m\n",
      "Search Tim Out        : \u001b[33m\u001b[1mTrue\u001b[0m\n",
      "Search Time           : \u001b[34m\u001b[1m5.08 seconds\u001b[0m\n",
      "Search Time Average   : \u001b[32m\u001b[1m5.00 seconds\u001b[0m\n",
      "Search Times P.D      : \u001b[32m\u001b[1m0.00 seconds\u001b[0m\n",
      "                        \u001b[34m\u001b[1m5.08 seconds\u001b[0m\n",
      "Tt Cache Hits         : \u001b[32m\u001b[1m0\u001b[0m\n",
      "Tt Cache Misses       : \u001b[32m\u001b[1m1,069\u001b[0m\n",
      "Tt Cleanups           : \u001b[32m\u001b[1m0\u001b[0m\n",
      "Tt Collisions         : \u001b[32m\u001b[1m0\u001b[0m\n",
      "Tt Entries            : \u001b[32m\u001b[1m1,069\u001b[0m\n",
      "Tt Size               : \u001b[32m\u001b[1m2,097,152\u001b[0m\n"
     ]
    },
    {
     "ename": "TypeError",
     "evalue": "cannot unpack non-iterable NoneType object",
     "output_type": "error",
     "traceback": [
      "\u001b[0;31m---------------------------------------------------------------------------\u001b[0m",
      "\u001b[0;31mTypeError\u001b[0m                                 Traceback (most recent call last)",
      "Cell \u001b[0;32mIn[1], line 8\u001b[0m\n\u001b[1;32m      3\u001b[0m p1_params \u001b[39m=\u001b[39m AIParams(ai_key\u001b[39m=\u001b[39m\u001b[39m'\u001b[39m\u001b[39malphabeta\u001b[39m\u001b[39m'\u001b[39m, eval_key\u001b[39m=\u001b[39m\u001b[39m'\u001b[39m\u001b[39mevaluate_amazons\u001b[39m\u001b[39m'\u001b[39m, max_player\u001b[39m=\u001b[39m\u001b[39m1\u001b[39m,\n\u001b[1;32m      4\u001b[0m                      ai_params\u001b[39m=\u001b[39m{\u001b[39m\"\u001b[39m\u001b[39mmax_time\u001b[39m\u001b[39m\"\u001b[39m: \u001b[39m5\u001b[39m, \u001b[39m\"\u001b[39m\u001b[39mdebug\u001b[39m\u001b[39m\"\u001b[39m: \u001b[39mTrue\u001b[39;00m})\n\u001b[1;32m      5\u001b[0m p2_params \u001b[39m=\u001b[39m AIParams(ai_key\u001b[39m=\u001b[39m\u001b[39m'\u001b[39m\u001b[39malphabeta\u001b[39m\u001b[39m'\u001b[39m, eval_key\u001b[39m=\u001b[39m\u001b[39m'\u001b[39m\u001b[39mevaluate_amazons\u001b[39m\u001b[39m'\u001b[39m,max_player\u001b[39m=\u001b[39m\u001b[39m2\u001b[39m,\n\u001b[1;32m      6\u001b[0m                      ai_params\u001b[39m=\u001b[39m{\u001b[39m\"\u001b[39m\u001b[39mmax_time\u001b[39m\u001b[39m\"\u001b[39m: \u001b[39m5\u001b[39m, \u001b[39m\"\u001b[39m\u001b[39mdebug\u001b[39m\u001b[39m\"\u001b[39m: \u001b[39mTrue\u001b[39;00m})\n\u001b[0;32m----> 8\u001b[0m run_game(game_key\u001b[39m=\u001b[39;49m\u001b[39m'\u001b[39;49m\u001b[39mamazons\u001b[39;49m\u001b[39m'\u001b[39;49m, game_params\u001b[39m=\u001b[39;49m{\u001b[39m\"\u001b[39;49m\u001b[39mboard_size\u001b[39;49m\u001b[39m\"\u001b[39;49m: \u001b[39m8\u001b[39;49m}, p1_params\u001b[39m=\u001b[39;49mp1_params, p2_params\u001b[39m=\u001b[39;49mp2_params)\n",
      "File \u001b[0;32m~/github/mcts_python/run_games.py:198\u001b[0m, in \u001b[0;36mrun_game\u001b[0;34m(game_key, game_params, p1_params, p2_params)\u001b[0m\n\u001b[1;32m    195\u001b[0m             \u001b[39mprint\u001b[39m(\u001b[39m\"\u001b[39m\u001b[39mGame Over. Draw\u001b[39m\u001b[39m\"\u001b[39m)\n\u001b[1;32m    197\u001b[0m game, p1, p2 \u001b[39m=\u001b[39m init_game_and_players(game_key, game_params, p1_params, p2_params)\n\u001b[0;32m--> 198\u001b[0m reward \u001b[39m=\u001b[39m play_game_until_terminal(game, p1, p2, callback\u001b[39m=\u001b[39;49mcallback)\n\u001b[1;32m    200\u001b[0m p1\u001b[39m.\u001b[39mprint_cumulative_statistics()\n\u001b[1;32m    201\u001b[0m p2\u001b[39m.\u001b[39mprint_cumulative_statistics()\n",
      "File \u001b[0;32m~/github/mcts_python/run_games.py:165\u001b[0m, in \u001b[0;36mplay_game_until_terminal\u001b[0;34m(game, player1, player2, callback)\u001b[0m\n\u001b[1;32m    162\u001b[0m action, _ \u001b[39m=\u001b[39m current_player\u001b[39m.\u001b[39mbest_action(game)\n\u001b[1;32m    164\u001b[0m \u001b[39m# Apply the action to get the new game state\u001b[39;00m\n\u001b[0;32m--> 165\u001b[0m game \u001b[39m=\u001b[39m game\u001b[39m.\u001b[39;49mapply_action(action)\n\u001b[1;32m    167\u001b[0m \u001b[39m# Call the callback function if any\u001b[39;00m\n\u001b[1;32m    168\u001b[0m \u001b[39mif\u001b[39;00m callback \u001b[39mis\u001b[39;00m \u001b[39mnot\u001b[39;00m \u001b[39mNone\u001b[39;00m:\n",
      "File \u001b[0;32m~/github/mcts_python/games/amazons.py:107\u001b[0m, in \u001b[0;36mAmazonsGameState.apply_action\u001b[0;34m(self, action)\u001b[0m\n\u001b[1;32m    102\u001b[0m \u001b[39mdef\u001b[39;00m \u001b[39mapply_action\u001b[39m(\u001b[39mself\u001b[39m, action):\n\u001b[1;32m    103\u001b[0m \u001b[39m    \u001b[39m\u001b[39m\"\"\"\u001b[39;00m\n\u001b[1;32m    104\u001b[0m \u001b[39m    Apply the given action to the current game state, creating a new game state.\u001b[39;00m\n\u001b[1;32m    105\u001b[0m \u001b[39m    An action is a tuple (x1, y1, x2, y2, x3, y3) representing the move and shot of an Amazon piece.\u001b[39;00m\n\u001b[1;32m    106\u001b[0m \u001b[39m    \"\"\"\u001b[39;00m\n\u001b[0;32m--> 107\u001b[0m     x1, y1, x2, y2, x3, y3 \u001b[39m=\u001b[39m action\n\u001b[1;32m    108\u001b[0m     \u001b[39m# Use numpy for the new_board\u001b[39;00m\n\u001b[1;32m    109\u001b[0m     new_board \u001b[39m=\u001b[39m np\u001b[39m.\u001b[39mcopy(\u001b[39mself\u001b[39m\u001b[39m.\u001b[39mboard)\n",
      "\u001b[0;31mTypeError\u001b[0m: cannot unpack non-iterable NoneType object"
     ]
    }
   ],
   "source": [
    "from run_games import run_game, AIParams\n",
    "\n",
    "p1_params = AIParams(ai_key='alphabeta', eval_key='evaluate_amazons_lieberum', max_player=1,\n",
    "                     ai_params={\"max_time\": 5, \"debug\": True})\n",
    "p2_params = AIParams(ai_key='alphabeta', eval_key='evaluate_amazons_lieberum',max_player=2,\n",
    "                     ai_params={\"max_time\": 5, \"debug\": True})\n",
    "\n",
    "run_game(game_key='amazons', game_params={\"board_size\": 8}, p1_params=p1_params, p2_params=p2_params)"
   ]
  },
  {
   "cell_type": "code",
   "execution_count": null,
   "metadata": {},
   "outputs": [],
   "source": [
    "from run_games import run_game, AIParams\n",
    "\n",
    "p1_params = AIParams(ai_key='alphabeta', eval_key='evaluate_blokus', max_player=1,\n",
    "                     ai_params={\"max_time\": 15, \"debug\": True, \"use_null_moves\": True})\n",
    "p2_params = AIParams(ai_key='alphabeta', eval_key='evaluate_blokus',max_player=2,\n",
    "                     ai_params={\"max_time\": 15, \"debug\": True})\n",
    "\n",
    "run_game(game_key='blokus', game_params={}, p1_params=p1_params, p2_params=p2_params)"
   ]
  }
 ],
 "metadata": {
  "kernelspec": {
   "display_name": "Python 3",
   "language": "python",
   "name": "python3"
  },
  "language_info": {
   "codemirror_mode": {
    "name": "ipython",
    "version": 3
   },
   "file_extension": ".py",
   "mimetype": "text/x-python",
   "name": "python",
   "nbconvert_exporter": "python",
   "pygments_lexer": "ipython3",
   "version": "3.11.3"
  },
  "orig_nbformat": 4
 },
 "nbformat": 4,
 "nbformat_minor": 2
}
