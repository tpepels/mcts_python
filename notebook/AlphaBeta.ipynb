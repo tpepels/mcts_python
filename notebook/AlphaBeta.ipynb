{
 "cells": [
  {
   "cell_type": "code",
   "execution_count": null,
   "metadata": {},
   "outputs": [],
   "source": [
    "from run_games import run_game, AIParams\n",
    "\n",
    "p1_params = AIParams(ai_key='alphabeta', eval_key='evaluate_tictactoe', ai_params={'max_depth': 10, \"max_time\": 10, \"debug\": True, \"use_null_moves\":True})\n",
    "p2_params = AIParams(ai_key='alphabeta', eval_key='evaluate_tictactoe', ai_params={'max_depth': 10, \"max_time\": 10, \"debug\": True, \"use_null_moves\":True})\n",
    "\n",
    "run_game(game_key='tictactoe', game_params={\"board_size\" : 6}, p1_params=p1_params, p2_params=p2_params)"
   ]
  },
  {
   "cell_type": "code",
   "execution_count": null,
   "metadata": {},
   "outputs": [],
   "source": [
    "from run_games import run_game, AIParams\n",
    "\n",
    "p1_params = AIParams(ai_key='alphabeta', eval_key='lorenz_evaluation', ai_params={'max_depth': 10, \"max_time\": 10, \"debug\": True, \"use_null_moves\":True})\n",
    "p2_params = AIParams(ai_key='alphabeta', eval_key='lorenz_evaluation', ai_params={'max_depth': 10, \"max_time\": 10, \"debug\": True, \"use_null_moves\":True})\n",
    "\n",
    "run_game(game_key='breakthrough', game_params={}, p1_params=p1_params, p2_params=p2_params)"
   ]
  },
  {
   "cell_type": "code",
   "execution_count": null,
   "metadata": {},
   "outputs": [],
   "source": [
    "from run_games import run_game, AIParams\n",
    "\n",
    "p1_params = AIParams(ai_key='alphabeta', eval_key='evaluate_kalah', \n",
    "                     ai_params={'max_depth': 10, \"max_time\": 10, \"debug\": True, \"use_null_moves\":True})\n",
    "p2_params = AIParams(ai_key='alphabeta', eval_key='evaluate_kalah', \n",
    "                     ai_params={'max_depth': 10, \"max_time\": 10, \"debug\": True, \"use_null_moves\":True})\n",
    "\n",
    "run_game(game_key='kalah', game_params={}, p1_params=p1_params, p2_params=p2_params)\n"
   ]
  },
  {
   "cell_type": "code",
   "execution_count": null,
   "metadata": {},
   "outputs": [],
   "source": [
    "from run_games import run_game, AIParams\n",
    "\n",
    "p1_params = AIParams(ai_key='alphabeta', eval_key='evaluate_amazons', \n",
    "                     ai_params={'max_depth': 10, \"max_time\": 10, \"debug\": True, \"use_null_moves\":False, 'use_transpositions': False})\n",
    "p2_params = AIParams(ai_key='alphabeta', eval_key='evaluate_amazons',\n",
    "                     ai_params={'max_depth': 10, \"max_time\": 10, \"debug\": True, \"use_null_moves\":False, 'use_transpositions': False})\n",
    "\n",
    "run_game(game_key='amazons', game_params={\"board_size\": 8}, p1_params=p1_params, p2_params=p2_params)"
   ]
  }
 ],
 "metadata": {
  "kernelspec": {
   "display_name": "Python 3",
   "language": "python",
   "name": "python3"
  },
  "language_info": {
   "codemirror_mode": {
    "name": "ipython",
    "version": 3
   },
   "file_extension": ".py",
   "mimetype": "text/x-python",
   "name": "python",
   "nbconvert_exporter": "python",
   "pygments_lexer": "ipython3",
   "version": "3.11.3"
  },
  "orig_nbformat": 4
 },
 "nbformat": 4,
 "nbformat_minor": 2
}
