{
 "cells": [
  {
   "cell_type": "code",
   "execution_count": 3,
   "metadata": {},
   "outputs": [
    {
     "name": "stdout",
     "output_type": "stream",
     "text": [
      "{'average_branching_factor': 2.717083592984955,\n",
      " 'cutoffs': 149,\n",
      " 'max_depth_reached': 1,\n",
      " 'max_player': 1,\n",
      " 'moves_generated': 30521,\n",
      " 'nodes_visited': 11233,\n",
      " 'null_moves_cutoff': 0,\n",
      " 'quiescence_searches': 0,\n",
      " 'search_times_per_level': [13.701698780059814],\n",
      " 'total_search_time': 70.00136494636536}\n",
      "Player 1's turn. Chosen action: (0, 3, 6, 3, 6, 8) v:0.062. Search took 70.0 seconds.\n",
      ". . . . . . W . . .\n",
      ". . . . . . . . . .\n",
      ". . . . . . . . . .\n",
      "W . . . . . . . . W\n",
      ". . . . . . . . . .\n",
      ". . . . . . . . . .\n",
      "B . . W . . . . - B\n",
      ". . . . . . . . . .\n",
      ". . . . . . . . . .\n",
      ". . . B . . B . . .\n",
      "\n"
     ]
    },
    {
     "ename": "KeyboardInterrupt",
     "evalue": "",
     "output_type": "error",
     "traceback": [
      "\u001b[0;31m---------------------------------------------------------------------------\u001b[0m",
      "\u001b[0;31mKeyboardInterrupt\u001b[0m                         Traceback (most recent call last)",
      "Cell \u001b[0;32mIn[3], line 9\u001b[0m\n\u001b[1;32m      6\u001b[0m ai_params \u001b[39m=\u001b[39m {\u001b[39m'\u001b[39m\u001b[39mmax_depth\u001b[39m\u001b[39m'\u001b[39m: \u001b[39m12\u001b[39m, \u001b[39m\"\u001b[39m\u001b[39mmax_time\u001b[39m\u001b[39m\"\u001b[39m: \u001b[39m60\u001b[39m, \u001b[39m\"\u001b[39m\u001b[39mdebug\u001b[39m\u001b[39m\"\u001b[39m: \u001b[39mTrue\u001b[39;00m}\n\u001b[1;32m      7\u001b[0m p1_eval_params \u001b[39m=\u001b[39m {\u001b[39m\"\u001b[39m\u001b[39mm\u001b[39m\u001b[39m\"\u001b[39m: (\u001b[39m0\u001b[39m, \u001b[39m0.1\u001b[39m, \u001b[39m0.1\u001b[39m, \u001b[39m0.1\u001b[39m)}\n\u001b[0;32m----> 9\u001b[0m run_game(\u001b[39m\"\u001b[39;49m\u001b[39mamazons\u001b[39;49m\u001b[39m\"\u001b[39;49m, \u001b[39m\"\u001b[39;49m\u001b[39malphabeta\u001b[39;49m\u001b[39m\"\u001b[39;49m, eval_function_dict, game_params, ai_params, eval_params_p1\u001b[39m=\u001b[39;49mp1_eval_params)\n\u001b[1;32m     10\u001b[0m \u001b[39m# {'average_branching_factor': 24.584930074575567,\u001b[39;00m\n\u001b[1;32m     11\u001b[0m \u001b[39m#  'cutoffs': 14573,\u001b[39;00m\n\u001b[1;32m     12\u001b[0m \u001b[39m#  'max_depth_reached': 2,\u001b[39;00m\n\u001b[0;32m   (...)\u001b[0m\n\u001b[1;32m     18\u001b[0m \u001b[39m#  'search_times_per_level': [0.43218374252319336, 29.981506824493408],\u001b[39;00m\n\u001b[1;32m     19\u001b[0m \u001b[39m#  'total_search_time': 70.00016593933105}\u001b[39;00m\n",
      "File \u001b[0;32m~/github/mcts_python/run_games.py:112\u001b[0m, in \u001b[0;36mrun_game\u001b[0;34m(game_key, ai_key, eval_keys, game_params, ai_params, eval_params_p1, eval_params_p2)\u001b[0m\n\u001b[1;32m    108\u001b[0m     \u001b[39mprint\u001b[39m(\n\u001b[1;32m    109\u001b[0m         \u001b[39mf\u001b[39m\u001b[39m\"\u001b[39m\u001b[39mPlayer 1\u001b[39m\u001b[39m'\u001b[39m\u001b[39ms turn. Chosen action: \u001b[39m\u001b[39m{\u001b[39;00maction\u001b[39m}\u001b[39;00m\u001b[39m v:\u001b[39m\u001b[39m{\u001b[39;00mv\u001b[39m:\u001b[39;00m\u001b[39m.3f\u001b[39m\u001b[39m}\u001b[39;00m\u001b[39m. Search took \u001b[39m\u001b[39m{\u001b[39;00melapsed_time\u001b[39m:\u001b[39;00m\u001b[39m.1f\u001b[39m\u001b[39m}\u001b[39;00m\u001b[39m seconds.\u001b[39m\u001b[39m\"\u001b[39m\n\u001b[1;32m    110\u001b[0m     )\n\u001b[1;32m    111\u001b[0m \u001b[39melse\u001b[39;00m:\n\u001b[0;32m--> 112\u001b[0m     action, v \u001b[39m=\u001b[39m p2\u001b[39m.\u001b[39;49mbest_action(game)\n\u001b[1;32m    113\u001b[0m     elapsed_time \u001b[39m=\u001b[39m time\u001b[39m.\u001b[39mtime() \u001b[39m-\u001b[39m start_time\n\u001b[1;32m    114\u001b[0m     \u001b[39mprint\u001b[39m(\n\u001b[1;32m    115\u001b[0m         \u001b[39mf\u001b[39m\u001b[39m\"\u001b[39m\u001b[39mPlayer 2\u001b[39m\u001b[39m'\u001b[39m\u001b[39ms turn. Chosen action: \u001b[39m\u001b[39m{\u001b[39;00maction\u001b[39m}\u001b[39;00m\u001b[39m v:\u001b[39m\u001b[39m{\u001b[39;00mv\u001b[39m:\u001b[39;00m\u001b[39m3f\u001b[39m\u001b[39m}\u001b[39;00m\u001b[39m. Search took \u001b[39m\u001b[39m{\u001b[39;00melapsed_time\u001b[39m:\u001b[39;00m\u001b[39m.1f\u001b[39m\u001b[39m}\u001b[39;00m\u001b[39m seconds.\u001b[39m\u001b[39m\"\u001b[39m\n\u001b[1;32m    116\u001b[0m     )\n",
      "File \u001b[0;32m~/github/mcts_python/ai/alpha_beta.py:129\u001b[0m, in \u001b[0;36mAlphaBetaPlayer.best_action\u001b[0;34m(self, state)\u001b[0m\n\u001b[1;32m    127\u001b[0m \u001b[39mif\u001b[39;00m time\u001b[39m.\u001b[39mtime() \u001b[39m-\u001b[39m start_time \u001b[39m>\u001b[39m\u001b[39m=\u001b[39m \u001b[39mself\u001b[39m\u001b[39m.\u001b[39mmax_time:\n\u001b[1;32m    128\u001b[0m     \u001b[39mbreak\u001b[39;00m  \u001b[39m# Stop searching if the time limit has been exceeded\u001b[39;00m\n\u001b[0;32m--> 129\u001b[0m v, best_move \u001b[39m=\u001b[39m value(state, \u001b[39m-\u001b[39;49m\u001b[39mfloat\u001b[39;49m(\u001b[39m\"\u001b[39;49m\u001b[39minf\u001b[39;49m\u001b[39m\"\u001b[39;49m), \u001b[39mfloat\u001b[39;49m(\u001b[39m\"\u001b[39;49m\u001b[39minf\u001b[39;49m\u001b[39m\"\u001b[39;49m), depth, \u001b[39mTrue\u001b[39;49;00m)\n\u001b[1;32m    130\u001b[0m search_times\u001b[39m.\u001b[39mappend(time\u001b[39m.\u001b[39mtime() \u001b[39m-\u001b[39m start_time)\n\u001b[1;32m    131\u001b[0m max_depth_reached \u001b[39m=\u001b[39m depth\n",
      "File \u001b[0;32m~/github/mcts_python/ai/alpha_beta.py:88\u001b[0m, in \u001b[0;36mAlphaBetaPlayer.best_action.<locals>.value\u001b[0;34m(state, alpha, beta, depth, null)\u001b[0m\n\u001b[1;32m     86\u001b[0m \u001b[39mfor\u001b[39;00m move \u001b[39min\u001b[39;00m actions:\n\u001b[1;32m     87\u001b[0m     new_state \u001b[39m=\u001b[39m state\u001b[39m.\u001b[39mapply_action(move)\n\u001b[0;32m---> 88\u001b[0m     min_v, _ \u001b[39m=\u001b[39m value(new_state, alpha, beta, depth \u001b[39m-\u001b[39;49m \u001b[39m1\u001b[39;49m)\n\u001b[1;32m     89\u001b[0m     \u001b[39mif\u001b[39;00m min_v \u001b[39m>\u001b[39m v:\n\u001b[1;32m     90\u001b[0m         v \u001b[39m=\u001b[39m min_v\n",
      "File \u001b[0;32m~/github/mcts_python/ai/alpha_beta.py:61\u001b[0m, in \u001b[0;36mAlphaBetaPlayer.best_action.<locals>.value\u001b[0;34m(state, alpha, beta, depth, null)\u001b[0m\n\u001b[1;32m     59\u001b[0m         \u001b[39mreturn\u001b[39;00m \u001b[39mself\u001b[39m\u001b[39m.\u001b[39mquiescence(state, alpha, beta), \u001b[39mNone\u001b[39;00m\n\u001b[1;32m     60\u001b[0m     \u001b[39melse\u001b[39;00m:\n\u001b[0;32m---> 61\u001b[0m         \u001b[39mreturn\u001b[39;00m \u001b[39mself\u001b[39;49m\u001b[39m.\u001b[39;49mevaluate(state, \u001b[39mself\u001b[39;49m\u001b[39m.\u001b[39;49mplayer), \u001b[39mNone\u001b[39;00m\n\u001b[1;32m     63\u001b[0m \u001b[39mif\u001b[39;00m max_player:\n\u001b[1;32m     64\u001b[0m     \u001b[39m# If using null-move heuristic, attempt a null move\u001b[39;00m\n\u001b[1;32m     65\u001b[0m     \u001b[39mif\u001b[39;00m \u001b[39mself\u001b[39m\u001b[39m.\u001b[39muse_null_moves \u001b[39mand\u001b[39;00m null \u001b[39mand\u001b[39;00m depth \u001b[39m>\u001b[39m\u001b[39m=\u001b[39m \u001b[39mself\u001b[39m\u001b[39m.\u001b[39mR \u001b[39m+\u001b[39m \u001b[39m1\u001b[39m:\n",
      "File \u001b[0;32m~/github/mcts_python/games/amazons.py:231\u001b[0m, in \u001b[0;36mevaluate_amazons_lieberum\u001b[0;34m(state, player, m, a, norm)\u001b[0m\n\u001b[1;32m    228\u001b[0m their_queen_positions \u001b[39m=\u001b[39m queens_from_board(board, \u001b[39mnot\u001b[39;00m is_white_player)\n\u001b[1;32m    230\u001b[0m \u001b[39mif\u001b[39;00m m[\u001b[39m0\u001b[39m] \u001b[39m>\u001b[39m \u001b[39m0\u001b[39m:\n\u001b[0;32m--> 231\u001b[0m     terr \u001b[39m=\u001b[39m territory_heuristic(\n\u001b[1;32m    232\u001b[0m         their_queen_positions, my_queen_positions, state\u001b[39m.\u001b[39;49mboard, max_depth\u001b[39m=\u001b[39;49mmax_depth\n\u001b[1;32m    233\u001b[0m     )\n\u001b[1;32m    234\u001b[0m \u001b[39melse\u001b[39;00m:\n\u001b[1;32m    235\u001b[0m     terr \u001b[39m=\u001b[39m \u001b[39m0\u001b[39m\n",
      "File \u001b[0;32m~/github/mcts_python/games/amazons.py:354\u001b[0m, in \u001b[0;36mterritory_heuristic\u001b[0;34m(their_queen_positions, my_queen_positions, board, max_depth)\u001b[0m\n\u001b[1;32m    351\u001b[0m     territory_helper(queen, board, my_territory, max_depth)\n\u001b[1;32m    353\u001b[0m \u001b[39mfor\u001b[39;00m queen \u001b[39min\u001b[39;00m their_queen_positions:\n\u001b[0;32m--> 354\u001b[0m     territory_helper(queen, board, their_territory, max_depth)\n\u001b[1;32m    356\u001b[0m \u001b[39mreturn\u001b[39;00m territory_compare(my_territory, their_territory)\n",
      "File \u001b[0;32m~/github/mcts_python/games/amazons.py:376\u001b[0m, in \u001b[0;36mterritory_helper\u001b[0;34m(queen_position, board, out, max_depth)\u001b[0m\n\u001b[1;32m    373\u001b[0m curr \u001b[39m=\u001b[39m queue\u001b[39m.\u001b[39mpop()\n\u001b[1;32m    374\u001b[0m direction, move_count, curr_pos \u001b[39m=\u001b[39m curr\n\u001b[0;32m--> 376\u001b[0m out[curr_pos[\u001b[39m0\u001b[39;49m]][curr_pos[\u001b[39m1\u001b[39;49m]] \u001b[39m=\u001b[39m \u001b[39mmin\u001b[39m(out[curr_pos[\u001b[39m0\u001b[39m]][curr_pos[\u001b[39m1\u001b[39m]], move_count)\n\u001b[1;32m    378\u001b[0m \u001b[39mif\u001b[39;00m out[curr_pos[\u001b[39m0\u001b[39m]][curr_pos[\u001b[39m1\u001b[39m]] \u001b[39m<\u001b[39m move_count \u001b[39mor\u001b[39;00m out[curr_pos[\u001b[39m0\u001b[39m]][curr_pos[\u001b[39m1\u001b[39m]] \u001b[39m==\u001b[39m \u001b[39m0\u001b[39m:\n\u001b[1;32m    379\u001b[0m     \u001b[39mcontinue\u001b[39;00m\n",
      "\u001b[0;31mKeyboardInterrupt\u001b[0m: "
     ]
    }
   ],
   "source": [
    "from run_games import run_game\n",
    "\n",
    "\n",
    "eval_function_dict = {'p1': \"evaluate_amazons_lieberum\", 'p2': \"evaluate_amazons_lieberum\"}\n",
    "game_params = {}\n",
    "ai_params = {'max_depth': 12, \"max_time\": 60, \"debug\": True}\n",
    "p1_eval_params = {\"m\": (0, 0.1, 0.1, 0.1)}\n",
    "\n",
    "run_game(\"amazons\", \"alphabeta\", eval_function_dict, game_params, ai_params, eval_params_p1=p1_eval_params)\n",
    "# {\"m\": (0, 0.1, 0.1, 0)}\n",
    "# {'average_branching_factor': 24.584930074575567,\n",
    "#  'cutoffs': 14573,\n",
    "#  'max_depth_reached': 2,\n",
    "#  'max_player': 1,\n",
    "#  'moves_generated': 8511942,\n",
    "#  'nodes_visited': 346226,\n",
    "#  'null_moves_cutoff': 0,\n",
    "#  'quiescence_searches': 0,\n",
    "#  'search_times_per_level': [0.43218374252319336, 29.981506824493408],\n",
    "#  'total_search_time': 70.00016593933105}\n",
    "# {\"m\": (0, 0.1, 0.1, 0.1)}\n",
    "# {'average_branching_factor': 2.717083592984955,\n",
    "#  'cutoffs': 149,\n",
    "#  'max_depth_reached': 1,\n",
    "#  'max_player': 1,\n",
    "#  'moves_generated': 30521,\n",
    "#  'nodes_visited': 11233,\n",
    "#  'null_moves_cutoff': 0,\n",
    "#  'quiescence_searches': 0,\n",
    "#  'search_times_per_level': [13.701698780059814],\n",
    "#  'total_search_time': 70.00136494636536}"
   ]
  },
  {
   "cell_type": "code",
   "execution_count": 2,
   "metadata": {},
   "outputs": [
    {
     "name": "stdout",
     "output_type": "stream",
     "text": [
      "/Library/Developer/CommandLineTools/usr/bin/python3\n",
      "3.9.6 (default, Mar 10 2023, 20:16:38) \n",
      "[Clang 14.0.3 (clang-1403.0.22.14.1)]\n",
      "sys.version_info(major=3, minor=9, micro=6, releaselevel='final', serial=0)\n"
     ]
    }
   ],
   "source": [
    "import sys\n",
    "print(sys.executable)\n",
    "print(sys.version)\n",
    "print(sys.version_info)"
   ]
  }
 ],
 "metadata": {
  "kernelspec": {
   "display_name": "Python 3",
   "language": "python",
   "name": "python3"
  },
  "language_info": {
   "codemirror_mode": {
    "name": "ipython",
    "version": 3
   },
   "file_extension": ".py",
   "mimetype": "text/x-python",
   "name": "python",
   "nbconvert_exporter": "python",
   "pygments_lexer": "ipython3",
   "version": "3.9.6"
  },
  "orig_nbformat": 4
 },
 "nbformat": 4,
 "nbformat_minor": 2
}
