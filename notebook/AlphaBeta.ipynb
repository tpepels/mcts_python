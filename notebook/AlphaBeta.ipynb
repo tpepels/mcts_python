{
 "cells": [
  {
   "cell_type": "code",
   "execution_count": null,
   "metadata": {},
   "outputs": [],
   "source": [
    "from run_games import run_game, AIParams\n",
    "\n",
    "p1_params = AIParams(ai_key='alphabeta', eval_key='evaluate_tictactoe', ai_params={'max_depth': 10, \"max_time\": 10, \"debug\": True, \"use_null_moves\":True})\n",
    "p2_params = AIParams(ai_key='alphabeta', eval_key='evaluate_tictactoe', ai_params={'max_depth': 10, \"max_time\": 10, \"debug\": True, \"use_null_moves\":True})\n",
    "\n",
    "run_game(game_key='tictactoe', game_params={\"board_size\" : 5}, p1_params=p1_params, p2_params=p2_params)"
   ]
  },
  {
   "cell_type": "code",
   "execution_count": 1,
   "metadata": {},
   "outputs": [
    {
     "name": "stdout",
     "output_type": "stream",
     "text": [
      "d=1 t_r:10.00 t_l: 10.0 ** d=2 t_r:9.99 t_l: 10.0 ** d=3 t_r:9.98 t_l: 10.0 ** d=4 t_r:9.87 t_l: 9.9 ** d=5 t_r:9.38 t_l: 9.4 ** d=6 t_r:5.80 t_l: 5.8 ** d=7 t_r:-32.01 t_l: -32.0 ** \n",
      "Average Branching Factor : \u001b[32m\u001b[1m24\u001b[0m\n",
      "Average Depth Reached    : \u001b[32m\u001b[1m6\u001b[0m\n",
      "Average Search Time      : \u001b[32m\u001b[1m42\u001b[0m\n",
      "Best Move                : \u001b[39m\u001b[1m(51, 42)\u001b[0m\n",
      "Best Value               : \u001b[36m\u001b[1mDRAW\u001b[0m\n",
      "Cache Hits               : \u001b[32m\u001b[1m67337\u001b[0m\n",
      "Cache Misses             : \u001b[32m\u001b[1m271224\u001b[0m\n",
      "Cleanups                 : \u001b[32m\u001b[1m161956\u001b[0m\n",
      "Collisions               : \u001b[32m\u001b[1m1\u001b[0m\n",
      "Cutoffs                  : \u001b[32m\u001b[1m58549\u001b[0m\n",
      "Depth Reached            : \u001b[32m\u001b[1m7\u001b[0m\n",
      "Max Depth Reached        : \u001b[32m\u001b[1m6\u001b[0m\n",
      "Max Player               : \u001b[32m\u001b[1m1\u001b[0m\n",
      "Moves Generated          : \u001b[32m\u001b[1m1062199\u001b[0m\n",
      "Nodes Evaluated          : \u001b[32m\u001b[1m187911\u001b[0m\n",
      "Nodes Visited            : \u001b[32m\u001b[1m43396\u001b[0m\n",
      "Null Moves Cutoff        : \u001b[32m\u001b[1m21\u001b[0m\n",
      "Quiescence Searches      : \u001b[32m\u001b[1m7412\u001b[0m\n",
      "Search Time              : \u001b[34m\u001b[1m42.012\u001b[0m\n",
      "Search Times Per Level   : \u001b[35m\u001b[1m0\u001b[0m\n",
      "                           \u001b[35m\u001b[1m0.012\u001b[0m\n",
      "                           \u001b[35m\u001b[1m0.012\u001b[0m\n",
      "                           \u001b[35m\u001b[1m0.107\u001b[0m\n",
      "                           \u001b[35m\u001b[1m0.492\u001b[0m\n",
      "                           \u001b[35m\u001b[1m3.582\u001b[0m\n",
      "                           \u001b[35m\u001b[1m37.808\u001b[0m\n",
      "Table Size               : \u001b[32m\u001b[1m65536\u001b[0m\n",
      "Timed Out                : \u001b[33m\u001b[1mFalse\u001b[0m\n",
      "Player AlphaBetaPlayer(player=1, max_depth=10, max_time=10, evaluate=evaluate_breakthrough_lorenz, use_null_moves=True, use_quiescence=True, use_transpositions=True, tt_size=65536) chosen action: (51, 42). Current game state: \n",
      "   A B C D E F G H\n",
      "1 B B B B B B B B\n",
      "2 B B B B B B B B\n",
      "3 . . . . . . . .\n",
      "4 . . . . . . . .\n",
      "5 . . . . . . . .\n",
      "6 . . W . . . . .\n",
      "7 W W W . W W W W\n",
      "8 W W W W W W W W\n",
      "hash: 12102082823451985270\n",
      "d=1 t_r:10.00 t_l: 10.0 ** d=2 t_r:10.00 t_l: 10.0 ** d=3 t_r:9.96 t_l: 10.0 ** d=4 t_r:9.88 t_l: 9.9 ** d=5 t_r:8.01 t_l: 8.0 ** d=6 t_r:6.98 t_l: 7.0 ** "
     ]
    },
    {
     "ename": "KeyboardInterrupt",
     "evalue": "",
     "output_type": "error",
     "traceback": [
      "\u001b[0;31m---------------------------------------------------------------------------\u001b[0m",
      "\u001b[0;31mKeyboardInterrupt\u001b[0m                         Traceback (most recent call last)",
      "Cell \u001b[0;32mIn[1], line 6\u001b[0m\n\u001b[1;32m      4\u001b[0m p2_params \u001b[39m=\u001b[39m AIParams(ai_key\u001b[39m=\u001b[39m\u001b[39m'\u001b[39m\u001b[39malphabeta\u001b[39m\u001b[39m'\u001b[39m, eval_key\u001b[39m=\u001b[39m\u001b[39m'\u001b[39m\u001b[39mevaluate_breakthrough_lorenz\u001b[39m\u001b[39m'\u001b[39m, ai_params\u001b[39m=\u001b[39m{\u001b[39m'\u001b[39m\u001b[39mmax_depth\u001b[39m\u001b[39m'\u001b[39m: \u001b[39m10\u001b[39m, \u001b[39m\"\u001b[39m\u001b[39mmax_time\u001b[39m\u001b[39m\"\u001b[39m: \u001b[39m10\u001b[39m, \u001b[39m\"\u001b[39m\u001b[39mdebug\u001b[39m\u001b[39m\"\u001b[39m: \u001b[39mTrue\u001b[39;00m, \u001b[39m\"\u001b[39m\u001b[39muse_null_moves\u001b[39m\u001b[39m\"\u001b[39m:\u001b[39mTrue\u001b[39;00m})\n\u001b[1;32m      5\u001b[0m \u001b[39m# TODO Hier was je gebleven, als je quiescence aanzet dan gaat de zoektijd through the roof\u001b[39;00m\n\u001b[0;32m----> 6\u001b[0m run_game(game_key\u001b[39m=\u001b[39;49m\u001b[39m'\u001b[39;49m\u001b[39mbreakthrough\u001b[39;49m\u001b[39m'\u001b[39;49m, game_params\u001b[39m=\u001b[39;49m{}, p1_params\u001b[39m=\u001b[39;49mp1_params, p2_params\u001b[39m=\u001b[39;49mp2_params)\n",
      "File \u001b[0;32m~/github/mcts_python/run_games.py:182\u001b[0m, in \u001b[0;36mrun_game\u001b[0;34m(game_key, game_params, p1_params, p2_params)\u001b[0m\n\u001b[1;32m    179\u001b[0m             \u001b[39mprint\u001b[39m(\u001b[39m\"\u001b[39m\u001b[39mGame Over. Draw\u001b[39m\u001b[39m\"\u001b[39m)\n\u001b[1;32m    181\u001b[0m game, p1, p2 \u001b[39m=\u001b[39m init_game_and_players(game_key, game_params, p1_params, p2_params)\n\u001b[0;32m--> 182\u001b[0m \u001b[39mreturn\u001b[39;00m play_game_until_terminal(game, p1, p2, callback\u001b[39m=\u001b[39;49mcallback)\n",
      "File \u001b[0;32m~/github/mcts_python/run_games.py:146\u001b[0m, in \u001b[0;36mplay_game_until_terminal\u001b[0;34m(game, player1, player2, callback)\u001b[0m\n\u001b[1;32m    143\u001b[0m current_player: AIPlayer \u001b[39m=\u001b[39m player1\n\u001b[1;32m    144\u001b[0m \u001b[39mwhile\u001b[39;00m \u001b[39mnot\u001b[39;00m game\u001b[39m.\u001b[39mis_terminal():\n\u001b[1;32m    145\u001b[0m     \u001b[39m# Get the best action for the current player\u001b[39;00m\n\u001b[0;32m--> 146\u001b[0m     action, _ \u001b[39m=\u001b[39m current_player\u001b[39m.\u001b[39;49mbest_action(game)\n\u001b[1;32m    148\u001b[0m     \u001b[39m# Apply the action to get the new game state\u001b[39;00m\n\u001b[1;32m    149\u001b[0m     game \u001b[39m=\u001b[39m game\u001b[39m.\u001b[39mapply_action(action)\n",
      "File \u001b[0;32m~/github/mcts_python/ai/alpha_beta.py:233\u001b[0m, in \u001b[0;36mAlphaBetaPlayer.best_action\u001b[0;34m(self, state)\u001b[0m\n\u001b[1;32m    231\u001b[0m     \u001b[39mbreak\u001b[39;00m  \u001b[39m# Stop searching if the time limit has been exceeded or if there's not enough time to do another search\u001b[39;00m\n\u001b[1;32m    232\u001b[0m \u001b[39mtry\u001b[39;00m:\n\u001b[0;32m--> 233\u001b[0m     v, best_move \u001b[39m=\u001b[39m value(state, \u001b[39m-\u001b[39;49m\u001b[39mfloat\u001b[39;49m(\u001b[39m\"\u001b[39;49m\u001b[39minf\u001b[39;49m\u001b[39m\"\u001b[39;49m), \u001b[39mfloat\u001b[39;49m(\u001b[39m\"\u001b[39;49m\u001b[39minf\u001b[39;49m\u001b[39m\"\u001b[39;49m), depth, \u001b[39mTrue\u001b[39;49;00m, root\u001b[39m=\u001b[39;49m\u001b[39mTrue\u001b[39;49;00m)\n\u001b[1;32m    234\u001b[0m     max_depth_reached \u001b[39m=\u001b[39m depth\n\u001b[1;32m    235\u001b[0m \u001b[39mexcept\u001b[39;00m \u001b[39mTimeoutError\u001b[39;00m:\n",
      "File \u001b[0;32m~/github/mcts_python/ai/alpha_beta.py:144\u001b[0m, in \u001b[0;36mAlphaBetaPlayer.best_action.<locals>.value\u001b[0;34m(state, alpha, beta, depth, allow_null_move, root)\u001b[0m\n\u001b[1;32m    142\u001b[0m \u001b[39mfor\u001b[39;00m move \u001b[39min\u001b[39;00m actions:\n\u001b[1;32m    143\u001b[0m     new_state \u001b[39m=\u001b[39m state\u001b[39m.\u001b[39mapply_action(move)\n\u001b[0;32m--> 144\u001b[0m     min_v, _ \u001b[39m=\u001b[39m value(new_state, alpha, beta, depth \u001b[39m-\u001b[39;49m \u001b[39m1\u001b[39;49m)\n\u001b[1;32m    145\u001b[0m     \u001b[39m# if min_v is not None:\u001b[39;00m\n\u001b[1;32m    146\u001b[0m     \u001b[39mif\u001b[39;00m min_v \u001b[39m>\u001b[39m v:\n",
      "File \u001b[0;32m~/github/mcts_python/ai/alpha_beta.py:185\u001b[0m, in \u001b[0;36mAlphaBetaPlayer.best_action.<locals>.value\u001b[0;34m(state, alpha, beta, depth, allow_null_move, root)\u001b[0m\n\u001b[1;32m    183\u001b[0m \u001b[39mfor\u001b[39;00m move \u001b[39min\u001b[39;00m actions:\n\u001b[1;32m    184\u001b[0m     new_state \u001b[39m=\u001b[39m state\u001b[39m.\u001b[39mapply_action(move)\n\u001b[0;32m--> 185\u001b[0m     max_v, _ \u001b[39m=\u001b[39m value(new_state, alpha, beta, depth \u001b[39m-\u001b[39;49m \u001b[39m1\u001b[39;49m)\n\u001b[1;32m    186\u001b[0m     \u001b[39m# if max_v is not None:\u001b[39;00m\n\u001b[1;32m    187\u001b[0m     \u001b[39mif\u001b[39;00m max_v \u001b[39m<\u001b[39m v:\n",
      "File \u001b[0;32m~/github/mcts_python/ai/alpha_beta.py:144\u001b[0m, in \u001b[0;36mAlphaBetaPlayer.best_action.<locals>.value\u001b[0;34m(state, alpha, beta, depth, allow_null_move, root)\u001b[0m\n\u001b[1;32m    142\u001b[0m \u001b[39mfor\u001b[39;00m move \u001b[39min\u001b[39;00m actions:\n\u001b[1;32m    143\u001b[0m     new_state \u001b[39m=\u001b[39m state\u001b[39m.\u001b[39mapply_action(move)\n\u001b[0;32m--> 144\u001b[0m     min_v, _ \u001b[39m=\u001b[39m value(new_state, alpha, beta, depth \u001b[39m-\u001b[39;49m \u001b[39m1\u001b[39;49m)\n\u001b[1;32m    145\u001b[0m     \u001b[39m# if min_v is not None:\u001b[39;00m\n\u001b[1;32m    146\u001b[0m     \u001b[39mif\u001b[39;00m min_v \u001b[39m>\u001b[39m v:\n",
      "File \u001b[0;32m~/github/mcts_python/ai/alpha_beta.py:185\u001b[0m, in \u001b[0;36mAlphaBetaPlayer.best_action.<locals>.value\u001b[0;34m(state, alpha, beta, depth, allow_null_move, root)\u001b[0m\n\u001b[1;32m    183\u001b[0m \u001b[39mfor\u001b[39;00m move \u001b[39min\u001b[39;00m actions:\n\u001b[1;32m    184\u001b[0m     new_state \u001b[39m=\u001b[39m state\u001b[39m.\u001b[39mapply_action(move)\n\u001b[0;32m--> 185\u001b[0m     max_v, _ \u001b[39m=\u001b[39m value(new_state, alpha, beta, depth \u001b[39m-\u001b[39;49m \u001b[39m1\u001b[39;49m)\n\u001b[1;32m    186\u001b[0m     \u001b[39m# if max_v is not None:\u001b[39;00m\n\u001b[1;32m    187\u001b[0m     \u001b[39mif\u001b[39;00m max_v \u001b[39m<\u001b[39m v:\n",
      "File \u001b[0;32m~/github/mcts_python/ai/alpha_beta.py:144\u001b[0m, in \u001b[0;36mAlphaBetaPlayer.best_action.<locals>.value\u001b[0;34m(state, alpha, beta, depth, allow_null_move, root)\u001b[0m\n\u001b[1;32m    142\u001b[0m \u001b[39mfor\u001b[39;00m move \u001b[39min\u001b[39;00m actions:\n\u001b[1;32m    143\u001b[0m     new_state \u001b[39m=\u001b[39m state\u001b[39m.\u001b[39mapply_action(move)\n\u001b[0;32m--> 144\u001b[0m     min_v, _ \u001b[39m=\u001b[39m value(new_state, alpha, beta, depth \u001b[39m-\u001b[39;49m \u001b[39m1\u001b[39;49m)\n\u001b[1;32m    145\u001b[0m     \u001b[39m# if min_v is not None:\u001b[39;00m\n\u001b[1;32m    146\u001b[0m     \u001b[39mif\u001b[39;00m min_v \u001b[39m>\u001b[39m v:\n",
      "File \u001b[0;32m~/github/mcts_python/ai/alpha_beta.py:184\u001b[0m, in \u001b[0;36mAlphaBetaPlayer.best_action.<locals>.value\u001b[0;34m(state, alpha, beta, depth, allow_null_move, root)\u001b[0m\n\u001b[1;32m    182\u001b[0m nodes_visited \u001b[39m+\u001b[39m\u001b[39m=\u001b[39m \u001b[39m1\u001b[39m\n\u001b[1;32m    183\u001b[0m \u001b[39mfor\u001b[39;00m move \u001b[39min\u001b[39;00m actions:\n\u001b[0;32m--> 184\u001b[0m     new_state \u001b[39m=\u001b[39m state\u001b[39m.\u001b[39;49mapply_action(move)\n\u001b[1;32m    185\u001b[0m     max_v, _ \u001b[39m=\u001b[39m value(new_state, alpha, beta, depth \u001b[39m-\u001b[39m \u001b[39m1\u001b[39m)\n\u001b[1;32m    186\u001b[0m     \u001b[39m# if max_v is not None:\u001b[39;00m\n",
      "File \u001b[0;32m~/github/mcts_python/games/breakthrough.py:73\u001b[0m, in \u001b[0;36mBreakthroughGameState.apply_action\u001b[0;34m(self, action)\u001b[0m\n\u001b[1;32m     62\u001b[0m to_row, to_col \u001b[39m=\u001b[39m \u001b[39mdivmod\u001b[39m(to_position, \u001b[39m8\u001b[39m)\n\u001b[1;32m     64\u001b[0m board_hash \u001b[39m=\u001b[39m (\n\u001b[1;32m     65\u001b[0m     \u001b[39mself\u001b[39m\u001b[39m.\u001b[39mboard_hash\n\u001b[1;32m     66\u001b[0m     \u001b[39m^\u001b[39m \u001b[39mself\u001b[39m\u001b[39m.\u001b[39mzobrist_table[from_row][from_col][player]\n\u001b[0;32m   (...)\u001b[0m\n\u001b[1;32m     70\u001b[0m     \u001b[39m^\u001b[39m \u001b[39mself\u001b[39m\u001b[39m.\u001b[39mplayers_bitstrings[\u001b[39m3\u001b[39m \u001b[39m-\u001b[39m \u001b[39mself\u001b[39m\u001b[39m.\u001b[39mplayer]\n\u001b[1;32m     71\u001b[0m )\n\u001b[0;32m---> 73\u001b[0m \u001b[39mreturn\u001b[39;00m BreakthroughGameState(new_board, \u001b[39m3\u001b[39;49m \u001b[39m-\u001b[39;49m \u001b[39mself\u001b[39;49m\u001b[39m.\u001b[39;49mplayer, board_hash\u001b[39m=\u001b[39;49mboard_hash)\n",
      "File \u001b[0;32m~/github/mcts_python/games/breakthrough.py:18\u001b[0m, in \u001b[0;36mBreakthroughGameState.__init__\u001b[0;34m(self, board, player, board_hash)\u001b[0m\n\u001b[1;32m      9\u001b[0m zobrist_table \u001b[39m=\u001b[39m [[[random\u001b[39m.\u001b[39mrandint(\u001b[39m1\u001b[39m, \u001b[39m2\u001b[39m\u001b[39m*\u001b[39m\u001b[39m*\u001b[39m\u001b[39m64\u001b[39m \u001b[39m-\u001b[39m \u001b[39m1\u001b[39m) \u001b[39mfor\u001b[39;00m _ \u001b[39min\u001b[39;00m \u001b[39mrange\u001b[39m(\u001b[39m3\u001b[39m)] \u001b[39mfor\u001b[39;00m _ \u001b[39min\u001b[39;00m \u001b[39mrange\u001b[39m(\u001b[39m8\u001b[39m)] \u001b[39mfor\u001b[39;00m _ \u001b[39min\u001b[39;00m \u001b[39mrange\u001b[39m(\u001b[39m8\u001b[39m)]\n\u001b[1;32m     11\u001b[0m \u001b[39m\u001b[39m\u001b[39m\"\"\"\u001b[39;00m\n\u001b[1;32m     12\u001b[0m \u001b[39mThis class represents the game state for the Breakthrough board game.\u001b[39;00m\n\u001b[1;32m     13\u001b[0m \u001b[39mBreakthrough is a two-player game played on an 8x8 board.\u001b[39;00m\n\u001b[1;32m     14\u001b[0m \u001b[39mEach player starts with 16 pieces occupying the first two rows.\u001b[39;00m\n\u001b[1;32m     15\u001b[0m \u001b[39mThe goal is to move one of your pieces to the opponent's home row.\u001b[39;00m\n\u001b[1;32m     16\u001b[0m \u001b[39m\"\"\"\u001b[39;00m\n\u001b[0;32m---> 18\u001b[0m \u001b[39mdef\u001b[39;00m \u001b[39m__init__\u001b[39m(\u001b[39mself\u001b[39m, board\u001b[39m=\u001b[39m\u001b[39mNone\u001b[39;00m, player\u001b[39m=\u001b[39m\u001b[39m1\u001b[39m, board_hash\u001b[39m=\u001b[39m\u001b[39mNone\u001b[39;00m):\n\u001b[1;32m     19\u001b[0m \u001b[39m    \u001b[39m\u001b[39m\"\"\"\u001b[39;00m\n\u001b[1;32m     20\u001b[0m \u001b[39m    Initialize the game state with the given board configuration.\u001b[39;00m\n\u001b[1;32m     21\u001b[0m \u001b[39m    If no board is provided, the game starts with the default setup.\u001b[39;00m\n\u001b[0;32m   (...)\u001b[0m\n\u001b[1;32m     24\u001b[0m \u001b[39m    :param player: The player whose turn it is (1 or 2).\u001b[39;00m\n\u001b[1;32m     25\u001b[0m \u001b[39m    \"\"\"\u001b[39;00m\n\u001b[1;32m     26\u001b[0m     \u001b[39mself\u001b[39m\u001b[39m.\u001b[39mplayer \u001b[39m=\u001b[39m player\n",
      "\u001b[0;31mKeyboardInterrupt\u001b[0m: "
     ]
    }
   ],
   "source": [
    "from run_games import run_game, AIParams\n",
    "\n",
    "p1_params = AIParams(ai_key='alphabeta', eval_key='evaluate_breakthrough_lorenz', ai_params={'max_depth': 10, \"max_time\": 10, \"debug\": True, \"use_null_moves\":True})\n",
    "p2_params = AIParams(ai_key='alphabeta', eval_key='evaluate_breakthrough_lorenz', ai_params={'max_depth': 10, \"max_time\": 10, \"debug\": True, \"use_null_moves\":True})\n",
    "# TODO Hier was je gebleven, als je quiescence aanzet dan gaat de zoektijd through the roof\n",
    "run_game(game_key='breakthrough', game_params={}, p1_params=p1_params, p2_params=p2_params)"
   ]
  },
  {
   "cell_type": "code",
   "execution_count": null,
   "metadata": {},
   "outputs": [],
   "source": [
    "from run_games import run_game, AIParams\n",
    "\n",
    "p1_params = AIParams(ai_key='alphabeta', eval_key='evaluate_kalah', \n",
    "                     ai_params={'max_depth': 10, \"max_time\": 10, \"debug\": True, \"use_null_moves\":True})\n",
    "p2_params = AIParams(ai_key='alphabeta', eval_key='evaluate_kalah', \n",
    "                     ai_params={'max_depth': 10, \"max_time\": 10, \"debug\": True, \"use_null_moves\":True})\n",
    "\n",
    "run_game(game_key='kalah', game_params={}, p1_params=p1_params, p2_params=p2_params)\n"
   ]
  },
  {
   "cell_type": "code",
   "execution_count": null,
   "metadata": {},
   "outputs": [],
   "source": [
    "from run_games import run_game, AIParams\n",
    "\n",
    "p1_params = AIParams(ai_key='alphabeta', eval_key='evaluate_amazons', \n",
    "                     ai_params={'max_depth': 10, \"max_time\": 10, \"debug\": True, \"use_null_moves\":False, 'use_transpositions': False})\n",
    "p2_params = AIParams(ai_key='alphabeta', eval_key='evaluate_amazons',\n",
    "                     ai_params={'max_depth': 10, \"max_time\": 10, \"debug\": True, \"use_null_moves\":False, 'use_transpositions': False})\n",
    "\n",
    "run_game(game_key='amazons', game_params={\"board_size\": 8}, p1_params=p1_params, p2_params=p2_params)"
   ]
  }
 ],
 "metadata": {
  "kernelspec": {
   "display_name": "Python 3",
   "language": "python",
   "name": "python3"
  },
  "language_info": {
   "codemirror_mode": {
    "name": "ipython",
    "version": 3
   },
   "file_extension": ".py",
   "mimetype": "text/x-python",
   "name": "python",
   "nbconvert_exporter": "python",
   "pygments_lexer": "ipython3",
   "version": "3.11.3"
  },
  "orig_nbformat": 4
 },
 "nbformat": 4,
 "nbformat_minor": 2
}
