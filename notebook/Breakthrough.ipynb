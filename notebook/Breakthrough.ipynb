{
 "cells": [
  {
   "cell_type": "code",
   "execution_count": 1,
   "metadata": {},
   "outputs": [
    {
     "name": "stdout",
     "output_type": "stream",
     "text": [
      "  0 1 2 3 4 5 6 7\n",
      "0 B B B B B B B B\n",
      "1 B B B B B B B B\n",
      "2 . . . . . . . .\n",
      "3 . . . . . . . .\n",
      "4 . . . . . . . .\n",
      "5 . . . . . . . .\n",
      "6 W W W W W W W W\n",
      "7 W W W W W W W W\n",
      "\n",
      " hash: 10271553243259547284\n"
     ]
    },
    {
     "ename": "IndexError",
     "evalue": "list index out of range",
     "output_type": "error",
     "traceback": [
      "\u001b[0;31m---------------------------------------------------------------------------\u001b[0m",
      "\u001b[0;31mIndexError\u001b[0m                                Traceback (most recent call last)",
      "Cell \u001b[0;32mIn[1], line 10\u001b[0m\n\u001b[1;32m      8\u001b[0m         \u001b[39mbreak\u001b[39;00m\n\u001b[1;32m      9\u001b[0m     actions \u001b[39m=\u001b[39m state\u001b[39m.\u001b[39mget_legal_actions()\n\u001b[0;32m---> 10\u001b[0m     state \u001b[39m=\u001b[39m state\u001b[39m.\u001b[39mapply_action(random\u001b[39m.\u001b[39;49mchoice(actions))\n\u001b[1;32m     11\u001b[0m     \u001b[39m# eval_max = max(abs(evaluate(state, state.player, norm=False)), eval_max)\u001b[39;00m\n\u001b[1;32m     13\u001b[0m moves \u001b[39m=\u001b[39m state\u001b[39m.\u001b[39mget_legal_actions()\n",
      "File \u001b[0;32m/Library/Developer/CommandLineTools/Library/Frameworks/Python3.framework/Versions/3.9/lib/python3.9/random.py:346\u001b[0m, in \u001b[0;36mRandom.choice\u001b[0;34m(self, seq)\u001b[0m\n\u001b[1;32m    344\u001b[0m \u001b[39m\u001b[39m\u001b[39m\"\"\"Choose a random element from a non-empty sequence.\"\"\"\u001b[39;00m\n\u001b[1;32m    345\u001b[0m \u001b[39m# raises IndexError if seq is empty\u001b[39;00m\n\u001b[0;32m--> 346\u001b[0m \u001b[39mreturn\u001b[39;00m seq[\u001b[39mself\u001b[39;49m\u001b[39m.\u001b[39;49m_randbelow(\u001b[39mlen\u001b[39;49m(seq))]\n",
      "\u001b[0;31mIndexError\u001b[0m: list index out of range"
     ]
    }
   ],
   "source": [
    "from games.breakthrough import *\n",
    "import random\n",
    "\n",
    "state = BreakthroughGameState()\n",
    "print(state.visualize())\n",
    "for n in range(50):  # Do some random actions on the board\n",
    "    if state.is_terminal():\n",
    "        break\n",
    "    actions = state.get_legal_actions()\n",
    "    state = state.apply_action(random.choice(actions))\n",
    "    # eval_max = max(abs(evaluate(state, state.player, norm=False)), eval_max)\n",
    "    \n",
    "moves = state.get_legal_actions()\n",
    "\n",
    "print(f\"Player: {state.player}\")\n",
    "print(f\"Reward: {state.get_reward(1)}/{state.get_reward(2)}, Terminal: {state.is_terminal()}\")\n",
    "print(state.visualize())\n",
    "print(f\"{len(moves)} actions: {state.get_legal_actions()}\")\n",
    "# ---------------------------Evaluations---------------------------------\n",
    "print(f\"Simple evaluation: {evaluate_breakthrough(state, 1, norm=False)}/{evaluate_breakthrough(state, 2, norm=False)}\")\n",
    "print(f\"Lorenz evaluation: {lorenz_evaluation(state, 1, norm=False)}/{lorenz_evaluation(state, 2, norm=False)}\")\n",
    "print(f\"Enhanced Lorenz evaluation: {lorenz_enhanced_evaluation(state, 1, norm=False)}/{lorenz_enhanced_evaluation(state, 2, norm=False)}\")\n",
    "# ------------------------------------------------------------\n",
    "black_pieces = get_player_pieces(state.board, 2)\n",
    "white_pieces = get_player_pieces(state.board, 1)\n",
    "print(f\"# white pieces: {len(white_pieces)} | # black pieces: {len(black_pieces)}\\n\")\n",
    "# ---------------------------Endgame---------------------------------\n",
    "print(f\"is endgame: {is_endgame(state.board)}\")\n",
    "# ---------------------------Piece safety---------------------------------\n",
    "for piece in black_pieces:\n",
    "    if not is_safe(piece, 2, state.board):\n",
    "        print(f\"{divmod(piece, 8)} - black is not safe\")\n",
    "for piece in white_pieces:\n",
    "    if not is_safe(piece, 1, state.board):\n",
    "        print(f\"{divmod(piece, 8)} - white is not safe\")\n",
    "print()\n",
    "# ---------------------------Piece mobility---------------------------------\n",
    "for piece in black_pieces:\n",
    "    print(f\"{divmod(piece, 8)} - black piece mobility: {piece_mobility(piece, 2, state.board)}\")\n",
    "for piece in white_pieces:\n",
    "    print(f\"{divmod(piece, 8)} - white piece mobility: {piece_mobility(piece, 1, state.board)}\")\n",
    "print()\n"
   ]
  }
 ],
 "metadata": {
  "kernelspec": {
   "display_name": "Python 3",
   "language": "python",
   "name": "python3"
  },
  "language_info": {
   "codemirror_mode": {
    "name": "ipython",
    "version": 3
   },
   "file_extension": ".py",
   "mimetype": "text/x-python",
   "name": "python",
   "nbconvert_exporter": "python",
   "pygments_lexer": "ipython3",
   "version": "3.9.6"
  },
  "orig_nbformat": 4
 },
 "nbformat": 4,
 "nbformat_minor": 2
}
