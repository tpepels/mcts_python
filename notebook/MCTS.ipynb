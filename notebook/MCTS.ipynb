{
 "cells": [
  {
   "cell_type": "code",
   "execution_count": null,
   "metadata": {},
   "outputs": [],
   "source": [
    "!python setup.py build_ext --inplace"
   ]
  },
  {
   "cell_type": "code",
   "execution_count": null,
   "metadata": {},
   "outputs": [],
   "source": [
    "from run_games import init_game_and_players\n",
    "from games.gamestate import win, loss\n",
    "from run_games import AIParams\n",
    "\n",
    "\n",
    "def callback(player, action, game, time):\n",
    "    print(f\"{player} -> mv.: {action}.\\n{game.visualize()}\")\n",
    "    if game.is_terminal():\n",
    "        if game.get_reward(1) == win:\n",
    "            print(\"Game Over. Winner: P1\")\n",
    "        elif game.get_reward(1) == loss:\n",
    "            print(\"Game Over. Winner: P2\")\n",
    "        else:\n",
    "            print(\"Game Over. Draw\")\n",
    "\n",
    "game_key = \"breakthrough\"\n",
    "game_params = {}\n",
    "p1_params = AIParams(\n",
    "    ai_key=\"mcts\",\n",
    "    eval_key=\"evaluate_breakthrough_lorenz\",\n",
    "    max_player=1,\n",
    "    ai_params={\"num_simulations\": 5000, \"debug\": True},\n",
    ")\n",
    "p2_params = AIParams(\n",
    "    ai_key=\"mcts\",\n",
    "    eval_key=\"evaluate_breakthrough_lorenz\",\n",
    "    max_player=2,\n",
    "    ai_params={\"num_simulations\": 5000, \"debug\": True},\n",
    ")\n",
    "game, player1, player2 = init_game_and_players(game_key, game_params, p1_params, p2_params)\n",
    "current_player = player1"
   ]
  },
  {
   "cell_type": "code",
   "execution_count": null,
   "metadata": {},
   "outputs": [],
   "source": [
    "while not game.is_terminal():\n",
    "    # Get the best action for the current player\n",
    "    action, _ = current_player.best_action(game)\n",
    "\n",
    "    # Apply the action to get the new game state\n",
    "    game = game.apply_action(action)\n",
    "    \n",
    "    # Call the callback function if any\n",
    "    if callback is not None:\n",
    "        callback(current_player, action, game, 0)\n",
    "\n",
    "    # Switch the current player\n",
    "    current_player = player2 if game.player == 2 else player1"
   ]
  },
  {
   "cell_type": "code",
   "execution_count": null,
   "metadata": {},
   "outputs": [],
   "source": [
    "player1.root"
   ]
  },
  {
   "cell_type": "code",
   "execution_count": null,
   "metadata": {},
   "outputs": [],
   "source": [
    "from run_games import run_game, AIParams\n",
    "\n",
    "p1_params = AIParams(ai_key='mcts', eval_key='evaluate_tictactoe', max_player=1,\n",
    "                     ai_params={\"max_time\": 10, \"debug\": True})\n",
    "p2_params = AIParams(ai_key='mcts', eval_key='evaluate_tictactoe', max_player=2,\n",
    "                     ai_params={\"max_time\": 10, \"debug\": True})\n",
    "run_game(game_key='tictactoe', game_params={\"board_size\" : 3}, p1_params=p1_params, p2_params=p2_params)"
   ]
  },
  {
   "cell_type": "code",
   "execution_count": null,
   "metadata": {},
   "outputs": [],
   "source": [
    "from run_games import run_game, AIParams\n",
    "\n",
    "p1_params = AIParams(ai_key='mcts', eval_key='evaluate_ninarow_fast',\n",
    "                     max_player=1, ai_params={\"num_simulations\": 5000, \"debug\": True})\n",
    "p2_params = AIParams(ai_key='mcts', eval_key='evaluate_ninarow_fast',\n",
    "                     max_player=2, ai_params={\"num_simulations\": 5000, \"debug\": True})\n",
    "\n",
    "run_game(game_key='tictactoe', game_params={\"board_size\" : 9, \"row_length\": 5}, \n",
    "         p1_params=p1_params, p2_params=p2_params)"
   ]
  },
  {
   "cell_type": "code",
   "execution_count": null,
   "metadata": {},
   "outputs": [],
   "source": [
    "from run_games import run_game, AIParams\n",
    "\n",
    "p1_params = AIParams(ai_key='mcts', eval_key='evaluate_breakthrough_lorenz', max_player=1,\n",
    "                     ai_params={\"num_simulations\": 2500, \"debug\": True})\n",
    "p2_params = AIParams(ai_key='mcts', eval_key='evaluate_breakthrough_lorenz', max_player=2,\n",
    "                     ai_params={\"num_simulations\": 2500, \"debug\": True})\n",
    "\n",
    "run_game(game_key='breakthrough', game_params={}, p1_params=p1_params, p2_params=p2_params)"
   ]
  },
  {
   "cell_type": "code",
   "execution_count": null,
   "metadata": {},
   "outputs": [],
   "source": [
    "from run_games import run_game, AIParams\n",
    "\n",
    "p1_params = AIParams(ai_key='mcts', eval_key='evaluate_kalah_enhanced', max_player=1,\n",
    "                     ai_params={\"num_simulations\": 2500, \"debug\": True})\n",
    "p2_params = AIParams(ai_key='mcts', eval_key='evaluate_kalah_enhanced', max_player=2,\n",
    "                     ai_params={\"num_simulations\": 2500, \"debug\": True})\n",
    "\n",
    "run_game(game_key='kalah', game_params={}, p1_params=p1_params, p2_params=p2_params)\n"
   ]
  },
  {
   "cell_type": "code",
   "execution_count": null,
   "metadata": {},
   "outputs": [],
   "source": [
    "from run_games import run_game, AIParams\n",
    "\n",
    "p1_params = AIParams(ai_key='mcts', eval_key='evaluate_amazons', max_player=1,\n",
    "                     ai_params={\"num_simulations\": 2500, \"debug\": True})\n",
    "p2_params = AIParams(ai_key='mcts', eval_key='evaluate_amazons',max_player=2,\n",
    "                     ai_params={\"num_simulations\": 2500, \"debug\": True})\n",
    "\n",
    "run_game(game_key='amazons', game_params={\"board_size\": 8}, p1_params=p1_params, p2_params=p2_params)"
   ]
  },
  {
   "cell_type": "code",
   "execution_count": null,
   "metadata": {},
   "outputs": [],
   "source": [
    "from run_games import run_game, AIParams\n",
    "\n",
    "p1_params = AIParams(ai_key='mcts', eval_key='evaluate_blokus', max_player=1,\n",
    "                     ai_params={\"num_simulations\": 2500, \"debug\": True})\n",
    "p2_params = AIParams(ai_key='mcts', eval_key='evaluate_blokus',max_player=2,\n",
    "                     ai_params={\"num_simulations\": 2500, \"debug\": True})\n",
    "\n",
    "run_game(game_key='blokus', game_params={}, p1_params=p1_params, p2_params=p2_params)"
   ]
  }
 ],
 "metadata": {
  "kernelspec": {
   "display_name": "Python 3",
   "language": "python",
   "name": "python3"
  },
  "language_info": {
   "codemirror_mode": {
    "name": "ipython",
    "version": 3
   },
   "file_extension": ".py",
   "mimetype": "text/x-python",
   "name": "python",
   "nbconvert_exporter": "python",
   "pygments_lexer": "ipython3",
   "version": "3.11.3"
  },
  "orig_nbformat": 4
 },
 "nbformat": 4,
 "nbformat_minor": 2
}
