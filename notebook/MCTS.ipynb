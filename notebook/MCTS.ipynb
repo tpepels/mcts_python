{
 "cells": [
  {
   "cell_type": "code",
   "execution_count": 1,
   "metadata": {},
   "outputs": [
    {
     "name": "stdout",
     "output_type": "stream",
     "text": [
      "Player <ai.mcts.MCTSPlayer object at 0x107e171d0> chosen action: (1, 2). Current game state: \n",
      "    |   |   |   \n",
      "---------------\n",
      "   |   | X |   \n",
      "---------------\n",
      "   |   |   |   \n",
      "---------------\n",
      "   |   |   |   \n",
      "\n",
      "hash: 938097208970723434\n",
      "Player <ai.mcts.MCTSPlayer object at 0x1079e7090> chosen action: (3, 0). Current game state: \n",
      "    |   |   |   \n",
      "---------------\n",
      "   |   | X |   \n",
      "---------------\n",
      "   |   |   |   \n",
      "---------------\n",
      " O |   |   |   \n",
      "\n",
      "hash: 11866411982005001154\n",
      "Player <ai.mcts.MCTSPlayer object at 0x107e171d0> chosen action: (0, 2). Current game state: \n",
      "    |   | X |   \n",
      "---------------\n",
      "   |   | X |   \n",
      "---------------\n",
      "   |   |   |   \n",
      "---------------\n",
      " O |   |   |   \n",
      "\n",
      "hash: 18361764736942267124\n",
      "Player <ai.mcts.MCTSPlayer object at 0x1079e7090> chosen action: (1, 1). Current game state: \n",
      "    |   | X |   \n",
      "---------------\n",
      "   | O | X |   \n",
      "---------------\n",
      "   |   |   |   \n",
      "---------------\n",
      " O |   |   |   \n",
      "\n",
      "hash: 9862203410522156899\n",
      "Player <ai.mcts.MCTSPlayer object at 0x107e171d0> chosen action: (0, 0). Current game state: \n",
      "  X |   | X |   \n",
      "---------------\n",
      "   | O | X |   \n",
      "---------------\n",
      "   |   |   |   \n",
      "---------------\n",
      " O |   |   |   \n",
      "\n",
      "hash: 16680008243600089904\n",
      "Player <ai.mcts.MCTSPlayer object at 0x1079e7090> chosen action: (3, 2). Current game state: \n",
      "  X |   | X |   \n",
      "---------------\n",
      "   | O | X |   \n",
      "---------------\n",
      "   |   |   |   \n",
      "---------------\n",
      " O |   | O |   \n",
      "\n",
      "hash: 12633395896675813552\n",
      "Player <ai.mcts.MCTSPlayer object at 0x107e171d0> chosen action: (3, 1). Current game state: \n",
      "  X |   | X |   \n",
      "---------------\n",
      "   | O | X |   \n",
      "---------------\n",
      "   |   |   |   \n",
      "---------------\n",
      " O | X | O |   \n",
      "\n",
      "hash: 16724002897435939537\n",
      "Player <ai.mcts.MCTSPlayer object at 0x1079e7090> chosen action: (0, 3). Current game state: \n",
      "  X |   | X | O \n",
      "---------------\n",
      "   | O | X |   \n",
      "---------------\n",
      "   |   |   |   \n",
      "---------------\n",
      " O | X | O |   \n",
      "\n",
      "hash: 7589338503839838977\n",
      "Player <ai.mcts.MCTSPlayer object at 0x107e171d0> chosen action: (2, 3). Current game state: \n",
      "  X |   | X | O \n",
      "---------------\n",
      "   | O | X |   \n",
      "---------------\n",
      "   |   |   | X \n",
      "---------------\n",
      " O | X | O |   \n",
      "\n",
      "hash: 15762636705627585820\n"
     ]
    },
    {
     "ename": "KeyboardInterrupt",
     "evalue": "",
     "output_type": "error",
     "traceback": [
      "\u001b[0;31m---------------------------------------------------------------------------\u001b[0m",
      "\u001b[0;31mKeyboardInterrupt\u001b[0m                         Traceback (most recent call last)",
      "Cell \u001b[0;32mIn[1], line 7\u001b[0m\n\u001b[1;32m      3\u001b[0m p1_params \u001b[39m=\u001b[39m AIParams(ai_key\u001b[39m=\u001b[39m\u001b[39m'\u001b[39m\u001b[39mmcts\u001b[39m\u001b[39m'\u001b[39m, eval_key\u001b[39m=\u001b[39m\u001b[39m'\u001b[39m\u001b[39mevaluate_tictactoe\u001b[39m\u001b[39m'\u001b[39m, max_player\u001b[39m=\u001b[39m\u001b[39m1\u001b[39m,\n\u001b[1;32m      4\u001b[0m                      ai_params\u001b[39m=\u001b[39m{\u001b[39m\"\u001b[39m\u001b[39mmax_time\u001b[39m\u001b[39m\"\u001b[39m: \u001b[39m10\u001b[39m, \u001b[39m\"\u001b[39m\u001b[39mdebug\u001b[39m\u001b[39m\"\u001b[39m: \u001b[39mTrue\u001b[39;00m})\n\u001b[1;32m      5\u001b[0m p2_params \u001b[39m=\u001b[39m AIParams(ai_key\u001b[39m=\u001b[39m\u001b[39m'\u001b[39m\u001b[39mmcts\u001b[39m\u001b[39m'\u001b[39m, eval_key\u001b[39m=\u001b[39m\u001b[39m'\u001b[39m\u001b[39mevaluate_tictactoe\u001b[39m\u001b[39m'\u001b[39m, max_player\u001b[39m=\u001b[39m\u001b[39m2\u001b[39m,\n\u001b[1;32m      6\u001b[0m                      ai_params\u001b[39m=\u001b[39m{\u001b[39m\"\u001b[39m\u001b[39mmax_time\u001b[39m\u001b[39m\"\u001b[39m: \u001b[39m10\u001b[39m, \u001b[39m\"\u001b[39m\u001b[39mdebug\u001b[39m\u001b[39m\"\u001b[39m: \u001b[39mTrue\u001b[39;00m})\n\u001b[0;32m----> 7\u001b[0m run_game(game_key\u001b[39m=\u001b[39;49m\u001b[39m'\u001b[39;49m\u001b[39mtictactoe\u001b[39;49m\u001b[39m'\u001b[39;49m, game_params\u001b[39m=\u001b[39;49m{\u001b[39m\"\u001b[39;49m\u001b[39mboard_size\u001b[39;49m\u001b[39m\"\u001b[39;49m : \u001b[39m4\u001b[39;49m}, p1_params\u001b[39m=\u001b[39;49mp1_params, p2_params\u001b[39m=\u001b[39;49mp2_params)\n",
      "File \u001b[0;32m~/github/mcts_python/run_games.py:198\u001b[0m, in \u001b[0;36mrun_game\u001b[0;34m(game_key, game_params, p1_params, p2_params)\u001b[0m\n\u001b[1;32m    195\u001b[0m             \u001b[39mprint\u001b[39m(\u001b[39m\"\u001b[39m\u001b[39mGame Over. Draw\u001b[39m\u001b[39m\"\u001b[39m)\n\u001b[1;32m    197\u001b[0m game, p1, p2 \u001b[39m=\u001b[39m init_game_and_players(game_key, game_params, p1_params, p2_params)\n\u001b[0;32m--> 198\u001b[0m reward \u001b[39m=\u001b[39m play_game_until_terminal(game, p1, p2, callback\u001b[39m=\u001b[39;49mcallback)\n\u001b[1;32m    200\u001b[0m p1\u001b[39m.\u001b[39mprint_cumulative_statistics()\n\u001b[1;32m    201\u001b[0m p2\u001b[39m.\u001b[39mprint_cumulative_statistics()\n",
      "File \u001b[0;32m~/github/mcts_python/run_games.py:162\u001b[0m, in \u001b[0;36mplay_game_until_terminal\u001b[0;34m(game, player1, player2, callback)\u001b[0m\n\u001b[1;32m    159\u001b[0m current_player: AIPlayer \u001b[39m=\u001b[39m player1\n\u001b[1;32m    160\u001b[0m \u001b[39mwhile\u001b[39;00m \u001b[39mnot\u001b[39;00m game\u001b[39m.\u001b[39mis_terminal():\n\u001b[1;32m    161\u001b[0m     \u001b[39m# Get the best action for the current player\u001b[39;00m\n\u001b[0;32m--> 162\u001b[0m     action, _ \u001b[39m=\u001b[39m current_player\u001b[39m.\u001b[39;49mbest_action(game)\n\u001b[1;32m    164\u001b[0m     \u001b[39m# Apply the action to get the new game state\u001b[39;00m\n\u001b[1;32m    165\u001b[0m     game \u001b[39m=\u001b[39m game\u001b[39m.\u001b[39mapply_action(action)\n",
      "File \u001b[0;32m~/github/mcts_python/ai/mcts.py:122\u001b[0m, in \u001b[0;36mMCTSPlayer.best_action\u001b[0;34m(self, state)\u001b[0m\n\u001b[1;32m    120\u001b[0m     start_time \u001b[39m=\u001b[39m time\u001b[39m.\u001b[39mtime()\n\u001b[1;32m    121\u001b[0m     \u001b[39mwhile\u001b[39;00m time\u001b[39m.\u001b[39mtime() \u001b[39m-\u001b[39m start_time \u001b[39m<\u001b[39m \u001b[39mself\u001b[39m\u001b[39m.\u001b[39mtime:\n\u001b[0;32m--> 122\u001b[0m         \u001b[39mself\u001b[39;49m\u001b[39m.\u001b[39;49msimulate()\n\u001b[1;32m    124\u001b[0m \u001b[39m# Clean the transposition table\u001b[39;00m\n\u001b[1;32m    125\u001b[0m \u001b[39mself\u001b[39m\u001b[39m.\u001b[39mtt\u001b[39m.\u001b[39mevict()\n",
      "File \u001b[0;32m~/github/mcts_python/ai/mcts.py:134\u001b[0m, in \u001b[0;36mMCTSPlayer.simulate\u001b[0;34m(self)\u001b[0m\n\u001b[1;32m    131\u001b[0m selected \u001b[39m=\u001b[39m [node]\n\u001b[1;32m    133\u001b[0m \u001b[39mwhile\u001b[39;00m \u001b[39mnot\u001b[39;00m node\u001b[39m.\u001b[39mstate\u001b[39m.\u001b[39mis_terminal():\n\u001b[0;32m--> 134\u001b[0m     _node \u001b[39m=\u001b[39m node\u001b[39m.\u001b[39;49mselect()\n\u001b[1;32m    135\u001b[0m     selected\u001b[39m.\u001b[39mappend(_node)\n\u001b[1;32m    136\u001b[0m     node \u001b[39m=\u001b[39m _node\n",
      "File \u001b[0;32m~/github/mcts_python/ai/mcts.py:33\u001b[0m, in \u001b[0;36mNode.select\u001b[0;34m(self)\u001b[0m\n\u001b[1;32m     31\u001b[0m     \u001b[39mreturn\u001b[39;00m \u001b[39mself\u001b[39m\u001b[39m.\u001b[39mexpand()\n\u001b[1;32m     32\u001b[0m \u001b[39melse\u001b[39;00m:\n\u001b[0;32m---> 33\u001b[0m     \u001b[39mreturn\u001b[39;00m \u001b[39mself\u001b[39;49m\u001b[39m.\u001b[39;49mutc()\n",
      "File \u001b[0;32m~/github/mcts_python/ai/mcts.py:48\u001b[0m, in \u001b[0;36mNode.utc\u001b[0;34m(self)\u001b[0m\n\u001b[1;32m     43\u001b[0m stats \u001b[39m=\u001b[39m child\u001b[39m.\u001b[39mstats()\n\u001b[1;32m     44\u001b[0m i \u001b[39m=\u001b[39m \u001b[39mself\u001b[39m\u001b[39m.\u001b[39mplayer \u001b[39m-\u001b[39m \u001b[39m1\u001b[39m  \u001b[39m# This makes is easier to index the player in the stats\u001b[39;00m\n\u001b[1;32m     46\u001b[0m uct_val \u001b[39m=\u001b[39m (\n\u001b[1;32m     47\u001b[0m     stats[i] \u001b[39m/\u001b[39m stats[\u001b[39m3\u001b[39m]\n\u001b[0;32m---> 48\u001b[0m     \u001b[39m+\u001b[39m np\u001b[39m.\u001b[39msqrt(\u001b[39mself\u001b[39m\u001b[39m.\u001b[39mc \u001b[39m*\u001b[39m np\u001b[39m.\u001b[39;49mlog(my_visits) \u001b[39m/\u001b[39m stats[\u001b[39m3\u001b[39m])\n\u001b[1;32m     49\u001b[0m     \u001b[39m+\u001b[39m np\u001b[39m.\u001b[39mrandom\u001b[39m.\u001b[39muniform(\u001b[39m0.0001\u001b[39m, \u001b[39m0.001\u001b[39m)\n\u001b[1;32m     50\u001b[0m )\n\u001b[1;32m     51\u001b[0m \u001b[39mif\u001b[39;00m uct_val \u001b[39m>\u001b[39m\u001b[39m=\u001b[39m max_val:\n\u001b[1;32m     52\u001b[0m     max_child \u001b[39m=\u001b[39m child\n",
      "\u001b[0;31mKeyboardInterrupt\u001b[0m: "
     ]
    }
   ],
   "source": [
    "from run_games import run_game, AIParams\n",
    "\n",
    "p1_params = AIParams(ai_key='mcts', eval_key='evaluate_tictactoe', max_player=1,\n",
    "                     ai_params={\"max_time\": 10, \"debug\": True})\n",
    "p2_params = AIParams(ai_key='mcts', eval_key='evaluate_tictactoe', max_player=2,\n",
    "                     ai_params={\"max_time\": 10, \"debug\": True})\n",
    "run_game(game_key='tictactoe', game_params={\"board_size\" : 4}, p1_params=p1_params, p2_params=p2_params)"
   ]
  },
  {
   "cell_type": "code",
   "execution_count": null,
   "metadata": {},
   "outputs": [],
   "source": [
    "from run_games import run_game, AIParams\n",
    "\n",
    "p1_params = AIParams(ai_key='alphabeta', eval_key='evaluate_n_in_a_row',\n",
    "                     max_player=1, ai_params={\"max_time\": 16, \"debug\": True})\n",
    "p2_params = AIParams(ai_key='alphabeta', eval_key='evaluate_n_in_a_row',\n",
    "                     max_player=2, ai_params={\"max_time\": 6, \"debug\": True})\n",
    "# An n-in-a-row game\n",
    "run_game(game_key='tictactoe', game_params={\"board_size\" : 9, \"row_length\": 6}, \n",
    "         p1_params=p1_params, p2_params=p2_params)"
   ]
  },
  {
   "cell_type": "code",
   "execution_count": null,
   "metadata": {},
   "outputs": [],
   "source": [
    "from run_games import run_game, AIParams\n",
    "\n",
    "p1_params = AIParams(ai_key='alphabeta', eval_key='evaluate_breakthrough_lorenz', max_player=1,\n",
    "                     ai_params={\"max_time\": 10, \"debug\": True, \"use_tt\": False, \"use_null_moves\":True, \"use_quiescence\":True})\n",
    "p2_params = AIParams(ai_key='alphabeta', eval_key='evaluate_breakthrough_lorenz', max_player=2,\n",
    "                     ai_params={\"max_time\": 10, \"debug\": True, \"use_null_moves\":False})\n",
    "\n",
    "run_game(game_key='breakthrough', game_params={}, p1_params=p1_params, p2_params=p2_params)"
   ]
  },
  {
   "cell_type": "code",
   "execution_count": null,
   "metadata": {},
   "outputs": [],
   "source": [
    "from run_games import run_game, AIParams\n",
    "\n",
    "p1_params = AIParams(ai_key='alphabeta', eval_key='evaluate_kalah_enhanced', max_player=1,\n",
    "                     ai_params={\"max_time\": 10, \"debug\": True, \"use_tt\": False, \"use_quiescence\": True})\n",
    "p2_params = AIParams(ai_key='alphabeta', eval_key='evaluate_kalah_enhanced', max_player=2,\n",
    "                     ai_params={\"max_time\": 10, \"debug\": True})\n",
    "``\n",
    "run_game(game_key='kalah', game_params={}, p1_params=p1_params, p2_params=p2_params)\n"
   ]
  },
  {
   "cell_type": "code",
   "execution_count": null,
   "metadata": {},
   "outputs": [],
   "source": [
    "from run_games import run_game, AIParams\n",
    "\n",
    "p1_params = AIParams(ai_key='alphabeta', eval_key='evaluate_amazons', max_player=1,\n",
    "                     ai_params={\"max_time\": 10, \"debug\": True, \"use_tt\": False})\n",
    "p2_params = AIParams(ai_key='alphabeta', eval_key='evaluate_amazons',max_player=2,\n",
    "                     ai_params={\"max_time\": 10, \"debug\": True})\n",
    "\n",
    "run_game(game_key='amazons', game_params={\"board_size\": 8}, p1_params=p1_params, p2_params=p2_params)"
   ]
  },
  {
   "cell_type": "code",
   "execution_count": null,
   "metadata": {},
   "outputs": [],
   "source": [
    "from run_games import run_game, AIParams\n",
    "\n",
    "p1_params = AIParams(ai_key='alphabeta', eval_key='evaluate_blokus', max_player=1,\n",
    "                     ai_params={\"max_time\": 15, \"debug\": True, \"use_null_moves\": True})\n",
    "p2_params = AIParams(ai_key='alphabeta', eval_key='evaluate_blokus',max_player=2,\n",
    "                     ai_params={\"max_time\": 15, \"debug\": True})\n",
    "\n",
    "run_game(game_key='blokus', game_params={}, p1_params=p1_params, p2_params=p2_params)"
   ]
  }
 ],
 "metadata": {
  "kernelspec": {
   "display_name": "Python 3",
   "language": "python",
   "name": "python3"
  },
  "language_info": {
   "codemirror_mode": {
    "name": "ipython",
    "version": 3
   },
   "file_extension": ".py",
   "mimetype": "text/x-python",
   "name": "python",
   "nbconvert_exporter": "python",
   "pygments_lexer": "ipython3",
   "version": "3.11.3"
  },
  "orig_nbformat": 4
 },
 "nbformat": 4,
 "nbformat_minor": 2
}
