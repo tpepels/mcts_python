{
 "cells": [
  {
   "cell_type": "code",
   "execution_count": 1,
   "metadata": {},
   "outputs": [
    {
     "name": "stdout",
     "output_type": "stream",
     "text": [
      "running build_ext\n"
     ]
    }
   ],
   "source": [
    "!python setup.py build_ext --inplace"
   ]
  },
  {
   "cell_type": "code",
   "execution_count": 2,
   "metadata": {},
   "outputs": [
    {
     "name": "stdout",
     "output_type": "stream",
     "text": [
      "Transpositions is compiled.\n",
      "Amazons is compiled.\n",
      "Blokus is compiled.\n",
      "Breakthrough is compiled.\n",
      "Kalah is compiled.\n",
      "Tictactoe is compiled.\n"
     ]
    }
   ],
   "source": [
    "from run_games import init_game_and_players\n",
    "from games.gamestate import win, loss\n",
    "from run_games import AIParams\n",
    "\n",
    "\n",
    "def callback(player, action, game, time):\n",
    "    print(f\"{player} -> mv.: {action}.\\n{game.visualize()}\")\n",
    "    if game.is_terminal():\n",
    "        if game.get_reward(1) == win:\n",
    "            print(\"Game Over. Winner: P1\")\n",
    "        elif game.get_reward(1) == loss:\n",
    "            print(\"Game Over. Winner: P2\")\n",
    "        else:\n",
    "            print(\"Game Over. Draw\")\n",
    "\n",
    "game_key = \"breakthrough\"\n",
    "game_params = {}\n",
    "p1_params = AIParams(\n",
    "    ai_key=\"mcts\",\n",
    "    eval_key=\"evaluate_breakthrough\",\n",
    "    max_player=1,\n",
    "    ai_params={\"num_simulations\": 10000, \"debug\": True},\n",
    ")\n",
    "p2_params = AIParams(\n",
    "    ai_key=\"mcts\",\n",
    "    eval_key=\"evaluate_breakthrough\",\n",
    "    max_player=2,\n",
    "    ai_params={\"num_simulations\": 10000, \"debug\": True},\n",
    ")\n",
    "game, player1, player2 = init_game_and_players(game_key, game_params, p1_params, p2_params)\n",
    "current_player = player1"
   ]
  },
  {
   "cell_type": "code",
   "execution_count": 3,
   "metadata": {},
   "outputs": [
    {
     "name": "stdout",
     "output_type": "stream",
     "text": [
      "Ran 10000 simulations in 10.00 sec., 999.0 simulations per second.\n",
      "--*----*----*----*----*----*----*----*----*----*----*----*----*----*----*----*----*----*----*----*----*----*----*----*----*----*----*----*----*----*----*----*----*----*----*----*----*----*----*----*----*----*----*----*----*----*----*----*----*----*--\n",
      "Max node found: Nd(P:2, ctn:(49, 42), Hsh:3467762765, Chldrn:22, xpndd:Tr, Stts:(194.0, 193.0, 387.0, 0, Tr, 0.0)), with max value: 0.0\n",
      "Nd(P:2, ctn:(49, 42), Hsh:3467762765, Chldrn:22, xpndd:Tr, Stts:(194.0, 193.0, 387.0, 0, Tr, 0.0))\n",
      "\tNd(P:2, ctn:(49, 41), Hsh:2681686349, Chldrn:22, xpndd:Tr, Stts:(246.0, 230.0, 476.0, 0, Tr, 0.0))\n",
      "\tNd(P:2, ctn:(49, 40), Hsh:3074968128, Chldrn:22, xpndd:Tr, Stts:(146.0, 157.0, 303.0, 0, Tr, 0.0))\n",
      "\tNd(P:2, ctn:(51, 42), Hsh:3936175820, Chldrn:22, xpndd:Tr, Stts:(154.0, 163.0, 317.0, 0, Tr, 0.0))\n",
      "\tNd(P:2, ctn:(51, 43), Hsh:1179939531, Chldrn:22, xpndd:Tr, Stts:(176.0, 180.0, 356.0, 0, Tr, 0.0))\n",
      "\tNd(P:2, ctn:(51, 44), Hsh:3595318584, Chldrn:22, xpndd:Tr, Stts:(169.0, 175.0, 344.0, 0, Tr, 0.0))\n",
      "\tNd(P:2, ctn:(55, 46), Hsh:109174821, Chldrn:22, xpndd:Tr, Stts:(226.0, 216.0, 442.0, 0, Tr, 0.0))\n",
      "\tNd(P:2, ctn:(55, 47), Hsh:2895974818, Chldrn:22, xpndd:Tr, Stts:(155.0, 164.0, 319.0, 0, Tr, 0.0))\n",
      "\tNd(P:2, ctn:(52, 45), Hsh:2119097458, Chldrn:22, xpndd:Tr, Stts:(279.0, 249.0, 528.0, 0, Tr, 0.0))\n",
      "\tNd(P:2, ctn:(52, 44), Hsh:4181629645, Chldrn:22, xpndd:Tr, Stts:(138.0, 151.0, 289.0, 0, Tr, 0.0))\n",
      "\tNd(P:2, ctn:(52, 43), Hsh:1764154686, Chldrn:22, xpndd:Tr, Stts:(311.0, 275.0, 586.0, 0, Tr, 0.0))\n",
      "\tNd(P:2, ctn:(53, 46), Hsh:2867849129, Chldrn:22, xpndd:Tr, Stts:(310.0, 275.0, 585.0, 0, Tr, 0.0))\n",
      "\tNd(P:2, ctn:(53, 44), Hsh:4278607339, Chldrn:22, xpndd:Tr, Stts:(400.0, 335.0, 735.0, 0, Tr, 0.0))\n",
      "\tNd(P:2, ctn:(53, 45), Hsh:2021006164, Chldrn:22, xpndd:Tr, Stts:(71.0, 98.0, 169.0, 0, Tr, 0.0))\n",
      "\tNd(P:2, ctn:(50, 41), Hsh:40370122, Chldrn:22, xpndd:Tr, Stts:(375.0, 318.0, 693.0, 0, Tr, 0.0))\n",
      "\tNd(P:2, ctn:(50, 42), Hsh:1392601802, Chldrn:22, xpndd:Tr, Stts:(440.0, 362.0, 802.0, 0, Tr, 0.0))\n",
      "\tNd(P:2, ctn:(50, 43), Hsh:4291321549, Chldrn:22, xpndd:Tr, Stts:(75.0, 101.0, 176.0, 0, Tr, 0.0))\n",
      "\tNd(P:2, ctn:(48, 41), Hsh:3699516350, Chldrn:22, xpndd:Tr, Stts:(228.0, 217.0, 445.0, 0, Tr, 0.0))\n",
      "\tNd(P:2, ctn:(48, 40), Hsh:4095549619, Chldrn:22, xpndd:Tr, Stts:(399.0, 334.0, 733.0, 0, Tr, 0.0))\n",
      "\tNd(P:2, ctn:(54, 45), Hsh:3184812738, Chldrn:22, xpndd:Tr, Stts:(208.0, 203.0, 411.0, 0, Tr, 0.0))\n",
      "\tNd(P:2, ctn:(54, 46), Hsh:1867357759, Chldrn:22, xpndd:Tr, Stts:(208.0, 203.0, 411.0, 0, Tr, 0.0))\n",
      "\tNd(P:2, ctn:(54, 47), Hsh:3310448568, Chldrn:22, xpndd:Tr, Stts:(256.0, 237.0, 493.0, 0, Tr, 0.0))\n",
      "Rt(P:1, Hsh:3661622048, Chldrn:22, Stts:(5164.0, 4836.0, 10000.0, 0, Tr, 0.0))\n",
      "Tt Cache Hits   : \u001b[32m\u001b[1m544,843\u001b[0m\n",
      "Tt Cache Misses : \u001b[32m\u001b[1m15,130\u001b[0m\n",
      "Tt Cleanups     : \u001b[32m\u001b[1m0\u001b[0m\n",
      "Tt Collisions   : \u001b[32m\u001b[1m0\u001b[0m\n",
      "Tt Entries      : \u001b[32m\u001b[1m7,565\u001b[0m\n",
      "Tt Size         : \u001b[32m\u001b[1m524,288\u001b[0m\n",
      "Tt Visited      : \u001b[32m\u001b[1m7,565\u001b[0m\n",
      "MCTS(p=1, vlt=vlt_brkthrgh, nm_smltns=10000, mx_tm=0.0, c=1.0, dyn_rly_trm=Fls, dyn_rly_trm_ctff=0.9, rly_trm=Fls, rly_trm_trns=Tr, _grdy=Fls, _g_sbst=20, rltt=Fls, psln=0.05, nd_prrs=Fls) -> mv.: (49, 42).\n",
      "1 B B B B B B B B\n",
      "2 B B B B B B B B\n",
      "3 . . . . . . . .\n",
      "4 . . . . . . . .\n",
      "5 . . . . . . . .\n",
      "6 . . W . . . . .\n",
      "7 W . W W W W W W\n",
      "8 W W W W W W W W\n",
      "  A B C D E F G H\n",
      "Player: 2\n",
      "\n"
     ]
    }
   ],
   "source": [
    "# Get the best action for the current player\n",
    "action, _ = current_player.best_action(game)\n",
    "\n",
    "# Apply the action to get the new game state\n",
    "game = game.apply_action(action)\n",
    "\n",
    "# Call the callback function if any\n",
    "if callback is not None:\n",
    "    callback(current_player, action, game, 0)\n",
    "\n",
    "# Switch the current player\n",
    "current_player = player2 if game.player == 2 else player1"
   ]
  },
  {
   "cell_type": "markdown",
   "metadata": {},
   "source": [
    "from run_games import run_game, AIParams\n",
    "\n",
    "p1_params = AIParams(ai_key='mcts', eval_key='evaluate_tictactoe', max_player=1,\n",
    "                     ai_params={\"max_time\": 10, \"debug\": True})\n",
    "p2_params = AIParams(ai_key='mcts', eval_key='evaluate_tictactoe', max_player=2,\n",
    "                     ai_params={\"max_time\": 10, \"debug\": True})\n",
    "run_game(game_key='tictactoe', game_params={\"board_size\" : 3}, p1_params=p1_params, p2_params=p2_params)"
   ]
  },
  {
   "cell_type": "markdown",
   "metadata": {},
   "source": [
    "from run_games import run_game, AIParams\n",
    "\n",
    "p1_params = AIParams(ai_key='alphabeta', eval_key='evaluate_n_in_a_row',\n",
    "                     max_player=1, ai_params={\"max_time\": 16, \"debug\": True})\n",
    "p2_params = AIParams(ai_key='alphabeta', eval_key='evaluate_n_in_a_row',\n",
    "                     max_player=2, ai_params={\"max_time\": 6, \"debug\": True})\n",
    "# An n-in-a-row game\n",
    "run_game(game_key='tictactoe', game_params={\"board_size\" : 9, \"row_length\": 6}, \n",
    "         p1_params=p1_params, p2_params=p2_params)"
   ]
  },
  {
   "cell_type": "markdown",
   "metadata": {},
   "source": [
    "from run_games import run_game, AIParams\n",
    "\n",
    "p1_params = AIParams(ai_key='alphabeta', eval_key='evaluate_breakthrough_lorenz', max_player=1,\n",
    "                     ai_params={\"max_time\": 10, \"debug\": True, \"use_tt\": False, \"use_null_moves\":True, \"use_quiescence\":True})\n",
    "p2_params = AIParams(ai_key='alphabeta', eval_key='evaluate_breakthrough_lorenz', max_player=2,\n",
    "                     ai_params={\"max_time\": 10, \"debug\": True, \"use_null_moves\":False})\n",
    "\n",
    "run_game(game_key='breakthrough', game_params={}, p1_params=p1_params, p2_params=p2_params)"
   ]
  },
  {
   "cell_type": "markdown",
   "metadata": {},
   "source": [
    "from run_games import run_game, AIParams\n",
    "\n",
    "p1_params = AIParams(ai_key='alphabeta', eval_key='evaluate_kalah_enhanced', max_player=1,\n",
    "                     ai_params={\"max_time\": 10, \"debug\": True, \"use_tt\": False, \"use_quiescence\": True})\n",
    "p2_params = AIParams(ai_key='alphabeta', eval_key='evaluate_kalah_enhanced', max_player=2,\n",
    "                     ai_params={\"max_time\": 10, \"debug\": True})\n",
    "``\n",
    "run_game(game_key='kalah', game_params={}, p1_params=p1_params, p2_params=p2_params)\n"
   ]
  },
  {
   "cell_type": "markdown",
   "metadata": {},
   "source": [
    "from run_games import run_game, AIParams\n",
    "\n",
    "p1_params = AIParams(ai_key='alphabeta', eval_key='evaluate_amazons', max_player=1,\n",
    "                     ai_params={\"max_time\": 10, \"debug\": True, \"use_tt\": False})\n",
    "p2_params = AIParams(ai_key='alphabeta', eval_key='evaluate_amazons',max_player=2,\n",
    "                     ai_params={\"max_time\": 10, \"debug\": True})\n",
    "\n",
    "run_game(game_key='amazons', game_params={\"board_size\": 8}, p1_params=p1_params, p2_params=p2_params)"
   ]
  },
  {
   "cell_type": "markdown",
   "metadata": {},
   "source": [
    "from run_games import run_game, AIParams\n",
    "\n",
    "p1_params = AIParams(ai_key='alphabeta', eval_key='evaluate_blokus', max_player=1,\n",
    "                     ai_params={\"max_time\": 15, \"debug\": True, \"use_null_moves\": True})\n",
    "p2_params = AIParams(ai_key='alphabeta', eval_key='evaluate_blokus',max_player=2,\n",
    "                     ai_params={\"max_time\": 15, \"debug\": True})\n",
    "\n",
    "run_game(game_key='blokus', game_params={}, p1_params=p1_params, p2_params=p2_params)"
   ]
  }
 ],
 "metadata": {
  "kernelspec": {
   "display_name": "Python 3",
   "language": "python",
   "name": "python3"
  },
  "language_info": {
   "codemirror_mode": {
    "name": "ipython",
    "version": 3
   },
   "file_extension": ".py",
   "mimetype": "text/x-python",
   "name": "python",
   "nbconvert_exporter": "python",
   "pygments_lexer": "ipython3",
   "version": "3.11.3"
  },
  "orig_nbformat": 4
 },
 "nbformat": 4,
 "nbformat_minor": 2
}
