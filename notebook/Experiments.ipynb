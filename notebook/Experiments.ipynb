{
 "cells": [
  {
   "cell_type": "code",
   "execution_count": 1,
   "metadata": {},
   "outputs": [],
   "source": [
    "from experiments import *\n",
    "import gspread\n",
    "import numpy as np\n",
    "import pandas as pd\n",
    "from oauth2client.service_account import ServiceAccountCredentials\n",
    "\n",
    "# Use credentials to create a client to interact with the Google Drive API\n",
    "scopes = [\"https://www.googleapis.com/auth/spreadsheets\", \"https://www.googleapis.com/auth/drive\"]\n",
    "creds = ServiceAccountCredentials.from_json_keyfile_name(\"client_secret.json\", scopes)\n",
    "client = gspread.authorize(creds)\n",
    "\n",
    "# Read the config file\n",
    "config = read_config()\n",
    "sheet_id = config.get(\"Sheets\", \"ExperimentListID\")\n",
    "\n",
    "# Open the Google Sheets document\n",
    "# The ID of a Google Sheets document is contained in the URL.\n",
    "# For example, for a URL like this: https://docs.google.com/spreadsheets/d/1qPY_your_unique_id/edit#gid=0, the ID is 1qPY_your_unique_id.\n",
    "sheet = client.open_by_key(sheet_id).worksheet(\"experiments\")\n",
    "data = sheet.get_all_records()\n",
    "df = pd.DataFrame(data)"
   ]
  }
 ],
 "metadata": {
  "kernelspec": {
   "display_name": ".venv",
   "language": "python",
   "name": "python3"
  },
  "language_info": {
   "codemirror_mode": {
    "name": "ipython",
    "version": 3
   },
   "file_extension": ".py",
   "mimetype": "text/x-python",
   "name": "python",
   "nbconvert_exporter": "python",
   "pygments_lexer": "ipython3",
   "version": "3.11.3"
  },
  "orig_nbformat": 4
 },
 "nbformat": 4,
 "nbformat_minor": 2
}
