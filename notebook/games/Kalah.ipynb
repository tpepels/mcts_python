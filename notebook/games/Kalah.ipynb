{
 "cells": [
  {
   "cell_type": "code",
   "execution_count": 1,
   "metadata": {},
   "outputs": [
    {
     "name": "stdout",
     "output_type": "stream",
     "text": [
      "-*--*--*--*--*--*--*--*-\n",
      "Player 1's store:  6\n",
      " 1 (5)  2 (4)  2 (3)  0 (2)  0 (1)  6 (0)\n",
      " 1 (7)  9 (8)  6 (9)  0 (10)  7 (11)  7 (12)\n",
      "Player 2's store:  1\n",
      "hash: 10636511942959673719\n",
      "-*--*--*--*--*--*--*--*-\n",
      "Player: 2 | 5 actions: [7, 8, 9, 11, 12]\n",
      "Reward: 0/0 | Terminal?: False\n",
      "-*--*--*--*--*--*--*--*-\n",
      "Simple Eval P1: 5.1 P2: -5\n",
      "Enhanced Eval P1: -0.5262900314537109 P2: 0.5716699660851172\n",
      "-*--*--*--*--*--*--*--*-\n",
      "7 is capture? False\n",
      "8 is capture? False\n",
      "9 is capture? False\n",
      "11 is capture? False\n",
      "12 is capture? False\n"
     ]
    }
   ],
   "source": [
    "from games.kalah import *\n",
    "import random\n",
    "\n",
    "state = KalahGameState()\n",
    "for n in range(10):  # Do random actions on the board\n",
    "    if state.is_terminal():\n",
    "        break\n",
    "    \n",
    "    actions = state.get_legal_actions()\n",
    "    action = random.choice(actions)\n",
    "    state = state.apply_action(action)\n",
    "\n",
    "actions = state.get_legal_actions()\n",
    "print(\"-*-\"*8)\n",
    "print(state.visualize())\n",
    "print(\"-*-\"*8)\n",
    "print(f\"Player: {state.player} | {len(actions)} actions: {actions}\")\n",
    "print(f\"Reward: {state.get_reward(1)}/{state.get_reward(2)} | Terminal?: {state.is_terminal()}\")\n",
    "# ------------------ Evaluation ----------------------\n",
    "print(\"-*-\"*8)\n",
    "simple_eval_1 = evaluate_kalah_simple(state, 1)\n",
    "simple_eval_2 = evaluate_kalah_simple(state, 2)\n",
    "print(f\"Simple Eval P1: {simple_eval_1} P2: {simple_eval_2}\")\n",
    "# --------------- Simple Evaluation -------------------\n",
    "enhanced_eval_1 = evaluate_kalah_enhanced(state, 1)\n",
    "enhanced_eval_2 = evaluate_kalah_enhanced(state, 2)\n",
    "print(f\"Enhanced Eval P1: {enhanced_eval_1} P2: {enhanced_eval_2}\")\n",
    "print(\"-*-\"*8)\n",
    "\n",
    "for action in actions:\n",
    "    print(f\"{action} is capture? {is_capture(state.board, action, state.player)}\")"
   ]
  },
  {
   "cell_type": "code",
   "execution_count": 33,
   "metadata": {},
   "outputs": [
    {
     "name": "stdout",
     "output_type": "stream",
     "text": [
      "2\n",
      "Player 1's store: 30\n",
      " 0 (5)  3 (4)  1 (3)  0 (2)  0 (1)  0 (0)\n",
      " 1 (7)  0 (8)  0 (9)  2 (10)  0 (11)  1 (12)\n",
      "Player 2's store: 10\n",
      "hash: 4099517540097661285\n"
     ]
    }
   ],
   "source": [
    "# state = AmazonsGameState(board_size=8)\n",
    "\n",
    "rand_action = state.get_random_action()\n",
    "print(rand_action)\n",
    "state = state.apply_action(rand_action)\n",
    "print(state.visualize())"
   ]
  }
 ],
 "metadata": {
  "kernelspec": {
   "display_name": "Python 3",
   "language": "python",
   "name": "python3"
  },
  "language_info": {
   "codemirror_mode": {
    "name": "ipython",
    "version": 3
   },
   "file_extension": ".py",
   "mimetype": "text/x-python",
   "name": "python",
   "nbconvert_exporter": "python",
   "pygments_lexer": "ipython3",
   "version": "3.11.3"
  },
  "orig_nbformat": 4
 },
 "nbformat": 4,
 "nbformat_minor": 2
}
