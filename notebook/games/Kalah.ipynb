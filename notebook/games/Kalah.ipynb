{
 "cells": [
  {
   "cell_type": "code",
   "execution_count": 8,
   "metadata": {},
   "outputs": [
    {
     "name": "stdout",
     "output_type": "stream",
     "text": [
      "-*--*--*--*--*--*--*--*-\n",
      "Player 1's store:  3\n",
      " 8 (5)  1 (4)  0 (3)  1 (2)  2 (1)  6 (0)\n",
      " 2 (7)  0 (8)  3 (9) 10 (10)  8 (11)  1 (12)\n",
      "Player 2's store:  3\n",
      "hash: 6480560829381527038\n",
      "-*--*--*--*--*--*--*--*-\n",
      "Player: 1 | 5 actions: [0, 1, 2, 4, 5]\n",
      "Reward: 0/0 | Terminal?: False\n",
      "-*--*--*--*--*--*--*--*-\n",
      "Simple Eval P1: 0 P2: 0.2999999999999998\n",
      "Enhanced Eval P1: -0.2913126124515909 P2: 0.26362483547220333\n",
      "-*--*--*--*--*--*--*--*-\n",
      "0 is capture? False\n",
      "1 is capture? True\n",
      "2 is capture? True\n",
      "4 is capture? False\n",
      "5 is capture? False\n"
     ]
    }
   ],
   "source": [
    "from games.kalah import *\n",
    "import random\n",
    "\n",
    "state = KalahGameState()\n",
    "for n in range(10):  # Do random actions on the board\n",
    "    if state.is_terminal():\n",
    "        break\n",
    "    \n",
    "    actions = state.get_legal_actions()\n",
    "    action = random.choice(actions)\n",
    "    state = state.apply_action(action)\n",
    "\n",
    "actions = state.get_legal_actions()\n",
    "print(\"-*-\"*8)\n",
    "print(state.visualize())\n",
    "print(\"-*-\"*8)\n",
    "print(f\"Player: {state.player} | {len(actions)} actions: {actions}\")\n",
    "print(f\"Reward: {state.get_reward(1)}/{state.get_reward(2)} | Terminal?: {state.is_terminal()}\")\n",
    "# ------------------ Evaluation ----------------------\n",
    "print(\"-*-\"*8)\n",
    "simple_eval_1 = evaluate_kalah_simple(state, 1)\n",
    "simple_eval_2 = evaluate_kalah_simple(state, 2)\n",
    "print(f\"Simple Eval P1: {simple_eval_1} P2: {simple_eval_2}\")\n",
    "# --------------- Simple Evaluation -------------------\n",
    "enhanced_eval_1 = evaluate_kalah_enhanced(state, 1)\n",
    "enhanced_eval_2 = evaluate_kalah_enhanced(state, 2)\n",
    "print(f\"Enhanced Eval P1: {enhanced_eval_1} P2: {enhanced_eval_2}\")\n",
    "print(\"-*-\"*8)\n",
    "\n",
    "for action in actions:\n",
    "    print(f\"{action} is capture? {is_capture(state.board, action, state.player)}\")"
   ]
  }
 ],
 "metadata": {
  "kernelspec": {
   "display_name": "Python 3",
   "language": "python",
   "name": "python3"
  },
  "language_info": {
   "codemirror_mode": {
    "name": "ipython",
    "version": 3
   },
   "file_extension": ".py",
   "mimetype": "text/x-python",
   "name": "python",
   "nbconvert_exporter": "python",
   "pygments_lexer": "ipython3",
   "version": "3.11.3"
  },
  "orig_nbformat": 4
 },
 "nbformat": 4,
 "nbformat_minor": 2
}
