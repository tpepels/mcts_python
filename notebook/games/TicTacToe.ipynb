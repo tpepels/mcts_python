{
 "cells": [
  {
   "cell_type": "code",
   "execution_count": null,
   "metadata": {},
   "outputs": [],
   "source": [
    "from games.tictactoe import *\n",
    "import random\n",
    "\n",
    "state = TicTacToeGameState(board_size=9)\n",
    "for n in range(11):  # Do some random actions on the board\n",
    "    if state.is_terminal():\n",
    "        break\n",
    "    actions = state.get_legal_actions()\n",
    "    state = state.apply_action(*random.sample(actions, 1))\n",
    "    \n",
    "moves = state.get_legal_actions()\n",
    "\n",
    "print(f\"Player: {state.player}\")\n",
    "print(f\"Reward: ({state.get_reward(1)}/{state.get_reward(2)}), Terminal: {state.is_terminal()}\")\n",
    "print(state.visualize())\n",
    "print(f\"{len(moves)} actions: {state.get_legal_actions()}\")\n",
    "\n",
    "print(f\"Ev P1: {evaluate_tictactoe(state, 1)}\")\n",
    "print(f\"Ev P2: {evaluate_tictactoe(state, 2)}\")"
   ]
  },
  {
   "cell_type": "code",
   "execution_count": null,
   "metadata": {},
   "outputs": [],
   "source": [
    "from games.tictactoe import *\n",
    "import random\n",
    "\n",
    "state = TicTacToeGameState(board_size=9, row_length=5)\n",
    "for n in range(60):  # Do some random actions on the board\n",
    "    if state.is_terminal():\n",
    "        break\n",
    "    actions = state.get_legal_actions()\n",
    "    state = state.apply_action(*random.sample(actions, 1))\n",
    "    \n",
    "moves = state.get_legal_actions()\n",
    "\n",
    "print(f\"Player: {state.player} {n} moves made\")\n",
    "print(f\"Reward: ({state.get_reward(1)}/{state.get_reward(2)}), Terminal: {state.is_terminal()}\")\n",
    "print(state.visualize())\n",
    "print(f\"{len(moves)} last_move: {state.last_move} actions: {state.get_legal_actions()}\")\n",
    "\n",
    "print(f\"Ev P1: {evaluate_n_in_a_row(state, 1)}\")\n",
    "print(f\"Ev P2: {evaluate_n_in_a_row(state, 2)}\")"
   ]
  },
  {
   "cell_type": "code",
   "execution_count": null,
   "metadata": {},
   "outputs": [],
   "source": [
    "from games.tictactoe import *\n",
    "import random\n",
    "\n",
    "state = TicTacToeGameState(board_size=9, row_length=5)\n"
   ]
  },
  {
   "cell_type": "code",
   "execution_count": null,
   "metadata": {},
   "outputs": [],
   "source": [
    "actions = state.get_legal_actions()\n",
    "state = state.apply_action(*random.sample(actions, 1))\n",
    "    \n",
    "moves = state.get_legal_actions()\n",
    "\n",
    "print(f\"Player: {state.player} | {state.n_turns} moves made\")\n",
    "print(f\"Reward: ({state.get_reward(1)}/{state.get_reward(2)}), Terminal: {state.is_terminal()}\")\n",
    "print(state.visualize())\n",
    "print(f\"{len(moves)} last_move: {state.last_move} actions: {state.get_legal_actions()}\")\n",
    "\n",
    "print(f\"Ev P1: {evaluate_n_in_a_row(state, 1)}\")\n",
    "print(f\"Ev P2: {evaluate_n_in_a_row(state, 2)}\")"
   ]
  },
  {
   "cell_type": "code",
   "execution_count": 1,
   "metadata": {},
   "outputs": [
    {
     "name": "stdout",
     "output_type": "stream",
     "text": [
      "generating masks for p1\n",
      "generating masks for p2\n"
     ]
    },
    {
     "data": {
      "text/plain": [
       "{1: {'011110': 100.0,\n",
       "  '11110': 42.24,\n",
       "  '11101': 42.24,\n",
       "  '11011': 42.24,\n",
       "  '10111': 42.24,\n",
       "  '01111': 42.24,\n",
       "  '11100': 12.959999999999999,\n",
       "  '01110': 12.959999999999999,\n",
       "  '00111': 12.959999999999999,\n",
       "  '11010': 11.68,\n",
       "  '11001': 11.68,\n",
       "  '10110': 11.68,\n",
       "  '10011': 11.68,\n",
       "  '01101': 11.68,\n",
       "  '01011': 11.68,\n",
       "  '10101': 10.4},\n",
       " 2: {'022220': 100.0,\n",
       "  '22220': 42.24,\n",
       "  '22202': 42.24,\n",
       "  '22022': 42.24,\n",
       "  '20222': 42.24,\n",
       "  '02222': 42.24,\n",
       "  '22200': 12.959999999999999,\n",
       "  '02220': 12.959999999999999,\n",
       "  '00222': 12.959999999999999,\n",
       "  '22020': 11.68,\n",
       "  '22002': 11.68,\n",
       "  '20220': 11.68,\n",
       "  '20022': 11.68,\n",
       "  '02202': 11.68,\n",
       "  '02022': 11.68,\n",
       "  '20202': 10.4}}"
      ]
     },
     "execution_count": 1,
     "metadata": {},
     "output_type": "execute_result"
    }
   ],
   "source": [
    "from games.tictactoe import *\n",
    "import random\n",
    "\n",
    "state = TicTacToeGameState(board_size=9, row_length=5)\n",
    "evaluate_n_in_a_row(state, 1)\n",
    "evaluate_n_in_a_row.player_masks"
   ]
  },
  {
   "cell_type": "code",
   "execution_count": 16,
   "metadata": {},
   "outputs": [
    {
     "data": {
      "text/plain": [
       "(1,)"
      ]
     },
     "execution_count": 16,
     "metadata": {},
     "output_type": "execute_result"
    }
   ],
   "source": [
    "calculate_weights(1, 0.9, scale=100)"
   ]
  },
  {
   "cell_type": "markdown",
   "metadata": {},
   "source": []
  },
  {
   "cell_type": "code",
   "execution_count": null,
   "metadata": {},
   "outputs": [],
   "source": [
    "a= [1, 2, 3 , 4, 6]\n",
    "a[1:2][0]"
   ]
  },
  {
   "cell_type": "code",
   "execution_count": null,
   "metadata": {},
   "outputs": [],
   "source": [
    "for n in range(10000):\n",
    "    evaluate_n_in_a_row(state, 1)"
   ]
  },
  {
   "cell_type": "code",
   "execution_count": null,
   "metadata": {},
   "outputs": [],
   "source": [
    "for n in range(10000):\n",
    "    evaluate_n_in_a_row_opt(state, 1)"
   ]
  }
 ],
 "metadata": {
  "kernelspec": {
   "display_name": "Python 3",
   "language": "python",
   "name": "python3"
  },
  "language_info": {
   "codemirror_mode": {
    "name": "ipython",
    "version": 3
   },
   "file_extension": ".py",
   "mimetype": "text/x-python",
   "name": "python",
   "nbconvert_exporter": "python",
   "pygments_lexer": "ipython3",
   "version": "3.11.3"
  },
  "orig_nbformat": 4
 },
 "nbformat": 4,
 "nbformat_minor": 2
}
