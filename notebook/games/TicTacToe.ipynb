{
 "cells": [
  {
   "cell_type": "code",
   "execution_count": null,
   "metadata": {},
   "outputs": [],
   "source": [
    "from games.tictactoe import *\n",
    "import random\n",
    "\n",
    "state = TicTacToeGameState(board_size=9)\n",
    "for n in range(11):  # Do some random actions on the board\n",
    "    if state.is_terminal():\n",
    "        break\n",
    "    actions = state.get_legal_actions()\n",
    "    state = state.apply_action(*random.sample(actions, 1))\n",
    "    \n",
    "moves = state.get_legal_actions()\n",
    "\n",
    "print(f\"Player: {state.player}\")\n",
    "print(f\"Reward: ({state.get_reward(1)}/{state.get_reward(2)}), Terminal: {state.is_terminal()}\")\n",
    "print(state.visualize())\n",
    "print(f\"{len(moves)} actions: {state.get_legal_actions()}\")\n",
    "\n",
    "print(f\"Ev P1: {evaluate_tictactoe(state, 1)}\")\n",
    "print(f\"Ev P2: {evaluate_tictactoe(state, 2)}\")"
   ]
  },
  {
   "cell_type": "code",
   "execution_count": null,
   "metadata": {},
   "outputs": [],
   "source": [
    "from games.tictactoe import *\n",
    "import random\n",
    "\n",
    "state = TicTacToeGameState(board_size=9, row_length=5)\n",
    "for n in range(60):  # Do some random actions on the board\n",
    "    if state.is_terminal():\n",
    "        break\n",
    "    actions = state.get_legal_actions()\n",
    "    state = state.apply_action(*random.sample(actions, 1))\n",
    "    \n",
    "moves = state.get_legal_actions()\n",
    "\n",
    "print(f\"Player: {state.player} {n} moves made\")\n",
    "print(f\"Reward: ({state.get_reward(1)}/{state.get_reward(2)}), Terminal: {state.is_terminal()}\")\n",
    "print(state.visualize())\n",
    "print(f\"{len(moves)} last_move: {state.last_move} actions: {state.get_legal_actions()}\")\n",
    "\n",
    "print(f\"Ev P1: {evaluate_n_in_a_row(state, 1)}\")\n",
    "print(f\"Ev P2: {evaluate_n_in_a_row(state, 2)}\")"
   ]
  },
  {
   "cell_type": "code",
   "execution_count": 1,
   "metadata": {},
   "outputs": [
    {
     "name": "stdout",
     "output_type": "stream",
     "text": [
      "generating masks for p1\n"
     ]
    },
    {
     "data": {
      "text/plain": [
       "{'11111': 1024,\n",
       " '11110': 81,\n",
       " '01111': 81,\n",
       " '11101': 16,\n",
       " '11011': 16,\n",
       " '10111': 16,\n",
       " '11100': 8,\n",
       " '01110': 8,\n",
       " '00111': 8,\n",
       " '11010': 1,\n",
       " '11001': 1,\n",
       " '10110': 1,\n",
       " '10011': 1,\n",
       " '01101': 1,\n",
       " '01011': 1,\n",
       " '10101': 0}"
      ]
     },
     "execution_count": 1,
     "metadata": {},
     "output_type": "execute_result"
    }
   ],
   "source": [
    "from games.tictactoe import *\n",
    "# TODO Hier was je gebleven\n",
    "masks_to_dict(generate_masks(5, 1))"
   ]
  },
  {
   "cell_type": "code",
   "execution_count": null,
   "metadata": {},
   "outputs": [],
   "source": [
    "evaluate_n_in_a_row.player2_masks"
   ]
  },
  {
   "cell_type": "code",
   "execution_count": null,
   "metadata": {},
   "outputs": [],
   "source": [
    "a= [1, 2, 3 , 4, 6]\n",
    "a[1:2][0]"
   ]
  },
  {
   "cell_type": "code",
   "execution_count": null,
   "metadata": {},
   "outputs": [],
   "source": []
  }
 ],
 "metadata": {
  "kernelspec": {
   "display_name": "Python 3",
   "language": "python",
   "name": "python3"
  },
  "language_info": {
   "codemirror_mode": {
    "name": "ipython",
    "version": 3
   },
   "file_extension": ".py",
   "mimetype": "text/x-python",
   "name": "python",
   "nbconvert_exporter": "python",
   "pygments_lexer": "ipython3",
   "version": "3.11.3"
  },
  "orig_nbformat": 4
 },
 "nbformat": 4,
 "nbformat_minor": 2
}
