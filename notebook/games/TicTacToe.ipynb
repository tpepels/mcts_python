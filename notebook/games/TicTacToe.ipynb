{
 "cells": [
  {
   "cell_type": "code",
   "execution_count": 10,
   "metadata": {},
   "outputs": [
    {
     "name": "stdout",
     "output_type": "stream",
     "text": [
      "Player: 2\n",
      "Reward: (0/0), Terminal: True\n",
      "    0   1   2   3   4   5   6   7   8\n",
      "    ------------------------------------\n",
      "0   O | O | X | O | O | X | X | O | O\n",
      "    ------------------------------------\n",
      "1   O | X | X | X | O | X | X | X | X\n",
      "    ------------------------------------\n",
      "2   O | O | X | O | X | X | O | X | O\n",
      "    ------------------------------------\n",
      "3   O | O | O | O | X | O | O | X | O\n",
      "    ------------------------------------\n",
      "4   X | O | O | O | X | X | X | O | O\n",
      "    ------------------------------------\n",
      "5   X | O | X | X | X | O | O | X | X\n",
      "    ------------------------------------\n",
      "6   O | O | O | O | X | O | X | X | X\n",
      "    ------------------------------------\n",
      "7   O | X | X | O | X | X | O | X | X\n",
      "    ------------------------------------\n",
      "8   O | X | X | X | X | O | X | O | O\n",
      "hash: 5271419592397917636\n",
      "0 actions: []\n",
      "Ev P1: 0.0\n",
      "Ev P2: 0.0\n"
     ]
    }
   ],
   "source": [
    "from games.tictactoe import *\n",
    "import random\n",
    "\n",
    "state = TicTacToeGameState(board_size=9)\n",
    "for n in range(100):  # Do some random actions on the board\n",
    "    if state.is_terminal():\n",
    "        break\n",
    "    actions = state.get_legal_actions()\n",
    "    state = state.apply_action(*random.sample(actions, 1))\n",
    "    \n",
    "moves = state.get_legal_actions()\n",
    "\n",
    "print(f\"Player: {state.player}\")\n",
    "print(f\"Reward: ({state.get_reward(1)}/{state.get_reward(2)}), Terminal: {state.is_terminal()}\")\n",
    "print(state.visualize())\n",
    "print(f\"{len(moves)} actions: {state.get_legal_actions()}\")\n",
    "\n",
    "print(f\"Ev P1: {evaluate_tictactoe(state, 1)}\")\n",
    "print(f\"Ev P2: {evaluate_tictactoe(state, 2)}\")"
   ]
  },
  {
   "cell_type": "code",
   "execution_count": null,
   "metadata": {},
   "outputs": [],
   "source": [
    "from games.tictactoe import *\n",
    "import random\n",
    "\n",
    "state = TicTacToeGameState(board_size=9, row_length=5)\n",
    "for n in range(60):  # Do some random actions on the board\n",
    "    if state.is_terminal():\n",
    "        break\n",
    "    actions = state.get_legal_actions()\n",
    "    state = state.apply_action(*random.sample(actions, 1))\n",
    "    \n",
    "moves = state.get_legal_actions()\n",
    "\n",
    "print(f\"Player: {state.player} {n} moves made\")\n",
    "print(f\"Reward: ({state.get_reward(1)}/{state.get_reward(2)}), Terminal: {state.is_terminal()}\")\n",
    "print(state.visualize())\n",
    "print(f\"{len(moves)} last_move: {state.last_move} actions: {state.get_legal_actions()}\")\n",
    "\n",
    "print(f\"Ev P1: {evaluate_n_in_a_row(state, 1)}\")\n",
    "print(f\"Ev P2: {evaluate_n_in_a_row(state, 2)}\")"
   ]
  },
  {
   "cell_type": "code",
   "execution_count": null,
   "metadata": {},
   "outputs": [],
   "source": [
    "from games.tictactoe import *\n",
    "import random\n",
    "\n",
    "state = TicTacToeGameState(board_size=9, row_length=5)\n"
   ]
  },
  {
   "cell_type": "code",
   "execution_count": null,
   "metadata": {},
   "outputs": [],
   "source": [
    "actions = state.get_legal_actions()\n",
    "state = state.apply_action(*random.sample(actions, 1))\n",
    "    \n",
    "moves = state.get_legal_actions()\n",
    "\n",
    "print(f\"Player: {state.player} | {state.n_turns} moves made\")\n",
    "print(f\"Reward: ({state.get_reward(1)}/{state.get_reward(2)}), Terminal: {state.is_terminal()}\")\n",
    "print(state.visualize())\n",
    "print(f\"{len(moves)} last_move: {state.last_move} actions: {state.get_legal_actions()}\")\n",
    "\n",
    "print(f\"Ev P1: {evaluate_n_in_a_row(state, 1)}\")\n",
    "print(f\"Ev P2: {evaluate_n_in_a_row(state, 2)}\")"
   ]
  },
  {
   "cell_type": "code",
   "execution_count": null,
   "metadata": {},
   "outputs": [],
   "source": [
    "from games.tictactoe import *\n",
    "import random\n",
    "\n",
    "state = TicTacToeGameState(board_size=9, row_length=5)\n",
    "evaluate_n_in_a_row(state, 1)\n",
    "evaluate_n_in_a_row.player_masks"
   ]
  },
  {
   "cell_type": "code",
   "execution_count": null,
   "metadata": {},
   "outputs": [],
   "source": [
    "calculate_weights(1, 0.9, scale=100)"
   ]
  },
  {
   "cell_type": "markdown",
   "metadata": {},
   "source": []
  },
  {
   "cell_type": "code",
   "execution_count": null,
   "metadata": {},
   "outputs": [],
   "source": [
    "a= [1, 2, 3 , 4, 6]\n",
    "a[1:2][0]"
   ]
  },
  {
   "cell_type": "code",
   "execution_count": null,
   "metadata": {},
   "outputs": [],
   "source": [
    "for n in range(10000):\n",
    "    evaluate_n_in_a_row(state, 1)"
   ]
  },
  {
   "cell_type": "code",
   "execution_count": null,
   "metadata": {},
   "outputs": [],
   "source": [
    "for n in range(10000):\n",
    "    evaluate_n_in_a_row_opt(state, 1)"
   ]
  }
 ],
 "metadata": {
  "kernelspec": {
   "display_name": "Python 3",
   "language": "python",
   "name": "python3"
  },
  "language_info": {
   "codemirror_mode": {
    "name": "ipython",
    "version": 3
   },
   "file_extension": ".py",
   "mimetype": "text/x-python",
   "name": "python",
   "nbconvert_exporter": "python",
   "pygments_lexer": "ipython3",
   "version": "3.11.3"
  },
  "orig_nbformat": 4
 },
 "nbformat": 4,
 "nbformat_minor": 2
}
