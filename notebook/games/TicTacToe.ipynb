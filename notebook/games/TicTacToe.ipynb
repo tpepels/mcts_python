{
 "cells": [
  {
   "cell_type": "code",
   "execution_count": 1,
   "metadata": {},
   "outputs": [
    {
     "name": "stdout",
     "output_type": "stream",
     "text": [
      "Player: 2\n",
      "Reward: (0/0), Terminal: False\n",
      "   | X |   | X \n",
      "---------------\n",
      "   | O |   | O \n",
      "---------------\n",
      " X | X |   | O \n",
      "---------------\n",
      " X | X | O | O \n",
      "\n",
      "hash: 8905610783121755460\n",
      "5 actions: [(0, 0), (0, 2), (1, 0), (1, 2), (2, 2)]\n",
      "Ev P1: 80.0\n",
      "Ev P2: -80.0\n"
     ]
    }
   ],
   "source": [
    "from games.tictactoe import *\n",
    "import random\n",
    "\n",
    "state = TicTacToeGameState(board_size=4)\n",
    "for n in range(11):  # Do some random actions on the board\n",
    "    if state.is_terminal():\n",
    "        break\n",
    "    actions = state.get_legal_actions()\n",
    "    state = state.apply_action(*random.sample(actions, 1))\n",
    "    \n",
    "moves = state.get_legal_actions()\n",
    "\n",
    "print(f\"Player: {state.player}\")\n",
    "print(f\"Reward: ({state.get_reward(1)}/{state.get_reward(2)}), Terminal: {state.is_terminal()}\")\n",
    "print(state.visualize())\n",
    "print(f\"{len(moves)} actions: {state.get_legal_actions()}\")\n",
    "\n",
    "print(f\"Ev P1: {evaluate_tictactoe(state, 1)}\")\n",
    "print(f\"Ev P2: {evaluate_tictactoe(state, 2)}\")"
   ]
  },
  {
   "cell_type": "code",
   "execution_count": 7,
   "metadata": {},
   "outputs": [
    {
     "ename": "IndexError",
     "evalue": "Cannot choose from an empty sequence",
     "output_type": "error",
     "traceback": [
      "\u001b[0;31m---------------------------------------------------------------------------\u001b[0m",
      "\u001b[0;31mIndexError\u001b[0m                                Traceback (most recent call last)",
      "Cell \u001b[0;32mIn[7], line 3\u001b[0m\n\u001b[1;32m      1\u001b[0m \u001b[39m# state = AmazonsGameState(board_size=8)\u001b[39;00m\n\u001b[0;32m----> 3\u001b[0m rand_action \u001b[39m=\u001b[39m state\u001b[39m.\u001b[39;49mget_random_action()\n\u001b[1;32m      4\u001b[0m \u001b[39mprint\u001b[39m(rand_action)\n\u001b[1;32m      5\u001b[0m state \u001b[39m=\u001b[39m state\u001b[39m.\u001b[39mapply_action(rand_action)\n",
      "File \u001b[0;32m~/github/mcts_python/games/tictactoe.py:69\u001b[0m, in \u001b[0;36mTicTacToeGameState.get_random_action\u001b[0;34m(self)\u001b[0m\n\u001b[1;32m     68\u001b[0m \u001b[39mdef\u001b[39;00m \u001b[39mget_random_action\u001b[39m(\u001b[39mself\u001b[39m):\n\u001b[0;32m---> 69\u001b[0m     \u001b[39mreturn\u001b[39;00m random\u001b[39m.\u001b[39;49mchoice(\u001b[39mself\u001b[39;49m\u001b[39m.\u001b[39;49mget_legal_actions())\n",
      "File \u001b[0;32m/Library/Frameworks/Python.framework/Versions/3.11/lib/python3.11/random.py:373\u001b[0m, in \u001b[0;36mRandom.choice\u001b[0;34m(self, seq)\u001b[0m\n\u001b[1;32m    370\u001b[0m \u001b[39m# As an accommodation for NumPy, we don't use \"if not seq\"\u001b[39;00m\n\u001b[1;32m    371\u001b[0m \u001b[39m# because bool(numpy.array()) raises a ValueError.\u001b[39;00m\n\u001b[1;32m    372\u001b[0m \u001b[39mif\u001b[39;00m \u001b[39mnot\u001b[39;00m \u001b[39mlen\u001b[39m(seq):\n\u001b[0;32m--> 373\u001b[0m     \u001b[39mraise\u001b[39;00m \u001b[39mIndexError\u001b[39;00m(\u001b[39m'\u001b[39m\u001b[39mCannot choose from an empty sequence\u001b[39m\u001b[39m'\u001b[39m)\n\u001b[1;32m    374\u001b[0m \u001b[39mreturn\u001b[39;00m seq[\u001b[39mself\u001b[39m\u001b[39m.\u001b[39m_randbelow(\u001b[39mlen\u001b[39m(seq))]\n",
      "\u001b[0;31mIndexError\u001b[0m: Cannot choose from an empty sequence"
     ]
    }
   ],
   "source": [
    "# state = AmazonsGameState(board_size=8)\n",
    "\n",
    "rand_action = state.get_random_action()\n",
    "print(rand_action)\n",
    "state = state.apply_action(rand_action)\n",
    "print(state.visualize())"
   ]
  }
 ],
 "metadata": {
  "kernelspec": {
   "display_name": "Python 3",
   "language": "python",
   "name": "python3"
  },
  "language_info": {
   "codemirror_mode": {
    "name": "ipython",
    "version": 3
   },
   "file_extension": ".py",
   "mimetype": "text/x-python",
   "name": "python",
   "nbconvert_exporter": "python",
   "pygments_lexer": "ipython3",
   "version": "3.11.3"
  },
  "orig_nbformat": 4
 },
 "nbformat": 4,
 "nbformat_minor": 2
}
