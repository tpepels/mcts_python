{
 "cells": [
  {
   "cell_type": "code",
   "execution_count": 8,
   "metadata": {},
   "outputs": [
    {
     "name": "stdout",
     "output_type": "stream",
     "text": [
      "Player: 2\n",
      "Reward: 0, Terminal: False\n",
      " O |   |   | O \n",
      "---------------\n",
      "   | X |   |   \n",
      "---------------\n",
      " X | O | X | O \n",
      "---------------\n",
      " O | X | X | X \n",
      "\n",
      "\n",
      "5 actions: [(0, 1), (0, 2), (1, 0), (1, 2), (1, 3)]\n",
      "Ev P1: -1000\n",
      "Ev P2: 1000\n",
      "Ev_v2 P1: -1000\n",
      "Ev_v2 P2: 1000\n"
     ]
    }
   ],
   "source": [
    "from games.tictactoe import *\n",
    "import random\n",
    "\n",
    "state = TicTacToeGameState(size=4)\n",
    "for n in range(11):  # Do some random actions on the board\n",
    "    if state.is_terminal():\n",
    "        break\n",
    "    actions = state.get_legal_actions()\n",
    "    state = state.apply_action(*random.sample(actions, 1))\n",
    "    \n",
    "moves = state.get_legal_actions()\n",
    "\n",
    "print(f\"Player: {state.player}\")\n",
    "print(f\"Reward: {state.get_reward()}, Terminal: {state.is_terminal()}\")\n",
    "print(visualize_tictactoe(state))\n",
    "print(f\"{len(moves)} actions: {state.get_legal_actions()}\")\n",
    "\n",
    "print(f\"Ev P1: {evaluate_tictactoe(state, 1)}\")\n",
    "print(f\"Ev P2: {evaluate_tictactoe(state, 2)}\")\n",
    "\n",
    "print(f\"Ev_v2 P1: {evaluate_tictactoe_v2(state, 1)}\")\n",
    "print(f\"Ev_v2 P2: {evaluate_tictactoe_v2(state, 2)}\")"
   ]
  }
 ],
 "metadata": {
  "kernelspec": {
   "display_name": "Python 3",
   "language": "python",
   "name": "python3"
  },
  "language_info": {
   "codemirror_mode": {
    "name": "ipython",
    "version": 3
   },
   "file_extension": ".py",
   "mimetype": "text/x-python",
   "name": "python",
   "nbconvert_exporter": "python",
   "pygments_lexer": "ipython3",
   "version": "3.9.6"
  },
  "orig_nbformat": 4
 },
 "nbformat": 4,
 "nbformat_minor": 2
}
