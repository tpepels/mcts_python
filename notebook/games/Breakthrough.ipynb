{
 "cells": [
  {
   "cell_type": "code",
   "execution_count": null,
   "metadata": {},
   "outputs": [],
   "source": [
    "from games.breakthrough import *\n",
    "import numpy as np\n",
    "import random\n",
    "\n",
    "state = BreakthroughGameState()\n",
    "for n in range(50):  # Do some random actions on the board\n",
    "    if state.is_terminal():\n",
    "        break\n",
    "    actions = state.get_legal_actions()\n",
    "    state = state.apply_action(random.choice(actions))\n",
    "    \n",
    "moves = state.get_legal_actions()\n",
    "\n",
    "print(f\"Player: {state.player}\")\n",
    "print(f\"Reward: {state.get_reward(1)}/{state.get_reward(2)}, Terminal: {state.is_terminal()}\")\n",
    "print(state.visualize())\n",
    "print(f\"{len(moves)} actions: {','.join([state.readable_move(x) for x in state.get_legal_actions()])}\")\n",
    "# ---------------------------Evaluations---------------------------------\n",
    "print(f\"Simple evaluation: {evaluate_breakthrough(state, 1, norm=False)}/{evaluate_breakthrough(state, 2, norm=False)}\")\n",
    "print(f\"Lorenz evaluation: {evaluate_breakthrough_lorenz(state, 1, norm=False)}/{evaluate_breakthrough_lorenz(state, 2, norm=False)}\")\n",
    "# ------------------------------------------------------------\n",
    "black_pieces = np.where(state.board == 2)[0]\n",
    "white_pieces = np.where(state.board == 1)[0]\n",
    "print(f\"# white pieces: {len(white_pieces)} | # black pieces: {len(black_pieces)}\\n\")\n",
    "\n",
    "# ---------------------------Endgame-------------------------------------------\n",
    "print(f\"is endgame: {np.count_nonzero(state.board) < 16}\")\n",
    "print()\n",
    "# ---------------------------Possible captures---------------------------------\n",
    "wh_caps, wh_cap_moves = count_capture_moves(state, 1)\n",
    "bl_caps, bl_cap_moves = count_capture_moves(state, 2)\n",
    "print(f\"White has {wh_caps} pieces that can capture {wh_cap_moves} black pieces.\")\n",
    "print(f\"Black has {bl_caps} pieces that can capture {bl_cap_moves} white pieces.\")\n",
    "print()\n",
    "# ---------------------------Piece safety--------------------------------------\n",
    "print(state.visualize())\n",
    "for piece in black_pieces:\n",
    "    if not is_safe(piece, 2, state.board):\n",
    "        print(f\"{state.readable_location(piece)} - black is not safe\")\n",
    "\n",
    "for piece in white_pieces:\n",
    "    if not is_safe(piece, 1, state.board):\n",
    "        print(f\"{state.readable_location(piece)} - white is not safe\")\n",
    "print()\n",
    "# ---------------------------Piece mobility---------------------------------\n",
    "print(state.visualize())\n",
    "for piece in black_pieces:\n",
    "    print(f\"{state.readable_location(piece)} - black piece mobility: {piece_mobility(piece, 2, state.board)}\")\n",
    "for piece in white_pieces:\n",
    "    print(f\"{state.readable_location(piece)} - white piece mobility: {piece_mobility(piece, 1, state.board)}\")\n"
   ]
  },
  {
   "cell_type": "code",
   "execution_count": null,
   "metadata": {},
   "outputs": [],
   "source": [
    "# state = BreakthroughGameState()\n",
    "\n",
    "rand_action = state.get_random_action()\n",
    "print(rand_action)\n",
    "state = state.apply_action(rand_action)\n",
    "print(state.visualize())"
   ]
  },
  {
   "cell_type": "code",
   "execution_count": null,
   "metadata": {},
   "outputs": [],
   "source": [
    "x_norm = (lorentz_values - np.min(lorentz_values)) / (np.max(lorentz_values) - np.min(lorentz_values))\n"
   ]
  }
 ],
 "metadata": {
  "kernelspec": {
   "display_name": "Python 3",
   "language": "python",
   "name": "python3"
  },
  "language_info": {
   "codemirror_mode": {
    "name": "ipython",
    "version": 3
   },
   "file_extension": ".py",
   "mimetype": "text/x-python",
   "name": "python",
   "nbconvert_exporter": "python",
   "pygments_lexer": "ipython3",
   "version": "3.11.3"
  },
  "orig_nbformat": 4
 },
 "nbformat": 4,
 "nbformat_minor": 2
}
