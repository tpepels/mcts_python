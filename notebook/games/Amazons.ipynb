{
 "cells": [
  {
   "cell_type": "code",
   "execution_count": 171,
   "metadata": {},
   "outputs": [
    {
     "name": "stdout",
     "output_type": "stream",
     "text": [
      "Player: 1 | Turn: 20 | Moves: 142\n",
      "Reward: 0/0, Terminal: False\n",
      "Player: 1\n",
      ". - . . . . B -\n",
      "B - - - - . . .\n",
      ". . . . . . . -\n",
      "- - . . . - . .\n",
      "B . - W B . - .\n",
      ". W - . . . - W\n",
      ". - . . - - - -\n",
      ". . . - W . . .\n",
      "hash: 935857928723650511\n",
      "w:[(5, 1), (4, 3), (7, 4), (5, 7)]\n",
      "b:[(1, 0), (4, 0), (0, 6), (4, 4)]\n",
      "n_moves: 20 legal moves left? True\n",
      "has_legal_moves: True\n",
      "---------------\n",
      "Evaluation: -0.1836734693877551 (opponent: 0.1653061224489796)\n",
      "---------------\n",
      "Lieberum Evaluation: -3.5 (opponent: 3.15)\n",
      "---------------\n",
      "White (5, 1) reachable squares: 4\n",
      "White (4, 3) reachable squares: 10\n",
      "White (7, 4) reachable squares: 4\n",
      "White (5, 7) reachable squares: 2\n",
      "Black (1, 0) reachable squares: 4\n",
      "Black (4, 0) reachable squares: 4\n",
      "Black (0, 6) reachable squares: 11\n",
      "Black (4, 4) reachable squares: 10\n",
      "\n",
      "White kill/save & imm moves: (0, -9)\n",
      "Black kill/save & imm moves: (0, 9)\n",
      "\n",
      "White mobility: 2\n",
      "Black mobility: -2\n",
      "\n",
      "White territory: -7\n",
      "Black territory: 7\n",
      "\n"
     ]
    }
   ],
   "source": [
    "from games.amazons import *\n",
    "import random\n",
    "\n",
    "state = AmazonsGameState(board_size=8)\n",
    "N_turns = 20\n",
    "turn = 0\n",
    "while not state.is_terminal() and turn < N_turns:\n",
    "    turn += 1\n",
    "    actions = state.get_legal_actions()\n",
    "    if actions:\n",
    "        action = random.choice(actions)\n",
    "        state = state.apply_action(action)\n",
    "        \n",
    "moves = state.get_legal_actions()\n",
    "\n",
    "print(f\"Player: {state.player} | Turn: {turn} | Moves: {len(moves)}\")\n",
    "print(f\"Reward: {state.get_reward(1)}/{state.get_reward(2)}, Terminal: {state.is_terminal()}\")\n",
    "print(state.visualize())\n",
    "\n",
    "white_queens = state.white_queens\n",
    "black_queens = state.black_queens\n",
    "\n",
    "# ------------------------------------------------------------\n",
    "print(\"---------------\")\n",
    "print(f\"Evaluation: {evaluate_amazons(state, state.player)} (opponent: {evaluate_amazons(state, 3 - state.player)})\")\n",
    "print(\"---------------\")\n",
    "print(f\"Lieberum Evaluation: {evaluate_amazons_lieberum(state, state.player)} (opponent: {evaluate_amazons_lieberum(state, 3 - state.player)})\")\n",
    "print(\"---------------\")\n",
    "# -------------------------Reachable Squares Test-----------------------------------\n",
    "for queen in white_queens:\n",
    "    print(f\"White {queen} reachable squares: {count_reachable_squares(state.board, *queen)}\")\n",
    "for queen in black_queens:\n",
    "    print(f\"Black {queen} reachable squares: {count_reachable_squares(state.board, *queen)}\")\n",
    "print()\n",
    "# -------------------------Kill Save Queens Test-----------------------------------\n",
    "print(f\"White kill/save & imm moves: {kill_save_queens_immediate_moves(black_queens, white_queens, state.board)}\")\n",
    "print(f\"Black kill/save & imm moves: {kill_save_queens_immediate_moves(white_queens, black_queens, state.board)}\\n\")\n",
    "# -------------------------Mobility Heuristic-----------------------------------\n",
    "print(f\"White mobility: {mobility_heuristic(black_queens, white_queens, state.board)}\")\n",
    "print(f\"Black mobility: {mobility_heuristic(white_queens, black_queens, state.board)}\\n\")\n",
    "# --------------------------territory_heuristic------------------------------------\n",
    "print(f\"White territory: {territory_heuristic(black_queens, white_queens, state.board)}\")\n",
    "print(f\"Black territory: {territory_heuristic(white_queens, black_queens, state.board)}\\n\")"
   ]
  },
  {
   "cell_type": "code",
   "execution_count": 113,
   "metadata": {},
   "outputs": [
    {
     "name": "stdout",
     "output_type": "stream",
     "text": [
      "Game is terminal\n",
      "Player: 2\n",
      "- - . - - B - -\n",
      "B - . - - - - -\n",
      "- - - . - - - W\n",
      "- B - - - - - -\n",
      "- - - - - B W -\n",
      ". - - - - - - -\n",
      ". - - W . W - -\n",
      "- - . - - - - -\n",
      "hash: 3062072321642292291\n",
      "w:[(6, 3), (4, 6), (6, 5), (2, 7)]\n",
      "b:[(0, 5), (1, 0), (4, 5), (3, 1)]\n",
      "n_moves: 49 legal moves left? False\n",
      "has_legal_moves: False\n"
     ]
    }
   ],
   "source": [
    "# state = AmazonsGameState(board_size=8)\n",
    "if not state.is_terminal():\n",
    "    rand_action = state.get_random_action()\n",
    "    print(rand_action)\n",
    "    state = state.apply_action(rand_action)\n",
    "else:\n",
    "    print(\"Game is terminal\")\n",
    "print(state.visualize())"
   ]
  },
  {
   "cell_type": "code",
   "execution_count": null,
   "metadata": {},
   "outputs": [],
   "source": []
  }
 ],
 "metadata": {
  "kernelspec": {
   "display_name": "Python 3",
   "language": "python",
   "name": "python3"
  },
  "language_info": {
   "codemirror_mode": {
    "name": "ipython",
    "version": 3
   },
   "file_extension": ".py",
   "mimetype": "text/x-python",
   "name": "python",
   "nbconvert_exporter": "python",
   "pygments_lexer": "ipython3",
   "version": "3.11.3"
  },
  "orig_nbformat": 4
 },
 "nbformat": 4,
 "nbformat_minor": 2
}
