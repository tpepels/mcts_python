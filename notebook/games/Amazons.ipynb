{
 "cells": [
  {
   "cell_type": "code",
   "execution_count": 1,
   "metadata": {},
   "outputs": [
    {
     "name": "stdout",
     "output_type": "stream",
     "text": [
      "Player: 1\n",
      "Reward: 0/0, Terminal: False\n",
      "Player: 1\n",
      ". - B - . - . .\n",
      "- B - . - . W .\n",
      ". . . - . . . B\n",
      "W . - . - . - -\n",
      "- - . . B - . .\n",
      "W - - . . W . -\n",
      ". . . . . - . .\n",
      ". . . - . . - .\n",
      "hash: 14196331467314411196\n",
      "w:[(5, 0), (5, 5), (3, 0), (1, 6)]\n",
      "b:[(0, 2), (2, 7), (4, 4), (1, 1)]\n",
      "n_moves: 20 legal moves left? True\n",
      "has_legal_moves: True\n",
      "<class 'numpy.ndarray'>\n",
      "---------------\n",
      "Evaluation: -0.16514041292462933 (opponent: 0.14888503362331795)\n",
      "---------------\n",
      "Lieberum Evaluation: -0.04995837495787997 (opponent: 0.044969649583600245)\n",
      "---------------\n",
      "White (5, 0) reachable squares: 4\n",
      "White (5, 5) reachable squares: 7\n",
      "White (3, 0) reachable squares: 3\n",
      "White (1, 6) reachable squares: 6\n",
      "Black (0, 2) reachable squares: 4\n",
      "Black (2, 7) reachable squares: 5\n",
      "Black (4, 4) reachable squares: 13\n",
      "Black (1, 1) reachable squares: 6\n",
      "\n",
      "White kill/save & imm moves: (0, -8)\n",
      "Black kill/save & imm moves: (0, 8)\n",
      "\n",
      "White mobility: -1\n",
      "Black mobility: 1\n",
      "\n",
      "White territory: -1\n",
      "Black territory: 1\n",
      "\n"
     ]
    }
   ],
   "source": [
    "from games.amazons import *\n",
    "import random\n",
    "\n",
    "state = AmazonsGameState(board_size=8)\n",
    "N_turns = 20\n",
    "turn = 0\n",
    "while not state.is_terminal() and turn < N_turns:\n",
    "    turn += 1\n",
    "    actions = state.get_legal_actions()\n",
    "    if actions:\n",
    "        action = random.choice(actions)\n",
    "        state = state.apply_action(action)\n",
    "        \n",
    "moves = state.get_legal_actions()\n",
    "\n",
    "print(f\"Player: {state.player}\")\n",
    "print(f\"Reward: {state.get_reward(1)}/{state.get_reward(2)}, Terminal: {state.is_terminal()}\")\n",
    "print(state.visualize())\n",
    "\n",
    "white_queens = state.white_queens\n",
    "black_queens = state.black_queens\n",
    "print(type(state.board))\n",
    "# ------------------------------------------------------------\n",
    "print(\"---------------\")\n",
    "print(f\"Evaluation: {evaluate_amazons(state, state.player)} (opponent: {evaluate_amazons(state, 3 - state.player)})\")\n",
    "print(\"---------------\")\n",
    "print(f\"Lieberum Evaluation: {evaluate_amazons_lieberum(state, state.player)} (opponent: {evaluate_amazons_lieberum(state, 3 - state.player)})\")\n",
    "print(\"---------------\")\n",
    "# -------------------------Reachable Squares Test-----------------------------------\n",
    "for queen in white_queens:\n",
    "    print(f\"White {queen} reachable squares: {count_reachable_squares(state.board, *queen)}\")\n",
    "for queen in black_queens:\n",
    "    print(f\"Black {queen} reachable squares: {count_reachable_squares(state.board, *queen)}\")\n",
    "print()\n",
    "# -------------------------Kill Save Queens Test-----------------------------------\n",
    "print(f\"White kill/save & imm moves: {kill_save_queens_immediate_moves(black_queens, white_queens, state.board)}\")\n",
    "print(f\"Black kill/save & imm moves: {kill_save_queens_immediate_moves(white_queens, black_queens, state.board)}\\n\")\n",
    "# -------------------------Mobility Heuristic-----------------------------------\n",
    "print(f\"White mobility: {mobility_heuristic(black_queens, white_queens, state.board)}\")\n",
    "print(f\"Black mobility: {mobility_heuristic(white_queens, black_queens, state.board)}\\n\")\n",
    "# --------------------------territory_heuristic------------------------------------\n",
    "print(f\"White territory: {territory_heuristic(black_queens, white_queens, state.board)}\")\n",
    "print(f\"Black territory: {territory_heuristic(white_queens, black_queens, state.board)}\\n\")"
   ]
  },
  {
   "cell_type": "code",
   "execution_count": 86,
   "metadata": {},
   "outputs": [
    {
     "name": "stdout",
     "output_type": "stream",
     "text": [
      "(6, 0, 3, 3, 4, 3)\n",
      "Player: 2\n",
      ". - - - . . . .\n",
      "- . B . - - . .\n",
      ". . - . . . . B\n",
      ". . . W . - B -\n",
      ". . . - . . - -\n",
      "- . . - - W . B\n",
      ". . . . - - - W\n",
      "- . - . . W . -\n",
      "hash: 3416590683711015443\n",
      "w:[(3, 3), (7, 5), (5, 5), (6, 7)]\n",
      "b:[(2, 7), (3, 6), (1, 2), (5, 7)]\n",
      "n_moves: 21 legal moves left? True\n",
      "has_legal_moves: True\n"
     ]
    }
   ],
   "source": [
    "# state = AmazonsGameState(board_size=8)\n",
    "\n",
    "rand_action = state.get_random_action()\n",
    "print(rand_action)\n",
    "state = state.apply_action(rand_action)\n",
    "print(state.visualize())"
   ]
  },
  {
   "cell_type": "code",
   "execution_count": null,
   "metadata": {},
   "outputs": [],
   "source": []
  }
 ],
 "metadata": {
  "kernelspec": {
   "display_name": "Python 3",
   "language": "python",
   "name": "python3"
  },
  "language_info": {
   "codemirror_mode": {
    "name": "ipython",
    "version": 3
   },
   "file_extension": ".py",
   "mimetype": "text/x-python",
   "name": "python",
   "nbconvert_exporter": "python",
   "pygments_lexer": "ipython3",
   "version": "3.11.3"
  },
  "orig_nbformat": 4
 },
 "nbformat": 4,
 "nbformat_minor": 2
}
