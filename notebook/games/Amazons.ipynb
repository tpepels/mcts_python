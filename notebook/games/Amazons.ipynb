{
 "cells": [
  {
   "cell_type": "code",
   "execution_count": null,
   "metadata": {},
   "outputs": [],
   "source": [
    "from games.amazons import *\n",
    "import random\n",
    "\n",
    "state = AmazonsGameState(board_size=8)\n",
    "N_turns = 20\n",
    "turn = 0\n",
    "while not state.is_terminal() and turn < N_turns:\n",
    "    turn += 1\n",
    "    actions = state.get_legal_actions()\n",
    "    if actions:\n",
    "        action = random.choice(actions)\n",
    "        state = state.apply_action(action)\n",
    "        \n",
    "moves = state.get_legal_actions()\n",
    "\n",
    "print(f\"Player: {state.player} | Turn: {turn} | Moves: {len(moves)}\")\n",
    "print(f\"Reward: {state.get_reward(1)}/{state.get_reward(2)}, Terminal: {state.is_terminal()}\")\n",
    "print(state.visualize())\n",
    "\n",
    "white_queens = state.white_queens\n",
    "black_queens = state.black_queens\n",
    "\n",
    "# ------------------------------------------------------------\n",
    "print(\"---------------\")\n",
    "print(f\"Evaluation: {evaluate_amazons(state, state.player)} (opponent: {evaluate_amazons(state, 3 - state.player)})\")\n",
    "print(\"---------------\")\n",
    "print(f\"Lieberum Evaluation: {evaluate_amazons_lieberum(state, state.player)} (opponent: {evaluate_amazons_lieberum(state, 3 - state.player)})\")\n",
    "print(\"---------------\")\n",
    "# -------------------------Reachable Squares Test-----------------------------------\n",
    "for queen in white_queens:\n",
    "    print(f\"White {queen} reachable squares: {count_reachable_squares(state.board, *queen)}\")\n",
    "for queen in black_queens:\n",
    "    print(f\"Black {queen} reachable squares: {count_reachable_squares(state.board, *queen)}\")\n",
    "print()\n",
    "# -------------------------Kill Save Queens Test-----------------------------------\n",
    "print(f\"White kill/save & imm moves: {kill_save_queens_immediate_moves(black_queens, white_queens, state.board)}\")\n",
    "print(f\"Black kill/save & imm moves: {kill_save_queens_immediate_moves(white_queens, black_queens, state.board)}\\n\")\n",
    "# -------------------------Mobility Heuristic-----------------------------------\n",
    "print(f\"White mobility: {mobility_heuristic(black_queens, white_queens, state.board)}\")\n",
    "print(f\"Black mobility: {mobility_heuristic(white_queens, black_queens, state.board)}\\n\")\n",
    "# --------------------------territory_heuristic------------------------------------\n",
    "print(f\"White territory: {territory_heuristic(black_queens, white_queens, state.board)}\")\n",
    "print(f\"Black territory: {territory_heuristic(white_queens, black_queens, state.board)}\\n\")"
   ]
  },
  {
   "cell_type": "code",
   "execution_count": null,
   "metadata": {},
   "outputs": [],
   "source": [
    "# state = AmazonsGameState(board_size=8)\n",
    "if not state.is_terminal():\n",
    "    rand_action = state.get_random_action()\n",
    "    print(rand_action)\n",
    "    state = state.apply_action(rand_action)\n",
    "else:\n",
    "    print(\"Game is terminal\")\n",
    "print(state.visualize())"
   ]
  },
  {
   "cell_type": "code",
   "execution_count": null,
   "metadata": {},
   "outputs": [],
   "source": []
  }
 ],
 "metadata": {
  "kernelspec": {
   "display_name": "Python 3",
   "language": "python",
   "name": "python3"
  },
  "language_info": {
   "codemirror_mode": {
    "name": "ipython",
    "version": 3
   },
   "file_extension": ".py",
   "mimetype": "text/x-python",
   "name": "python",
   "nbconvert_exporter": "python",
   "pygments_lexer": "ipython3",
   "version": "3.11.3"
  },
  "orig_nbformat": 4
 },
 "nbformat": 4,
 "nbformat_minor": 2
}
