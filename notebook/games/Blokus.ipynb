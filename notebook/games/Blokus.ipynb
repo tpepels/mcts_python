{
 "cells": [
  {
   "cell_type": "code",
   "execution_count": 3,
   "metadata": {},
   "outputs": [
    {
     "name": "stdout",
     "output_type": "stream",
     "text": [
      "The autoreload extension is already loaded. To reload it, use:\n",
      "  %reload_ext autoreload\n"
     ]
    }
   ],
   "source": [
    "%load_ext autoreload\n",
    "%autoreload 2"
   ]
  },
  {
   "cell_type": "code",
   "execution_count": 50,
   "metadata": {},
   "outputs": [
    {
     "name": "stdout",
     "output_type": "stream",
     "text": [
      "Player: 2\n",
      "Reward: 0/0, Terminal: False\n",
      "# # # # # # # # # # # # # # # # # # # # # #\n",
      "# \u001b[32m■\u001b[0m     \u001b[32m○\u001b[0m                               \u001b[31m▦\u001b[0m #\n",
      "# \u001b[32m■\u001b[0m \u001b[32m■\u001b[0m \u001b[32m■\u001b[0m                               \u001b[31m○\u001b[0m   #\n",
      "#   \u001b[32m■\u001b[0m   \u001b[32m○\u001b[0m                                 #\n",
      "# \u001b[32m○\u001b[0m   \u001b[32m■\u001b[0m                                   #\n",
      "#   \u001b[32m○\u001b[0m   \u001b[32m○\u001b[0m                                 #\n",
      "#                                         #\n",
      "#                                         #\n",
      "#                                         #\n",
      "#                                         #\n",
      "#                                         #\n",
      "#                                         #\n",
      "#                                         #\n",
      "#                                         #\n",
      "#                                         #\n",
      "#                                         #\n",
      "#                                         #\n",
      "#                                         #\n",
      "#                                         #\n",
      "#       \u001b[32m○\u001b[0m                             \u001b[31m○\u001b[0m   #\n",
      "# \u001b[32m■\u001b[0m \u001b[32m■\u001b[0m \u001b[32m■\u001b[0m                                 \u001b[31m▦\u001b[0m #\n",
      "# # # # # # # # # # # # # # # # # # # # # #\n",
      "1 actions: [(-1, -1, -1, -1)]\n"
     ]
    }
   ],
   "source": [
    "from games.blokus import *\n",
    "import numpy as np\n",
    "import random\n",
    "\n",
    "state = BlokusGameState()\n",
    "for n in range(15):  # Do some random actions on the board\n",
    "    if state.is_terminal():\n",
    "        break\n",
    "    actions = state.get_legal_actions()\n",
    "\n",
    "    if actions[0] == PASS_MOVE:\n",
    "        break\n",
    "    state = state.apply_action(random.choice(actions))\n",
    "\n",
    "\n",
    "moves = state.get_legal_actions()\n",
    "\n",
    "print(f\"Player: {state.player}\")\n",
    "print(f\"Reward: {state.get_reward(1)}/{state.get_reward(2)}, Terminal: {state.is_terminal()}\")\n",
    "print(state.visualize())\n",
    "print(f\"{len(moves)} actions: {state.get_legal_actions()}\")"
   ]
  },
  {
   "cell_type": "code",
   "execution_count": null,
   "metadata": {},
   "outputs": [],
   "source": [
    "state.get_legal_actions()\n",
    "print(state.positions_checked)"
   ]
  },
  {
   "cell_type": "code",
   "execution_count": null,
   "metadata": {},
   "outputs": [],
   "source": [
    "state.get_legal_actions_perimeter()"
   ]
  },
  {
   "cell_type": "code",
   "execution_count": null,
   "metadata": {},
   "outputs": [],
   "source": [
    "len(set(state.get_legal_actions()))"
   ]
  },
  {
   "cell_type": "code",
   "execution_count": null,
   "metadata": {},
   "outputs": [],
   "source": [
    "len(set(state.get_legal_actions_perimeter()))"
   ]
  },
  {
   "cell_type": "code",
   "execution_count": null,
   "metadata": {},
   "outputs": [],
   "source": [
    "len(set(moves))"
   ]
  },
  {
   "cell_type": "code",
   "execution_count": null,
   "metadata": {},
   "outputs": [],
   "source": [
    "for _ in range(100):\n",
    "    moves = state.get_legal_actions_perimeter()"
   ]
  },
  {
   "cell_type": "code",
   "execution_count": null,
   "metadata": {},
   "outputs": [],
   "source": [
    "print(unique_rotations)"
   ]
  },
  {
   "cell_type": "code",
   "execution_count": null,
   "metadata": {},
   "outputs": [],
   "source": [
    "print(state.visualize())\n",
    "print(state.n_turns)"
   ]
  }
 ],
 "metadata": {
  "kernelspec": {
   "display_name": ".venv",
   "language": "python",
   "name": "python3"
  },
  "language_info": {
   "codemirror_mode": {
    "name": "ipython",
    "version": 3
   },
   "file_extension": ".py",
   "mimetype": "text/x-python",
   "name": "python",
   "nbconvert_exporter": "python",
   "pygments_lexer": "ipython3",
   "version": "3.11.3"
  },
  "orig_nbformat": 4
 },
 "nbformat": 4,
 "nbformat_minor": 2
}
