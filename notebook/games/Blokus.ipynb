{
 "cells": [
  {
   "cell_type": "code",
   "execution_count": 1,
   "metadata": {},
   "outputs": [],
   "source": [
    "%load_ext autoreload\n",
    "%autoreload 2"
   ]
  },
  {
   "cell_type": "code",
   "execution_count": 2,
   "metadata": {},
   "outputs": [],
   "source": [
    "from games.blokus import *\n",
    "import numpy as np\n",
    "import random\n",
    "\n",
    "state = BlokusGameState()"
   ]
  },
  {
   "cell_type": "code",
   "execution_count": 44,
   "metadata": {},
   "outputs": [
    {
     "name": "stdout",
     "output_type": "stream",
     "text": [
      "Player: 1 Color: blue\n",
      "Reward: 0/0, Terminal: False n_turns: 42\n",
      "# # # # # # # # # # # # # # # # # # # # # #\n",
      "# \u001b[32m■\u001b[0m   \u001b[32m○\u001b[0m   \u001b[32m■\u001b[0m \u001b[32m■\u001b[0m \u001b[32m■\u001b[0m       \u001b[31m■\u001b[0m   \u001b[31m■\u001b[0m \u001b[31m■\u001b[0m \u001b[31m■\u001b[0m     \u001b[31m■\u001b[0m \u001b[31m■\u001b[0m \u001b[31m■\u001b[0m #\n",
      "#   \u001b[32m■\u001b[0m   \u001b[32m○\u001b[0m   \u001b[32m■\u001b[0m   \u001b[32m■\u001b[0m \u001b[32m■\u001b[0m     \u001b[31m■\u001b[0m \u001b[31m■\u001b[0m       \u001b[31m■\u001b[0m       #\n",
      "# \u001b[32m■\u001b[0m \u001b[32m■\u001b[0m       \u001b[32m■\u001b[0m   \u001b[32m■\u001b[0m   \u001b[32m■\u001b[0m \u001b[32m■\u001b[0m     \u001b[31m■\u001b[0m \u001b[31m■\u001b[0m \u001b[31m■\u001b[0m \u001b[31m■\u001b[0m       #\n",
      "#   \u001b[32m■\u001b[0m           \u001b[32m■\u001b[0m \u001b[32m■\u001b[0m       \u001b[31m■\u001b[0m         \u001b[31m■\u001b[0m \u001b[31m■\u001b[0m \u001b[31m■\u001b[0m #\n",
      "# \u001b[32m○\u001b[0m   \u001b[32m■\u001b[0m \u001b[32m■\u001b[0m \u001b[32m■\u001b[0m \u001b[32m■\u001b[0m \u001b[32m■\u001b[0m         \u001b[31m■\u001b[0m \u001b[31m■\u001b[0m \u001b[31m■\u001b[0m       \u001b[31m■\u001b[0m     #\n",
      "#   \u001b[32m■\u001b[0m           \u001b[32m■\u001b[0m   \u001b[31m■\u001b[0m \u001b[31m■\u001b[0m     \u001b[31m■\u001b[0m   \u001b[31m○\u001b[0m     \u001b[31m○\u001b[0m   #\n",
      "#   \u001b[32m■\u001b[0m \u001b[32m■\u001b[0m         \u001b[32m■\u001b[0m         \u001b[31m■\u001b[0m   \u001b[31m■\u001b[0m   \u001b[31m■\u001b[0m     \u001b[31m○\u001b[0m #\n",
      "# \u001b[32m○\u001b[0m       \u001b[33m○\u001b[0m     \u001b[32m■\u001b[0m   \u001b[32m■\u001b[0m \u001b[32m■\u001b[0m \u001b[32m■\u001b[0m \u001b[31m■\u001b[0m   \u001b[31m■\u001b[0m \u001b[31m■\u001b[0m \u001b[31m■\u001b[0m   \u001b[31m■\u001b[0m   #\n",
      "#   \u001b[33m■\u001b[0m \u001b[33m■\u001b[0m \u001b[33m■\u001b[0m       \u001b[32m■\u001b[0m \u001b[32m■\u001b[0m   \u001b[32m■\u001b[0m \u001b[32m■\u001b[0m \u001b[31m■\u001b[0m   \u001b[34m■\u001b[0m \u001b[34m■\u001b[0m \u001b[34m■\u001b[0m \u001b[31m■\u001b[0m \u001b[31m■\u001b[0m   #\n",
      "#   \u001b[33m■\u001b[0m     \u001b[33m■\u001b[0m \u001b[33m■\u001b[0m       \u001b[32m■\u001b[0m     \u001b[31m■\u001b[0m       \u001b[34m■\u001b[0m   \u001b[31m■\u001b[0m   #\n",
      "# \u001b[33m○\u001b[0m   \u001b[33m○\u001b[0m   \u001b[33m■\u001b[0m     \u001b[32m■\u001b[0m     \u001b[32m■\u001b[0m \u001b[32m■\u001b[0m \u001b[31m■\u001b[0m       \u001b[34m■\u001b[0m     \u001b[34m■\u001b[0m #\n",
      "#         \u001b[33m■\u001b[0m \u001b[33m■\u001b[0m   \u001b[32m■\u001b[0m \u001b[32m■\u001b[0m     \u001b[32m■\u001b[0m   \u001b[31m■\u001b[0m \u001b[31m■\u001b[0m     \u001b[34m■\u001b[0m \u001b[34m■\u001b[0m   #\n",
      "#   \u001b[33m○\u001b[0m         \u001b[33m■\u001b[0m   \u001b[32m■\u001b[0m \u001b[32m■\u001b[0m         \u001b[31m■\u001b[0m     \u001b[34m■\u001b[0m   \u001b[34m○\u001b[0m #\n",
      "#     \u001b[33m■\u001b[0m \u001b[33m■\u001b[0m \u001b[33m■\u001b[0m \u001b[33m■\u001b[0m   \u001b[33m■\u001b[0m     \u001b[34m■\u001b[0m \u001b[34m■\u001b[0m \u001b[34m■\u001b[0m         \u001b[34m■\u001b[0m \u001b[34m■\u001b[0m   #\n",
      "# \u001b[33m■\u001b[0m \u001b[33m■\u001b[0m     \u001b[33m■\u001b[0m   \u001b[34m■\u001b[0m \u001b[34m■\u001b[0m \u001b[34m■\u001b[0m   \u001b[33m■\u001b[0m   \u001b[34m■\u001b[0m     \u001b[34m■\u001b[0m \u001b[34m■\u001b[0m     \u001b[34m○\u001b[0m #\n",
      "# \u001b[33m■\u001b[0m \u001b[33m■\u001b[0m             \u001b[34m■\u001b[0m   \u001b[33m■\u001b[0m \u001b[33m■\u001b[0m   \u001b[34m■\u001b[0m \u001b[34m■\u001b[0m \u001b[34m■\u001b[0m   \u001b[34m○\u001b[0m     #\n",
      "# \u001b[33m■\u001b[0m     \u001b[33m■\u001b[0m \u001b[33m■\u001b[0m \u001b[33m■\u001b[0m \u001b[33m■\u001b[0m     \u001b[33m■\u001b[0m \u001b[33m■\u001b[0m   \u001b[34m■\u001b[0m       \u001b[34m■\u001b[0m     \u001b[34m○\u001b[0m #\n",
      "#   \u001b[33m■\u001b[0m \u001b[33m■\u001b[0m         \u001b[33m■\u001b[0m   \u001b[34m■\u001b[0m   \u001b[34m■\u001b[0m   \u001b[34m○\u001b[0m   \u001b[34m■\u001b[0m \u001b[34m■\u001b[0m   \u001b[34m■\u001b[0m   #\n",
      "# \u001b[33m■\u001b[0m \u001b[33m■\u001b[0m   \u001b[33m○\u001b[0m   \u001b[33m■\u001b[0m \u001b[33m■\u001b[0m   \u001b[34m■\u001b[0m \u001b[34m■\u001b[0m \u001b[34m■\u001b[0m   \u001b[34m○\u001b[0m   \u001b[34m○\u001b[0m   \u001b[34m■\u001b[0m   \u001b[34m■\u001b[0m   #\n",
      "# \u001b[33m■\u001b[0m   \u001b[33m○\u001b[0m     \u001b[33m■\u001b[0m \u001b[33m■\u001b[0m       \u001b[34m■\u001b[0m         \u001b[34m○\u001b[0m   \u001b[34m■\u001b[0m \u001b[34m■\u001b[0m \u001b[34m■\u001b[0m #\n",
      "# # # # # # # # # # # # # # # # # # # # # #\n",
      "26 actions\n",
      "{1: False, 2: False, 3: False, 4: False}\n",
      "Player pieces left: 21, Opponent pieces left: 21\n",
      "Player corners available: 12, Opponent corners available: 10\n",
      "Piece difference: 0, Corner difference: 2\n",
      "player_pieces_sizes=55, opponent_pieces_sizes=58\n",
      "Piece size difference: 3\n",
      "Score: 1.65\n"
     ]
    },
    {
     "data": {
      "text/plain": [
       "1.65"
      ]
     },
     "execution_count": 44,
     "metadata": {},
     "output_type": "execute_result"
    }
   ],
   "source": [
    "actions = state.get_legal_actions()\n",
    "state = state.apply_action(random.choice(actions))\n",
    "\n",
    "actions = state.get_legal_actions()\n",
    "colors = [\"green\", \"red\", \"blue\", \"yellow\"]\n",
    "print(f\"Player: {state.player} Color: {colors[state.color-1]}\")\n",
    "print(f\"Reward: {state.get_reward(1)}/{state.get_reward(2)}, Terminal: {state.is_terminal()} n_turns: {state.n_turns}\")\n",
    "print(state.visualize())\n",
    "print(f\"{len(actions)} actions\")\n",
    "print(state.passed)\n",
    "# TODO Hier was je gebleven, je moet de resultaten van de evaluatie nog checken\n",
    "evaluate_blokus(state)"
   ]
  }
 ],
 "metadata": {
  "kernelspec": {
   "display_name": ".venv",
   "language": "python",
   "name": "python3"
  },
  "language_info": {
   "codemirror_mode": {
    "name": "ipython",
    "version": 3
   },
   "file_extension": ".py",
   "mimetype": "text/x-python",
   "name": "python",
   "nbconvert_exporter": "python",
   "pygments_lexer": "ipython3",
   "version": "3.11.3"
  },
  "orig_nbformat": 4
 },
 "nbformat": 4,
 "nbformat_minor": 2
}
