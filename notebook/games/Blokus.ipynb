{
 "cells": [
  {
   "cell_type": "code",
   "execution_count": 1,
   "metadata": {},
   "outputs": [],
   "source": [
    "%load_ext autoreload\n",
    "%autoreload 2\n",
    "from games.blokus import *\n",
    "import numpy as np\n",
    "import random"
   ]
  },
  {
   "cell_type": "code",
   "execution_count": 2,
   "metadata": {},
   "outputs": [],
   "source": [
    "state = BlokusGameState()"
   ]
  },
  {
   "cell_type": "code",
   "execution_count": 3,
   "metadata": {},
   "outputs": [],
   "source": [
    "actions = state.get_legal_actions()\n",
    "state = state.apply_action(random.choice(actions))\n"
   ]
  },
  {
   "cell_type": "code",
   "execution_count": 4,
   "metadata": {},
   "outputs": [
    {
     "name": "stdout",
     "output_type": "stream",
     "text": [
      "Player: 2 Color: red\n",
      "Reward: 0/0, Terminal: False n_turns: 1\n",
      "# # # # # # # # # # # # # # # # # # # # # #\n",
      "# \u001b[32m○\u001b[0m                                     \u001b[32m○\u001b[0m #\n",
      "#                                         #\n",
      "#                                         #\n",
      "#                                         #\n",
      "#                                         #\n",
      "#                                         #\n",
      "#                                         #\n",
      "#                                         #\n",
      "#                                         #\n",
      "#                                         #\n",
      "#                                         #\n",
      "#                                         #\n",
      "#                                         #\n",
      "#                                         #\n",
      "#                                         #\n",
      "#                                         #\n",
      "#   \u001b[32m○\u001b[0m   \u001b[32m○\u001b[0m                                 #\n",
      "#     \u001b[32m■\u001b[0m                                   #\n",
      "#     \u001b[32m■\u001b[0m                                   #\n",
      "# \u001b[32m■\u001b[0m \u001b[32m■\u001b[0m \u001b[32m■\u001b[0m                                 \u001b[32m○\u001b[0m #\n",
      "# # # # # # # # # # # # # # # # # # # # # #\n",
      "149 actions\n",
      "{1: False, 2: False, 3: False, 4: False}\n",
      "******************************\n"
     ]
    },
    {
     "data": {
      "text/plain": [
       "-2.64"
      ]
     },
     "execution_count": 4,
     "metadata": {},
     "output_type": "execute_result"
    }
   ],
   "source": [
    "\n",
    "actions = state.get_legal_actions()\n",
    "colors = [\"green\", \"red\", \"blue\", \"yellow\"]\n",
    "print(f\"Player: {state.player} Color: {colors[state.color-1]}\")\n",
    "print(f\"Reward: {state.get_reward(1)}/{state.get_reward(2)}, Terminal: {state.is_terminal()} n_turns: {state.n_turns}\")\n",
    "print(state.visualize())\n",
    "print(f\"{len(actions)} actions\")\n",
    "print(state.passed)\n",
    "print(\"***\"*10)\n",
    "evaluate_blokus(state)"
   ]
  },
  {
   "cell_type": "code",
   "execution_count": 36,
   "metadata": {},
   "outputs": [
    {
     "name": "stdout",
     "output_type": "stream",
     "text": [
      "(12, 1, 14, 3)\n",
      "# # # # # # # # # # # # # # # # # # # # # #\n",
      "# \u001b[31m■\u001b[0m   \u001b[31m○\u001b[0m   \u001b[31m■\u001b[0m \u001b[31m■\u001b[0m \u001b[31m■\u001b[0m             \u001b[34m■\u001b[0m \u001b[34m■\u001b[0m \u001b[34m■\u001b[0m \u001b[34m■\u001b[0m   \u001b[34m■\u001b[0m \u001b[34m■\u001b[0m #\n",
      "#   \u001b[31m■\u001b[0m   \u001b[31m■\u001b[0m       \u001b[31m○\u001b[0m         \u001b[34m○\u001b[0m         \u001b[34m■\u001b[0m   \u001b[34m■\u001b[0m #\n",
      "#   \u001b[31m■\u001b[0m \u001b[31m■\u001b[0m \u001b[31m■\u001b[0m   \u001b[31m■\u001b[0m       \u001b[31m○\u001b[0m   \u001b[31m○\u001b[0m           \u001b[34m■\u001b[0m \u001b[34m■\u001b[0m   #\n",
      "# \u001b[31m○\u001b[0m       \u001b[31m■\u001b[0m \u001b[31m■\u001b[0m   \u001b[31m○\u001b[0m \u001b[31m○\u001b[0m   \u001b[31m■\u001b[0m       \u001b[34m○\u001b[0m   \u001b[34m○\u001b[0m   \u001b[34m■\u001b[0m   #\n",
      "#     \u001b[31m■\u001b[0m \u001b[31m■\u001b[0m     \u001b[31m■\u001b[0m     \u001b[31m■\u001b[0m \u001b[31m■\u001b[0m         \u001b[34m■\u001b[0m     \u001b[34m■\u001b[0m   #\n",
      "#   \u001b[31m○\u001b[0m     \u001b[31m○\u001b[0m   \u001b[31m■\u001b[0m     \u001b[31m■\u001b[0m           \u001b[34m■\u001b[0m \u001b[34m■\u001b[0m \u001b[34m■\u001b[0m   \u001b[34m○\u001b[0m #\n",
      "#         \u001b[31m○\u001b[0m   \u001b[31m■\u001b[0m \u001b[31m■\u001b[0m \u001b[31m■\u001b[0m   \u001b[34m■\u001b[0m \u001b[34m■\u001b[0m \u001b[34m■\u001b[0m \u001b[34m■\u001b[0m \u001b[34m■\u001b[0m     \u001b[34m■\u001b[0m     #\n",
      "#       \u001b[31m○\u001b[0m   \u001b[31m■\u001b[0m       \u001b[31m○\u001b[0m           \u001b[34m■\u001b[0m       \u001b[33m○\u001b[0m #\n",
      "#         \u001b[31m■\u001b[0m \u001b[31m■\u001b[0m \u001b[31m■\u001b[0m             \u001b[34m○\u001b[0m   \u001b[34m■\u001b[0m   \u001b[33m■\u001b[0m \u001b[33m■\u001b[0m   #\n",
      "#       \u001b[31m○\u001b[0m     \u001b[31m■\u001b[0m           \u001b[34m○\u001b[0m   \u001b[34m■\u001b[0m   \u001b[34m■\u001b[0m   \u001b[33m■\u001b[0m \u001b[33m■\u001b[0m #\n",
      "#           \u001b[31m○\u001b[0m   \u001b[31m○\u001b[0m           \u001b[34m■\u001b[0m \u001b[34m■\u001b[0m \u001b[34m■\u001b[0m       \u001b[33m■\u001b[0m #\n",
      "# \u001b[32m○\u001b[0m       \u001b[32m○\u001b[0m               \u001b[34m○\u001b[0m   \u001b[34m■\u001b[0m     \u001b[33m■\u001b[0m \u001b[33m■\u001b[0m   #\n",
      "#   \u001b[32m■\u001b[0m \u001b[32m■\u001b[0m \u001b[32m■\u001b[0m       \u001b[32m○\u001b[0m           \u001b[34m○\u001b[0m   \u001b[34m○\u001b[0m   \u001b[33m■\u001b[0m \u001b[33m■\u001b[0m \u001b[33m■\u001b[0m #\n",
      "# \u001b[32m○\u001b[0m   \u001b[32m■\u001b[0m \u001b[32m■\u001b[0m   \u001b[32m■\u001b[0m \u001b[32m■\u001b[0m     \u001b[32m○\u001b[0m             \u001b[33m■\u001b[0m       #\n",
      "#   \u001b[32m○\u001b[0m     \u001b[32m■\u001b[0m \u001b[32m■\u001b[0m   \u001b[32m■\u001b[0m \u001b[32m■\u001b[0m   \u001b[32m○\u001b[0m           \u001b[33m■\u001b[0m \u001b[33m■\u001b[0m     #\n",
      "# \u001b[32m■\u001b[0m   \u001b[32m■\u001b[0m     \u001b[32m■\u001b[0m     \u001b[32m■\u001b[0m \u001b[32m■\u001b[0m   \u001b[32m○\u001b[0m \u001b[33m○\u001b[0m         \u001b[33m■\u001b[0m     #\n",
      "# \u001b[32m■\u001b[0m \u001b[32m■\u001b[0m   \u001b[32m■\u001b[0m \u001b[32m■\u001b[0m   \u001b[32m■\u001b[0m       \u001b[32m■\u001b[0m     \u001b[33m■\u001b[0m \u001b[33m■\u001b[0m \u001b[33m■\u001b[0m   \u001b[33m■\u001b[0m     #\n",
      "# \u001b[32m■\u001b[0m   \u001b[32m■\u001b[0m     \u001b[32m■\u001b[0m \u001b[32m■\u001b[0m \u001b[32m■\u001b[0m \u001b[32m■\u001b[0m   \u001b[32m■\u001b[0m   \u001b[33m■\u001b[0m       \u001b[33m■\u001b[0m     \u001b[33m■\u001b[0m #\n",
      "#     \u001b[32m■\u001b[0m   \u001b[32m○\u001b[0m         \u001b[32m■\u001b[0m \u001b[32m■\u001b[0m \u001b[32m■\u001b[0m \u001b[33m■\u001b[0m   \u001b[33m■\u001b[0m \u001b[33m■\u001b[0m   \u001b[33m■\u001b[0m \u001b[33m■\u001b[0m \u001b[33m■\u001b[0m #\n",
      "# \u001b[32m■\u001b[0m \u001b[32m■\u001b[0m \u001b[32m■\u001b[0m           \u001b[32m○\u001b[0m           \u001b[33m■\u001b[0m   \u001b[33m○\u001b[0m     \u001b[33m■\u001b[0m #\n",
      "# # # # # # # # # # # # # # # # # # # # # #\n"
     ]
    }
   ],
   "source": [
    "rand_action = state.get_random_action()\n",
    "print(rand_action)\n",
    "state = state.apply_action(rand_action)\n",
    "print(state.visualize())"
   ]
  }
 ],
 "metadata": {
  "kernelspec": {
   "display_name": ".venv",
   "language": "python",
   "name": "python3"
  },
  "language_info": {
   "codemirror_mode": {
    "name": "ipython",
    "version": 3
   },
   "file_extension": ".py",
   "mimetype": "text/x-python",
   "name": "python",
   "nbconvert_exporter": "python",
   "pygments_lexer": "ipython3",
   "version": "3.11.3"
  },
  "orig_nbformat": 4
 },
 "nbformat": 4,
 "nbformat_minor": 2
}
