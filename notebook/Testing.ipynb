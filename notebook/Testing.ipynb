{
 "cells": [
  {
   "cell_type": "code",
   "execution_count": null,
   "metadata": {},
   "outputs": [],
   "source": [
    "from games.gamestate import win, loss\n",
    "def play_out(state):\n",
    "    turns = 0\n",
    "    while not state.is_terminal():\n",
    "        turns += 1\n",
    "        best_action = state.get_random_action()\n",
    "        state.apply_action(best_action, playout=True)\n",
    "        print(state.visualize())\n",
    "    # Map the result to the players\n",
    "    reward = state.get_reward(1)\n",
    "\n",
    "    if reward == win:\n",
    "        return (1.0, 0.0)\n",
    "    elif reward == loss:\n",
    "        return (0.0, 1.0)\n",
    "    else:\n",
    "        return (0.5, 0.5)"
   ]
  },
  {
   "cell_type": "code",
   "execution_count": null,
   "metadata": {},
   "outputs": [],
   "source": [
    "from games.breakthrough import BreakthroughGameState\n",
    "\n",
    "play_out(state=BreakthroughGameState())"
   ]
  },
  {
   "cell_type": "code",
   "execution_count": 2,
   "metadata": {},
   "outputs": [
    {
     "ename": "ImportError",
     "evalue": "cannot import name 'SPIRALS' from 'games.tictactoe' (/Users/tom/github/mcts_python/games/tictactoe.cpython-311-darwin.so)",
     "output_type": "error",
     "traceback": [
      "\u001b[0;31m---------------------------------------------------------------------------\u001b[0m",
      "\u001b[0;31mImportError\u001b[0m                               Traceback (most recent call last)",
      "Cell \u001b[0;32mIn[2], line 1\u001b[0m\n\u001b[0;32m----> 1\u001b[0m \u001b[39mfrom\u001b[39;00m \u001b[39mgames\u001b[39;00m\u001b[39m.\u001b[39;00m\u001b[39mtictactoe\u001b[39;00m \u001b[39mimport\u001b[39;00m SPIRALS\n",
      "\u001b[0;31mImportError\u001b[0m: cannot import name 'SPIRALS' from 'games.tictactoe' (/Users/tom/github/mcts_python/games/tictactoe.cpython-311-darwin.so)"
     ]
    }
   ],
   "source": [
    "from games.tictactoe import SPIRALS"
   ]
  }
 ],
 "metadata": {
  "kernelspec": {
   "display_name": ".venv",
   "language": "python",
   "name": "python3"
  },
  "language_info": {
   "codemirror_mode": {
    "name": "ipython",
    "version": 3
   },
   "file_extension": ".py",
   "mimetype": "text/x-python",
   "name": "python",
   "nbconvert_exporter": "python",
   "pygments_lexer": "ipython3",
   "version": "3.11.3"
  },
  "orig_nbformat": 4
 },
 "nbformat": 4,
 "nbformat_minor": 2
}
