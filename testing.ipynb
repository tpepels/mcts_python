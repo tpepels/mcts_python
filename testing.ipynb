{
 "cells": [
  {
   "cell_type": "code",
   "execution_count": 7,
   "metadata": {},
   "outputs": [
    {
     "name": "stdout",
     "output_type": "stream",
     "text": [
      "[]\n",
      "1\n",
      "- - - - . - . . . -\n",
      "B - - - . . - - - -\n",
      "- - - - - . - - - W\n",
      ". . . - - . - - - -\n",
      "- - . - . - - - - -\n",
      "- - - . - - - - W -\n",
      "B - - - - - B - - -\n",
      "- - - - - - - - - .\n",
      "- . - - - - B W - -\n",
      "- - - W - - - - - -\n",
      "\n",
      "\n",
      "-1\n"
     ]
    }
   ],
   "source": [
    "from games.amazons import AmazonsGameState,visualize_amazons\n",
    "import random\n",
    "\n",
    "state = AmazonsGameState()\n",
    "for n in range(100):  # Do 100 random actions on the board\n",
    "    if state.is_terminal():\n",
    "        break\n",
    "    actions = state.get_legal_actions()\n",
    "    state = state.apply_action(*random.sample(actions, 1))\n",
    "\n",
    "actions = state.get_legal_actions()\n",
    "print(actions)    \n",
    "print(state.player)\n",
    "print(visualize_amazons(state))\n",
    "print(state.get_reward())"
   ]
  },
  {
   "cell_type": "code",
   "execution_count": 5,
   "metadata": {},
   "outputs": [
    {
     "name": "stdout",
     "output_type": "stream",
     "text": [
      "[\n",
      "200, 200, 200, 200, 200, 200, 200, 200\n",
      "200, 200, 200, 200, 200, 200, 200, 200\n",
      "0, 0, 0, 0, 0, 0, 0, 0\n",
      "0, 0, 0, 0, 0, 0, 0, 0\n",
      "0, 0, 0, 0, 0, 0, 0, 0\n",
      "0, 0, 0, 0, 0, 0, 0, 0\n",
      "100, 100, 100, 100, 100, 100, 100, 100\n",
      "100, 100, 100, 100, 100, 100, 100, 100\n",
      "]\n"
     ]
    }
   ],
   "source": [
    "from games.breakthrough import BreakthroughGameState, visualize_breakthrough\n",
    "\n",
    "state = BreakthroughGameState()\n",
    "visualize_breakthrough(state, characters=False)"
   ]
  }
 ],
 "metadata": {
  "kernelspec": {
   "display_name": "Python 3",
   "language": "python",
   "name": "python3"
  },
  "language_info": {
   "codemirror_mode": {
    "name": "ipython",
    "version": 3
   },
   "file_extension": ".py",
   "mimetype": "text/x-python",
   "name": "python",
   "nbconvert_exporter": "python",
   "pygments_lexer": "ipython3",
   "version": "3.9.6"
  },
  "orig_nbformat": 4
 },
 "nbformat": 4,
 "nbformat_minor": 2
}
