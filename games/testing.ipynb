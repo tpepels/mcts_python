{
 "cells": [
  {
   "cell_type": "code",
   "execution_count": 2,
   "metadata": {},
   "outputs": [
    {
     "name": "stdout",
     "output_type": "stream",
     "text": [
      ". . . W . . W . . .\n",
      ". . . . . . . . . .\n",
      ". . . . . . . . . .\n",
      "W . . . . . . . . W\n",
      ". . . . . . . . . .\n",
      ". . . . . . . . . .\n",
      "B . . . . . . . . B\n",
      ". . . . . . . . . .\n",
      ". . . . . . . . . .\n",
      ". . . B . . B . . .\n",
      "\n",
      "\n",
      "2048\n"
     ]
    }
   ],
   "source": [
    "from games.amazons import AmazonsGameState,visualize_amazons\n",
    "\n",
    "state = AmazonsGameState()\n",
    "visualize_amazons(state, True)\n",
    "actions = state.get_legal_actions()\n",
    "print(len(actions))"
   ]
  },
  {
   "cell_type": "code",
   "execution_count": 2,
   "metadata": {},
   "outputs": [
    {
     "name": "stdout",
     "output_type": "stream",
     "text": [
      "[\n",
      "200, 200, 200, 200, 200, 200, 200, 200\n",
      "200, 200, 200, 200, 200, 200, 200, 200\n",
      "0, 0, 0, 0, 0, 0, 0, 0\n",
      "0, 0, 0, 0, 0, 0, 0, 0\n",
      "0, 0, 0, 0, 0, 0, 0, 0\n",
      "0, 0, 0, 0, 0, 0, 0, 0\n",
      "100, 100, 100, 100, 100, 100, 100, 100\n",
      "100, 100, 100, 100, 100, 100, 100, 100\n",
      "]\n"
     ]
    }
   ],
   "source": [
    "from games.breakthrough import BreakthroughGameState, visualize_breakthrough\n",
    "\n",
    "state = BreakthroughGameState()\n",
    "visualize_breakthrough(state, characters=False)"
   ]
  }
 ],
 "metadata": {
  "kernelspec": {
   "display_name": "Python 3",
   "language": "python",
   "name": "python3"
  },
  "language_info": {
   "codemirror_mode": {
    "name": "ipython",
    "version": 3
   },
   "file_extension": ".py",
   "mimetype": "text/x-python",
   "name": "python",
   "nbconvert_exporter": "python",
   "pygments_lexer": "ipython3",
   "version": "3.9.6"
  },
  "orig_nbformat": 4
 },
 "nbformat": 4,
 "nbformat_minor": 2
}
